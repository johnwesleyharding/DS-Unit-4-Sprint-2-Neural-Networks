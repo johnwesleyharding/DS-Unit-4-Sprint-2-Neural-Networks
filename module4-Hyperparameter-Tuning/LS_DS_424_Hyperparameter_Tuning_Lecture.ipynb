{
 "cells": [
  {
   "cell_type": "markdown",
   "metadata": {
    "colab_type": "text",
    "id": "41TS0Sa0rDNx"
   },
   "source": [
    "Lambda School Data Science\n",
    "\n",
    "*Unit 4, Sprint 2, Module 4*\n",
    "\n",
    "---"
   ]
  },
  {
   "cell_type": "markdown",
   "metadata": {
    "colab_type": "text",
    "id": "41TS0Sa0rDNx"
   },
   "source": [
    "# Neural Networks & GPUs (Prepare)\n",
    "*aka Hyperparameter Tuning*\n",
    "\n",
    "*aka Big Servers for Big Problems*"
   ]
  },
  {
   "cell_type": "markdown",
   "metadata": {
    "colab_type": "text",
    "id": "41TS0Sa0rDNx"
   },
   "source": [
    "## Learning Objectives\n",
    "* <a href=\"#p1\">Part 1</a>: Describe the major hyperparemeters to tune\n",
    "* <a href=\"#p2\">Part 2</a>: Implement an experiment tracking framework\n",
    "* <a href=\"#p3\">Part 3</a>: Search the hyperparameter space using RandomSearch (Optional)"
   ]
  },
  {
   "cell_type": "code",
   "execution_count": 1,
   "metadata": {},
   "outputs": [],
   "source": [
    "wandb_group = \"ds8\"\n",
    "wandb_project = \"inclass\""
   ]
  },
  {
   "cell_type": "markdown",
   "metadata": {},
   "source": [
    "# Hyperparameter Options (Learn)\n",
    "<a id=\"p1\"></a>"
   ]
  },
  {
   "cell_type": "markdown",
   "metadata": {},
   "source": [
    "## Overview\n",
    "\n",
    "Hyperparameter tuning is much more important with neural networks than it has been with any other models that we have considered up to this point. Other supervised learning models might have a couple of parameters, but neural networks can have dozens. These can substantially affect the accuracy of our models and although it can be a time consuming process is a necessary step when working with neural networks.\n",
    "​\n",
    "Hyperparameter tuning comes with a challenge. How can we compare models specified with different hyperparameters if our model's final error metric can vary somewhat erratically? How do we avoid just getting unlucky and selecting the wrong hyperparameter? This is a problem that to a certain degree we just have to live with as we test and test again. However, we can minimize it somewhat by pairing our experiments with Cross Validation to reduce the variance of our final accuracy values."
   ]
  },
  {
   "cell_type": "markdown",
   "metadata": {
    "colab_type": "text",
    "id": "0s0o2pqBs88q"
   },
   "source": [
    "### Load Boston Housing Data"
   ]
  },
  {
   "cell_type": "code",
   "execution_count": 2,
   "metadata": {},
   "outputs": [],
   "source": [
    "import warnings\n",
    "warnings.filterwarnings('ignore')\n",
    "\n",
    "from tensorflow.keras.datasets import boston_housing\n",
    "\n",
    "(x_train, y_train), (x_test, y_test) = boston_housing.load_data()"
   ]
  },
  {
   "cell_type": "markdown",
   "metadata": {
    "colab_type": "text",
    "id": "Pm7zow5IvaTt"
   },
   "source": [
    "### Normalizing Input Data\n",
    "\n",
    "It's not 100% necessary to normalize/scale your input data before feeding it to a neural network, the network can learn the appropriate weights to deal with data of as long as it is numerically represented,  but it is recommended as it can help **make training faster** and **reduces the chances that gradient descent might get stuck in a local optimum**.\n",
    "\n",
    "<https://stackoverflow.com/questions/4674623/why-do-we-have-to-normalize-the-input-for-an-artificial-neural-network>"
   ]
  },
  {
   "cell_type": "code",
   "execution_count": 3,
   "metadata": {},
   "outputs": [
    {
     "name": "stdout",
     "output_type": "stream",
     "text": [
      "[[-0.27224633 -0.48361547 -0.43576161 -0.25683275 -0.1652266  -0.1764426\n",
      "   0.81306188  0.1166983  -0.62624905 -0.59517003  1.14850044  0.44807713\n",
      "   0.8252202 ]\n",
      " [-0.40342651  2.99178419 -1.33391162 -0.25683275 -1.21518188  1.89434613\n",
      "  -1.91036058  1.24758524 -0.85646254 -0.34843254 -1.71818909  0.43190599\n",
      "  -1.32920239]\n",
      " [ 0.1249402  -0.48361547  1.0283258  -0.25683275  0.62864202 -1.82968811\n",
      "   1.11048828 -1.18743907  1.67588577  1.5652875   0.78447637  0.22061726\n",
      "  -1.30850006]\n",
      " [-0.40149354 -0.48361547 -0.86940196 -0.25683275 -0.3615597  -0.3245576\n",
      "  -1.23667187  1.10717989 -0.51114231 -1.094663    0.78447637  0.44807713\n",
      "  -0.65292624]\n",
      " [-0.0056343  -0.48361547  1.0283258  -0.25683275  1.32861221  0.15364225\n",
      "   0.69480801 -0.57857203  1.67588577  1.5652875   0.78447637  0.3898823\n",
      "   0.26349695]\n",
      " [-0.37502238 -0.48361547 -0.54747912 -0.25683275 -0.54935658 -0.78865126\n",
      "   0.18954148  0.48371503 -0.51114231 -0.71552978  0.51145832  0.38669063\n",
      "  -0.13812828]\n",
      " [ 0.58963463 -0.48361547  1.0283258  -0.25683275  1.21764133 -1.03127774\n",
      "   1.11048828 -1.06518235  1.67588577  1.5652875   0.78447637  0.44807713\n",
      "   1.49873604]\n",
      " [ 0.0381708  -0.48361547  1.24588095 -0.25683275  2.67733525 -1.12719983\n",
      "   1.11048828 -1.14833073 -0.51114231 -0.01744323 -1.71818909  0.44807713\n",
      "   1.88793986]\n",
      " [-0.17228416 -0.48361547  1.24588095 -0.25683275  2.67733525 -0.90150078\n",
      "   1.11048828 -1.09664657 -0.51114231 -0.01744323 -1.71818909 -1.97365769\n",
      "   0.53952803]\n",
      " [-0.22932104 -0.48361547  1.58544339 -0.25683275  0.56888847 -1.76056777\n",
      "   1.11048828 -1.13471925 -0.62624905  0.18716835  1.23950646  0.44807713\n",
      "   2.99068404]]\n"
     ]
    }
   ],
   "source": [
    "from sklearn.preprocessing import StandardScaler\n",
    "\n",
    "scaler = StandardScaler()\n",
    "\n",
    "x_train = scaler.fit_transform(x_train)\n",
    "x_test = scaler.transform(x_test)\n",
    "print(x_train[:10])"
   ]
  },
  {
   "cell_type": "markdown",
   "metadata": {
    "colab_type": "text",
    "id": "l6hgCWbir90R"
   },
   "source": [
    "### Model Validation using an automatic verification Dataset\n",
    "\n",
    "Instead of doing seperate train test split class, Keras has a really nice feature that you can set the validation.data argument when fitting your model and Keras will take that portion of your test data and use it as a validation dataset. "
   ]
  },
  {
   "cell_type": "code",
   "execution_count": 4,
   "metadata": {
    "colab": {
     "base_uri": "https://localhost:8080/",
     "height": 1750
    },
    "colab_type": "code",
    "id": "GMXVfmzXp1Oo",
    "outputId": "b05e251e-508f-46e6-865b-f869ae2a5dc4"
   },
   "outputs": [
    {
     "name": "stderr",
     "output_type": "stream",
     "text": [
      "WARNING: Logging before flag parsing goes to stderr.\n",
      "W0123 12:23:01.590157  2304 deprecation.py:506] From C:\\Users\\John\\Anaconda3\\envs\\U4-S2-NN\\lib\\site-packages\\tensorflow\\python\\ops\\init_ops.py:1251: calling VarianceScaling.__init__ (from tensorflow.python.ops.init_ops) with dtype is deprecated and will be removed in a future version.\n",
      "Instructions for updating:\n",
      "Call initializer instance with the dtype argument instead of passing it to the constructor\n"
     ]
    },
    {
     "name": "stdout",
     "output_type": "stream",
     "text": [
      "Train on 404 samples, validate on 102 samples\n",
      "Epoch 1/75\n",
      "404/404 [==============================] - 0s 346us/sample - loss: 523.5956 - mean_squared_error: 523.5956 - mean_absolute_error: 20.8978 - val_loss: 450.7240 - val_mean_squared_error: 450.7240 - val_mean_absolute_error: 19.1575\n",
      "Epoch 2/75\n",
      "404/404 [==============================] - 0s 106us/sample - loss: 306.1010 - mean_squared_error: 306.1010 - mean_absolute_error: 15.1063 - val_loss: 162.4555 - val_mean_squared_error: 162.4556 - val_mean_absolute_error: 10.7337\n",
      "Epoch 3/75\n",
      "404/404 [==============================] - 0s 99us/sample - loss: 92.5113 - mean_squared_error: 92.5112 - mean_absolute_error: 7.5047 - val_loss: 56.8381 - val_mean_squared_error: 56.8381 - val_mean_absolute_error: 6.0650\n",
      "Epoch 4/75\n",
      "404/404 [==============================] - 0s 99us/sample - loss: 39.9487 - mean_squared_error: 39.9487 - mean_absolute_error: 4.6949 - val_loss: 34.8338 - val_mean_squared_error: 34.8338 - val_mean_absolute_error: 4.7281\n",
      "Epoch 5/75\n",
      "404/404 [==============================] - 0s 106us/sample - loss: 26.3152 - mean_squared_error: 26.3152 - mean_absolute_error: 3.7509 - val_loss: 27.8557 - val_mean_squared_error: 27.8557 - val_mean_absolute_error: 4.0436\n",
      "Epoch 6/75\n",
      "404/404 [==============================] - 0s 101us/sample - loss: 22.0190 - mean_squared_error: 22.0190 - mean_absolute_error: 3.3326 - val_loss: 25.9182 - val_mean_squared_error: 25.9181 - val_mean_absolute_error: 3.8632\n",
      "Epoch 7/75\n",
      "404/404 [==============================] - 0s 104us/sample - loss: 19.7307 - mean_squared_error: 19.7307 - mean_absolute_error: 3.1362 - val_loss: 24.3977 - val_mean_squared_error: 24.3977 - val_mean_absolute_error: 3.6835\n",
      "Epoch 8/75\n",
      "404/404 [==============================] - 0s 106us/sample - loss: 18.1106 - mean_squared_error: 18.1106 - mean_absolute_error: 2.9808 - val_loss: 24.4071 - val_mean_squared_error: 24.4071 - val_mean_absolute_error: 3.6115\n",
      "Epoch 9/75\n",
      "404/404 [==============================] - 0s 97us/sample - loss: 16.6635 - mean_squared_error: 16.6635 - mean_absolute_error: 2.8530 - val_loss: 23.5841 - val_mean_squared_error: 23.5841 - val_mean_absolute_error: 3.5014\n",
      "Epoch 10/75\n",
      "404/404 [==============================] - 0s 97us/sample - loss: 15.4298 - mean_squared_error: 15.4298 - mean_absolute_error: 2.7397 - val_loss: 23.3980 - val_mean_squared_error: 23.3980 - val_mean_absolute_error: 3.4536\n",
      "Epoch 11/75\n",
      "404/404 [==============================] - 0s 94us/sample - loss: 14.3957 - mean_squared_error: 14.3957 - mean_absolute_error: 2.6818 - val_loss: 25.4805 - val_mean_squared_error: 25.4805 - val_mean_absolute_error: 3.5427\n",
      "Epoch 12/75\n",
      "404/404 [==============================] - 0s 97us/sample - loss: 13.5726 - mean_squared_error: 13.5726 - mean_absolute_error: 2.6116 - val_loss: 24.4095 - val_mean_squared_error: 24.4095 - val_mean_absolute_error: 3.4361\n",
      "Epoch 13/75\n",
      "404/404 [==============================] - 0s 94us/sample - loss: 12.8918 - mean_squared_error: 12.8918 - mean_absolute_error: 2.5414 - val_loss: 23.7582 - val_mean_squared_error: 23.7582 - val_mean_absolute_error: 3.3652\n",
      "Epoch 14/75\n",
      "404/404 [==============================] - 0s 94us/sample - loss: 12.3283 - mean_squared_error: 12.3282 - mean_absolute_error: 2.4859 - val_loss: 24.2968 - val_mean_squared_error: 24.2968 - val_mean_absolute_error: 3.4038\n",
      "Epoch 15/75\n",
      "404/404 [==============================] - 0s 104us/sample - loss: 12.0311 - mean_squared_error: 12.0311 - mean_absolute_error: 2.4516 - val_loss: 24.0360 - val_mean_squared_error: 24.0360 - val_mean_absolute_error: 3.3514\n",
      "Epoch 16/75\n",
      "404/404 [==============================] - 0s 126us/sample - loss: 11.5216 - mean_squared_error: 11.5216 - mean_absolute_error: 2.4274 - val_loss: 23.8398 - val_mean_squared_error: 23.8398 - val_mean_absolute_error: 3.3103\n",
      "Epoch 17/75\n",
      "404/404 [==============================] - 0s 92us/sample - loss: 11.1069 - mean_squared_error: 11.1069 - mean_absolute_error: 2.3722 - val_loss: 23.4023 - val_mean_squared_error: 23.4023 - val_mean_absolute_error: 3.3026\n",
      "Epoch 18/75\n",
      "404/404 [==============================] - 0s 87us/sample - loss: 10.8355 - mean_squared_error: 10.8355 - mean_absolute_error: 2.3433 - val_loss: 24.5718 - val_mean_squared_error: 24.5718 - val_mean_absolute_error: 3.3333\n",
      "Epoch 19/75\n",
      "404/404 [==============================] - 0s 89us/sample - loss: 10.6401 - mean_squared_error: 10.6401 - mean_absolute_error: 2.3513 - val_loss: 24.0481 - val_mean_squared_error: 24.0481 - val_mean_absolute_error: 3.2944\n",
      "Epoch 20/75\n",
      "404/404 [==============================] - 0s 101us/sample - loss: 10.2946 - mean_squared_error: 10.2946 - mean_absolute_error: 2.2924 - val_loss: 23.1958 - val_mean_squared_error: 23.1958 - val_mean_absolute_error: 3.2095\n",
      "Epoch 21/75\n",
      "404/404 [==============================] - 0s 92us/sample - loss: 10.1132 - mean_squared_error: 10.1132 - mean_absolute_error: 2.2753 - val_loss: 25.6229 - val_mean_squared_error: 25.6229 - val_mean_absolute_error: 3.2957\n",
      "Epoch 22/75\n",
      "404/404 [==============================] - 0s 89us/sample - loss: 10.0353 - mean_squared_error: 10.0353 - mean_absolute_error: 2.3403 - val_loss: 22.0644 - val_mean_squared_error: 22.0644 - val_mean_absolute_error: 3.1155\n",
      "Epoch 23/75\n",
      "404/404 [==============================] - 0s 87us/sample - loss: 9.7196 - mean_squared_error: 9.7196 - mean_absolute_error: 2.2237 - val_loss: 24.9294 - val_mean_squared_error: 24.9294 - val_mean_absolute_error: 3.2637\n",
      "Epoch 24/75\n",
      "404/404 [==============================] - 0s 84us/sample - loss: 9.6648 - mean_squared_error: 9.6648 - mean_absolute_error: 2.2476 - val_loss: 23.6702 - val_mean_squared_error: 23.6702 - val_mean_absolute_error: 3.2316\n",
      "Epoch 25/75\n",
      "404/404 [==============================] - 0s 87us/sample - loss: 9.5148 - mean_squared_error: 9.5148 - mean_absolute_error: 2.2148 - val_loss: 22.7332 - val_mean_squared_error: 22.7332 - val_mean_absolute_error: 3.1395\n",
      "Epoch 26/75\n",
      "404/404 [==============================] - 0s 87us/sample - loss: 9.2357 - mean_squared_error: 9.2357 - mean_absolute_error: 2.1934 - val_loss: 22.5190 - val_mean_squared_error: 22.5190 - val_mean_absolute_error: 3.1133\n",
      "Epoch 27/75\n",
      "404/404 [==============================] - 0s 89us/sample - loss: 9.2789 - mean_squared_error: 9.2789 - mean_absolute_error: 2.1863 - val_loss: 23.2055 - val_mean_squared_error: 23.2055 - val_mean_absolute_error: 3.1286\n",
      "Epoch 28/75\n",
      "404/404 [==============================] - 0s 92us/sample - loss: 9.1559 - mean_squared_error: 9.1559 - mean_absolute_error: 2.1827 - val_loss: 21.3131 - val_mean_squared_error: 21.3131 - val_mean_absolute_error: 3.0133\n",
      "Epoch 29/75\n",
      "404/404 [==============================] - 0s 96us/sample - loss: 8.8878 - mean_squared_error: 8.8878 - mean_absolute_error: 2.1344 - val_loss: 22.3774 - val_mean_squared_error: 22.3774 - val_mean_absolute_error: 3.0388\n",
      "Epoch 30/75\n",
      "404/404 [==============================] - 0s 97us/sample - loss: 8.7904 - mean_squared_error: 8.7904 - mean_absolute_error: 2.1144 - val_loss: 23.3565 - val_mean_squared_error: 23.3565 - val_mean_absolute_error: 3.1380\n",
      "Epoch 31/75\n",
      "404/404 [==============================] - 0s 97us/sample - loss: 8.7071 - mean_squared_error: 8.7071 - mean_absolute_error: 2.1132 - val_loss: 23.0505 - val_mean_squared_error: 23.0505 - val_mean_absolute_error: 3.1019\n",
      "Epoch 32/75\n",
      "404/404 [==============================] - 0s 104us/sample - loss: 8.7095 - mean_squared_error: 8.7095 - mean_absolute_error: 2.1248 - val_loss: 21.8488 - val_mean_squared_error: 21.8488 - val_mean_absolute_error: 3.0040\n",
      "Epoch 33/75\n",
      "404/404 [==============================] - 0s 87us/sample - loss: 8.4464 - mean_squared_error: 8.4464 - mean_absolute_error: 2.0717 - val_loss: 22.6137 - val_mean_squared_error: 22.6137 - val_mean_absolute_error: 3.0370\n",
      "Epoch 34/75\n",
      "404/404 [==============================] - 0s 87us/sample - loss: 8.4600 - mean_squared_error: 8.4600 - mean_absolute_error: 2.1032 - val_loss: 22.1930 - val_mean_squared_error: 22.1930 - val_mean_absolute_error: 3.0329\n",
      "Epoch 35/75\n",
      "404/404 [==============================] - 0s 89us/sample - loss: 8.4614 - mean_squared_error: 8.4614 - mean_absolute_error: 2.0693 - val_loss: 21.1822 - val_mean_squared_error: 21.1822 - val_mean_absolute_error: 3.0524\n",
      "Epoch 36/75\n",
      "404/404 [==============================] - 0s 99us/sample - loss: 8.1421 - mean_squared_error: 8.1421 - mean_absolute_error: 2.0380 - val_loss: 21.3888 - val_mean_squared_error: 21.3888 - val_mean_absolute_error: 2.9770\n",
      "Epoch 37/75\n",
      "404/404 [==============================] - 0s 99us/sample - loss: 8.1118 - mean_squared_error: 8.1118 - mean_absolute_error: 2.0280 - val_loss: 23.0514 - val_mean_squared_error: 23.0514 - val_mean_absolute_error: 3.1456\n",
      "Epoch 38/75\n",
      "404/404 [==============================] - 0s 92us/sample - loss: 8.2735 - mean_squared_error: 8.2735 - mean_absolute_error: 2.0604 - val_loss: 22.6100 - val_mean_squared_error: 22.6100 - val_mean_absolute_error: 3.0530\n",
      "Epoch 39/75\n",
      "404/404 [==============================] - 0s 89us/sample - loss: 7.8343 - mean_squared_error: 7.8343 - mean_absolute_error: 2.0272 - val_loss: 20.3064 - val_mean_squared_error: 20.3064 - val_mean_absolute_error: 2.9032\n",
      "Epoch 40/75\n",
      "404/404 [==============================] - 0s 92us/sample - loss: 7.7022 - mean_squared_error: 7.7022 - mean_absolute_error: 1.9843 - val_loss: 21.3519 - val_mean_squared_error: 21.3519 - val_mean_absolute_error: 3.0183\n",
      "Epoch 41/75\n",
      "404/404 [==============================] - 0s 94us/sample - loss: 7.6788 - mean_squared_error: 7.6788 - mean_absolute_error: 1.9915 - val_loss: 20.0064 - val_mean_squared_error: 20.0064 - val_mean_absolute_error: 2.8712\n",
      "Epoch 42/75\n",
      "404/404 [==============================] - 0s 97us/sample - loss: 7.6232 - mean_squared_error: 7.6232 - mean_absolute_error: 1.9832 - val_loss: 21.0128 - val_mean_squared_error: 21.0128 - val_mean_absolute_error: 3.0730\n",
      "Epoch 43/75\n",
      "404/404 [==============================] - 0s 96us/sample - loss: 7.5395 - mean_squared_error: 7.5395 - mean_absolute_error: 1.9713 - val_loss: 20.4059 - val_mean_squared_error: 20.4059 - val_mean_absolute_error: 2.9000\n",
      "Epoch 44/75\n",
      "404/404 [==============================] - 0s 92us/sample - loss: 7.4374 - mean_squared_error: 7.4374 - mean_absolute_error: 1.9593 - val_loss: 20.1228 - val_mean_squared_error: 20.1228 - val_mean_absolute_error: 2.8240\n",
      "Epoch 45/75\n",
      "404/404 [==============================] - 0s 104us/sample - loss: 7.4074 - mean_squared_error: 7.4074 - mean_absolute_error: 1.9405 - val_loss: 21.5051 - val_mean_squared_error: 21.5051 - val_mean_absolute_error: 2.9406\n",
      "Epoch 46/75\n",
      "404/404 [==============================] - 0s 104us/sample - loss: 7.3674 - mean_squared_error: 7.3674 - mean_absolute_error: 1.9615 - val_loss: 19.5877 - val_mean_squared_error: 19.5877 - val_mean_absolute_error: 2.8646\n",
      "Epoch 47/75\n",
      "404/404 [==============================] - 0s 101us/sample - loss: 7.1364 - mean_squared_error: 7.1364 - mean_absolute_error: 1.9441 - val_loss: 20.7785 - val_mean_squared_error: 20.7785 - val_mean_absolute_error: 2.8401\n",
      "Epoch 48/75\n",
      "404/404 [==============================] - 0s 97us/sample - loss: 7.2707 - mean_squared_error: 7.2707 - mean_absolute_error: 1.9508 - val_loss: 20.1531 - val_mean_squared_error: 20.1531 - val_mean_absolute_error: 2.8235\n",
      "Epoch 49/75\n",
      "404/404 [==============================] - 0s 96us/sample - loss: 7.0901 - mean_squared_error: 7.0901 - mean_absolute_error: 1.9358 - val_loss: 19.4669 - val_mean_squared_error: 19.4669 - val_mean_absolute_error: 2.7556\n",
      "Epoch 50/75\n",
      "404/404 [==============================] - 0s 92us/sample - loss: 6.8698 - mean_squared_error: 6.8698 - mean_absolute_error: 1.8727 - val_loss: 19.4513 - val_mean_squared_error: 19.4513 - val_mean_absolute_error: 2.8056\n",
      "Epoch 51/75\n",
      "404/404 [==============================] - 0s 101us/sample - loss: 6.9163 - mean_squared_error: 6.9163 - mean_absolute_error: 1.9109 - val_loss: 19.2000 - val_mean_squared_error: 19.2000 - val_mean_absolute_error: 2.7560\n",
      "Epoch 52/75\n",
      "404/404 [==============================] - 0s 99us/sample - loss: 6.7764 - mean_squared_error: 6.7764 - mean_absolute_error: 1.9029 - val_loss: 19.1167 - val_mean_squared_error: 19.1167 - val_mean_absolute_error: 2.9307\n",
      "Epoch 53/75\n",
      "404/404 [==============================] - 0s 92us/sample - loss: 6.9492 - mean_squared_error: 6.9492 - mean_absolute_error: 1.9066 - val_loss: 19.3670 - val_mean_squared_error: 19.3670 - val_mean_absolute_error: 2.7765\n",
      "Epoch 54/75\n",
      "404/404 [==============================] - 0s 87us/sample - loss: 6.7510 - mean_squared_error: 6.7510 - mean_absolute_error: 1.8949 - val_loss: 18.8967 - val_mean_squared_error: 18.8967 - val_mean_absolute_error: 2.8187\n",
      "Epoch 55/75\n",
      "404/404 [==============================] - 0s 89us/sample - loss: 6.5621 - mean_squared_error: 6.5621 - mean_absolute_error: 1.8447 - val_loss: 18.6230 - val_mean_squared_error: 18.6230 - val_mean_absolute_error: 2.7227\n",
      "Epoch 56/75\n",
      "404/404 [==============================] - 0s 158us/sample - loss: 6.4814 - mean_squared_error: 6.4814 - mean_absolute_error: 1.8490 - val_loss: 19.3467 - val_mean_squared_error: 19.3467 - val_mean_absolute_error: 2.8457\n",
      "Epoch 57/75\n",
      "404/404 [==============================] - 0s 94us/sample - loss: 6.4536 - mean_squared_error: 6.4536 - mean_absolute_error: 1.8358 - val_loss: 20.1184 - val_mean_squared_error: 20.1184 - val_mean_absolute_error: 2.8740\n",
      "Epoch 58/75\n",
      "404/404 [==============================] - 0s 94us/sample - loss: 6.5707 - mean_squared_error: 6.5707 - mean_absolute_error: 1.8108 - val_loss: 21.6761 - val_mean_squared_error: 21.6761 - val_mean_absolute_error: 2.9492\n",
      "Epoch 59/75\n",
      "404/404 [==============================] - 0s 89us/sample - loss: 6.4264 - mean_squared_error: 6.4264 - mean_absolute_error: 1.8380 - val_loss: 18.7502 - val_mean_squared_error: 18.7502 - val_mean_absolute_error: 2.7476\n",
      "Epoch 60/75\n",
      "404/404 [==============================] - 0s 84us/sample - loss: 6.2431 - mean_squared_error: 6.2431 - mean_absolute_error: 1.8098 - val_loss: 18.8827 - val_mean_squared_error: 18.8827 - val_mean_absolute_error: 2.6647\n",
      "Epoch 61/75\n",
      "404/404 [==============================] - 0s 87us/sample - loss: 6.1896 - mean_squared_error: 6.1896 - mean_absolute_error: 1.7740 - val_loss: 18.0238 - val_mean_squared_error: 18.0238 - val_mean_absolute_error: 2.6855\n",
      "Epoch 62/75\n",
      "404/404 [==============================] - 0s 94us/sample - loss: 6.3093 - mean_squared_error: 6.3093 - mean_absolute_error: 1.8134 - val_loss: 18.1979 - val_mean_squared_error: 18.1979 - val_mean_absolute_error: 2.7090\n",
      "Epoch 63/75\n",
      "404/404 [==============================] - 0s 92us/sample - loss: 6.0606 - mean_squared_error: 6.0606 - mean_absolute_error: 1.7585 - val_loss: 18.1167 - val_mean_squared_error: 18.1167 - val_mean_absolute_error: 2.6967\n",
      "Epoch 64/75\n",
      "404/404 [==============================] - 0s 89us/sample - loss: 5.8379 - mean_squared_error: 5.8379 - mean_absolute_error: 1.7330 - val_loss: 19.5164 - val_mean_squared_error: 19.5164 - val_mean_absolute_error: 2.8196\n",
      "Epoch 65/75\n",
      "404/404 [==============================] - 0s 94us/sample - loss: 5.9200 - mean_squared_error: 5.9200 - mean_absolute_error: 1.7828 - val_loss: 18.1699 - val_mean_squared_error: 18.1699 - val_mean_absolute_error: 2.7009\n",
      "Epoch 66/75\n",
      "404/404 [==============================] - 0s 97us/sample - loss: 5.8598 - mean_squared_error: 5.8598 - mean_absolute_error: 1.7497 - val_loss: 17.9799 - val_mean_squared_error: 17.9799 - val_mean_absolute_error: 2.7244\n",
      "Epoch 67/75\n",
      "404/404 [==============================] - 0s 92us/sample - loss: 5.7823 - mean_squared_error: 5.7823 - mean_absolute_error: 1.7157 - val_loss: 18.6773 - val_mean_squared_error: 18.6773 - val_mean_absolute_error: 2.7327\n",
      "Epoch 68/75\n",
      "404/404 [==============================] - 0s 94us/sample - loss: 5.9957 - mean_squared_error: 5.9957 - mean_absolute_error: 1.7861 - val_loss: 19.1469 - val_mean_squared_error: 19.1469 - val_mean_absolute_error: 2.8024\n",
      "Epoch 69/75\n",
      "404/404 [==============================] - 0s 89us/sample - loss: 5.6007 - mean_squared_error: 5.6007 - mean_absolute_error: 1.7125 - val_loss: 17.1233 - val_mean_squared_error: 17.1233 - val_mean_absolute_error: 2.5951\n",
      "Epoch 70/75\n",
      "404/404 [==============================] - 0s 89us/sample - loss: 5.9658 - mean_squared_error: 5.9658 - mean_absolute_error: 1.7844 - val_loss: 17.3344 - val_mean_squared_error: 17.3344 - val_mean_absolute_error: 2.6331\n",
      "Epoch 71/75\n",
      "404/404 [==============================] - 0s 94us/sample - loss: 5.9481 - mean_squared_error: 5.9481 - mean_absolute_error: 1.7387 - val_loss: 17.5450 - val_mean_squared_error: 17.5450 - val_mean_absolute_error: 2.6812\n",
      "Epoch 72/75\n",
      "404/404 [==============================] - 0s 94us/sample - loss: 5.8005 - mean_squared_error: 5.8005 - mean_absolute_error: 1.7568 - val_loss: 17.6524 - val_mean_squared_error: 17.6524 - val_mean_absolute_error: 2.6732\n",
      "Epoch 73/75\n",
      "404/404 [==============================] - 0s 94us/sample - loss: 5.5415 - mean_squared_error: 5.5415 - mean_absolute_error: 1.6871 - val_loss: 16.2998 - val_mean_squared_error: 16.2998 - val_mean_absolute_error: 2.5542\n",
      "Epoch 74/75\n",
      "404/404 [==============================] - 0s 94us/sample - loss: 5.6195 - mean_squared_error: 5.6195 - mean_absolute_error: 1.7366 - val_loss: 17.3200 - val_mean_squared_error: 17.3200 - val_mean_absolute_error: 2.6099\n",
      "Epoch 75/75\n",
      "404/404 [==============================] - 0s 92us/sample - loss: 5.4059 - mean_squared_error: 5.4059 - mean_absolute_error: 1.6942 - val_loss: 16.3826 - val_mean_squared_error: 16.3826 - val_mean_absolute_error: 2.6006\n"
     ]
    },
    {
     "data": {
      "text/plain": [
       "<tensorflow.python.keras.callbacks.History at 0x1bb379f4d30>"
      ]
     },
     "execution_count": 4,
     "metadata": {},
     "output_type": "execute_result"
    }
   ],
   "source": [
    "from tensorflow import keras\n",
    "from tensorflow.keras.models import Sequential\n",
    "from tensorflow.keras.layers import Dense\n",
    "\n",
    "# Important Hyperparameters\n",
    "inputs = x_train.shape[1]\n",
    "epochs = 75\n",
    "batch_size = 10\n",
    "\n",
    "\n",
    "# Create Model\n",
    "model = Sequential()\n",
    "model.add(Dense(64, activation='relu', input_shape=(inputs,)))\n",
    "model.add(Dense(64, activation='relu'))\n",
    "model.add(Dense(1))\n",
    "\n",
    "# Compile Model\n",
    "model.compile(optimizer='adam', loss='mse', metrics=['mse', 'mae'])\n",
    "\n",
    "# Fit Model\n",
    "model.fit(x_train, y_train, \n",
    "          validation_data=(x_test,y_test), \n",
    "          epochs=epochs, \n",
    "          batch_size=batch_size\n",
    "         )"
   ]
  },
  {
   "cell_type": "markdown",
   "metadata": {
    "colab_type": "text",
    "id": "sYJ8t_ezHP4W"
   },
   "source": [
    "### Hyperparameter Tuning Approaches:\n",
    "\n",
    "#### 1) Babysitting AKA \"Grad Student Descent\".\n",
    "\n",
    "If you fiddled with any hyperparameters yesterday, this is basically what you did. This approach is 100% manual and is pretty common among researchers where finding that 1 exact specification that jumps your model to a level of accuracy never seen before is the difference between publishing and not publishing a paper. Of course the professors don't do this themselves, that's grunt work. This is also known as the fiddle with hyperparameters until you run out of time method.\n",
    "\n",
    "#### 2) Grid Search\n",
    "\n",
    "Grid Search is the Grad Student galaxy brain realization of: why don't I just specify all the experiments I want to run and let the computer try every possible combination of them while I go and grab lunch. This has a specific downside in that if I specify 5 hyperparameters with 5 options each then I've just created 5^5 combinations of hyperparameters to check. Which means that I have to train 3125 different versions of my model Then if I use 5-fold Cross Validation on that then my model has to run 15,525 times. This is the brute-force method of hyperparameter tuning, but it can be very profitable if done wisely. \n",
    "\n",
    "When using Grid Search here's what I suggest: don't use it to test combinations of different hyperparameters, only use it to test different specifications of **a single** hyperparameter. It's rare that combinations between different hyperparameters lead to big performance gains. You'll get 90-95% of the way there if you just Grid Search one parameter and take the best result, then retain that best result while you test another, and then retain the best specification from that while you train another. This at least makes the situation much more manageable and leads to pretty good results. \n",
    "\n",
    "#### 3) Random Search\n",
    "\n",
    "Do Grid Search for a couple of hours and you'll say to yourself - \"There's got to be a better way.\" Enter Random Search. For Random search you specify a hyperparameter space and it picks specifications from that randomly, tries them out, gives you the best results and says - That's going to have to be good enough, go home and spend time with your family. \n",
    "\n",
    "Grid Search treats every parameter as if it was equally important, but this just isn't the case, some are known to move the needle a lot more than others (we'll talk about that in a minute). Random Search allows searching to be specified along the most important parameter and experiments less along the dimensions of less important hyperparameters. The downside of Random search is that it won't find the absolute best hyperparameters, but it is much less costly to perform than Grid Search. \n",
    "\n",
    "#### 4) Bayesian Methods\n",
    "\n",
    "One thing that can make more manual methods like babysitting and gridsearch effective is that as the experimenter sees results he can then make updates to his future searches taking into account the results of past specifications. If only we could hyperparameter tune our hyperparameter tuning. Well, we kind of can. Enter Bayesian Optimization. Neural Networks are like an optimization problem within an optimization problem, and Bayesian Optimization is a search strategy that tries to take into account the results of past searches in order to improve future ones. This is the most advanced method but can be a little bit tricky to implement, but there are some early steps with `hyperas` which is Bayesian optimization wrapper for `keras`. "
   ]
  },
  {
   "cell_type": "markdown",
   "metadata": {
    "colab_type": "text",
    "id": "HfQ7D043OMMn"
   },
   "source": [
    "## What Hyperparameters are there to test?\n",
    "\n",
    "- batch_size\n",
    "- training epochs\n",
    "- optimization algorithms\n",
    "- learning rate\n",
    "- momentum\n",
    "- activation functions\n",
    "- dropout regularization\n",
    "- number of neurons in the hidden layer\n",
    "\n",
    "There are more, but these are the most important."
   ]
  },
  {
   "cell_type": "markdown",
   "metadata": {},
   "source": [
    "## Follow Along"
   ]
  },
  {
   "cell_type": "markdown",
   "metadata": {
    "colab_type": "text",
    "id": "Mri5-kXzVKAa"
   },
   "source": [
    "## Batch Size\n",
    "\n",
    "Batch size determines how many observations the model is shown before it calculates loss/error and updates the model weights via gradient descent. You're looking for a sweet spot here where you're showing it enough observations that you have enough information to updates the weights, but not such a large batch size that you don't get a lot of weight update iterations performed in a given epoch. Feed-forward Neural Networks aren't as sensitive to bach_size as other networks, but it is still an important hyperparameter to tune. Smaller batch sizes will also take longer to train. "
   ]
  },
  {
   "cell_type": "code",
   "execution_count": 5,
   "metadata": {
    "colab": {
     "base_uri": "https://localhost:8080/",
     "height": 13561
    },
    "colab_type": "code",
    "id": "2smXfriNAGn7",
    "outputId": "ae996575-78e2-43fb-9dbe-5d44aaf0b430"
   },
   "outputs": [
    {
     "name": "stderr",
     "output_type": "stream",
     "text": [
      "W0123 12:23:05.689539  2304 deprecation.py:323] From C:\\Users\\John\\Anaconda3\\envs\\U4-S2-NN\\lib\\site-packages\\tensorflow\\python\\ops\\nn_impl.py:180: add_dispatch_support.<locals>.wrapper (from tensorflow.python.ops.array_ops) is deprecated and will be removed in a future version.\n",
      "Instructions for updating:\n",
      "Use tf.where in 2.0, which has the same broadcast rule as np.where\n"
     ]
    },
    {
     "name": "stdout",
     "output_type": "stream",
     "text": [
      "Best: 0.71875 using {'batch_size': 10, 'epochs': 200}\n",
      "Means: 0.6848958333333334, Stdev: 0.016053161466065044 with: {'batch_size': 10, 'epochs': 20}\n",
      "Means: 0.65234375, Stdev: 0.02834836075140266 with: {'batch_size': 10, 'epochs': 40}\n",
      "Means: 0.6888020833333334, Stdev: 0.016366933710906945 with: {'batch_size': 10, 'epochs': 60}\n",
      "Means: 0.71875, Stdev: 0.008438464451051902 with: {'batch_size': 10, 'epochs': 200}\n",
      "Means: 0.6158854166666666, Stdev: 0.02946278254943948 with: {'batch_size': 20, 'epochs': 20}\n",
      "Means: 0.59375, Stdev: 0.030757843257858637 with: {'batch_size': 20, 'epochs': 40}\n",
      "Means: 0.671875, Stdev: 0.02834836075140266 with: {'batch_size': 20, 'epochs': 60}\n",
      "Means: 0.703125, Stdev: 0.00637887953849786 with: {'batch_size': 20, 'epochs': 200}\n"
     ]
    }
   ],
   "source": [
    "import numpy\n",
    "import pandas as pd\n",
    "from sklearn.model_selection import GridSearchCV\n",
    "from tensorflow.keras.models import Sequential\n",
    "from tensorflow.keras.layers import Dense\n",
    "from tensorflow.keras.wrappers.scikit_learn import KerasClassifier\n",
    "\n",
    "# fix random seed for reproducibility\n",
    "seed = 7\n",
    "numpy.random.seed(seed)\n",
    "\n",
    "# load dataset\n",
    "url =\"https://raw.githubusercontent.com/jbrownlee/Datasets/master/pima-indians-diabetes.data.csv\"\n",
    "\n",
    "dataset = pd.read_csv(url, header=None).values\n",
    "\n",
    "# split into input (X) and output (Y) variables\n",
    "X = dataset[:,0:8]\n",
    "Y = dataset[:,8]\n",
    "\n",
    "# Function to create model, required for KerasClassifier\n",
    "def create_model():\n",
    "    # create model\n",
    "    model = Sequential()\n",
    "    model.add(Dense(12, input_dim=8, activation='relu'))\n",
    "    model.add(Dense(1, activation='sigmoid'))\n",
    "    # Compile model\n",
    "    model.compile(loss='binary_crossentropy', optimizer='adam', metrics=['accuracy'])\n",
    "    return model\n",
    "\n",
    "# create model\n",
    "model = KerasClassifier(build_fn=create_model, verbose=0)\n",
    "\n",
    "# define the grid search parameters\n",
    "# batch_size = [10, 20, 40, 60, 80, 100]\n",
    "# param_grid = dict(batch_size=batch_size, epochs=epochs)\n",
    "\n",
    "# define the grid search parameters\n",
    "param_grid = {'batch_size': [10, 20], #, 40, 60, 80, 100\n",
    "              'epochs': [20, 40, 60, 200]}\n",
    "\n",
    "# Create Grid Search\n",
    "grid = GridSearchCV(estimator=model, param_grid=param_grid, n_jobs=1)\n",
    "grid_result = grid.fit(X, Y)\n",
    "\n",
    "# Report Results\n",
    "print(f\"Best: {grid_result.best_score_} using {grid_result.best_params_}\")\n",
    "means = grid_result.cv_results_['mean_test_score']\n",
    "stds = grid_result.cv_results_['std_test_score']\n",
    "params = grid_result.cv_results_['params']\n",
    "for mean, stdev, param in zip(means, stds, params):\n",
    "    print(f\"Means: {mean}, Stdev: {stdev} with: {param}\")"
   ]
  },
  {
   "cell_type": "markdown",
   "metadata": {
    "colab_type": "text",
    "id": "pmABfjlvXbqi"
   },
   "source": [
    "## Epochs\n",
    "\n",
    "The number of training epochs has a large and direct affect on the accuracy, However, more epochs is almost always goign to better than less epochs. This means that if you tune this parameter at the beginning and try and maintain the same value all throughout your training, you're going to be waiting a long time for each iteration of GridSearch. I suggest picking a fixed moderat # of epochs all throughout your training and then Grid Searching this parameter at the very end. "
   ]
  },
  {
   "cell_type": "code",
   "execution_count": 6,
   "metadata": {
    "colab": {
     "base_uri": "https://localhost:8080/",
     "height": 26329
    },
    "colab_type": "code",
    "id": "bAmxP3N7TmFh",
    "outputId": "3ddb08c4-51ac-4eaa-ff39-143397024544"
   },
   "outputs": [
    {
     "name": "stdout",
     "output_type": "stream",
     "text": [
      "Best: 0.6927083333333334 using {'batch_size': 20, 'epochs': 200}\n",
      "Means: 0.5755208333333334, Stdev: 0.03737682316251907 with: {'batch_size': 20, 'epochs': 20}\n",
      "Means: 0.6627604166666666, Stdev: 0.02262779582940464 with: {'batch_size': 20, 'epochs': 40}\n",
      "Means: 0.6770833333333334, Stdev: 0.03845006005269115 with: {'batch_size': 20, 'epochs': 60}\n",
      "Means: 0.6927083333333334, Stdev: 0.019225030026345572 with: {'batch_size': 20, 'epochs': 200}\n"
     ]
    }
   ],
   "source": [
    "# define the grid search parameters\n",
    "param_grid = {'batch_size': [20],\n",
    "              'epochs': [20, 40, 60, 200]}\n",
    "\n",
    "# Create Grid Search\n",
    "grid = GridSearchCV(estimator=model, param_grid=param_grid, n_jobs=1)\n",
    "grid_result = grid.fit(X, Y)\n",
    "\n",
    "# Report Results\n",
    "print(f\"Best: {grid_result.best_score_} using {grid_result.best_params_}\")\n",
    "means = grid_result.cv_results_['mean_test_score']\n",
    "stds = grid_result.cv_results_['std_test_score']\n",
    "params = grid_result.cv_results_['params']\n",
    "for mean, stdev, param in zip(means, stds, params):\n",
    "    print(f\"Means: {mean}, Stdev: {stdev} with: {param}\")"
   ]
  },
  {
   "cell_type": "markdown",
   "metadata": {
    "colab_type": "text",
    "id": "EKcuY6OiaLfz"
   },
   "source": [
    "## Optimizer\n",
    "\n",
    "Remember that there's a different optimizers [optimizers](https://keras.io/optimizers/). At some point, take some time to read up on them a little bit. \"adam\" usually gives the best results. The thing to know about choosing an optimizer is that different optimizers have different hyperparameters like learning rate, momentum, etc. So based on the optimizer you choose you might also have to tune the learning rate and momentum of those optimizers after that. "
   ]
  },
  {
   "cell_type": "markdown",
   "metadata": {
    "colab_type": "text",
    "id": "DG3wq5iOaLig"
   },
   "source": [
    "## Learning Rate\n",
    "\n",
    "Remember that the Learning Rate is a hyperparameter that is specific to your gradient-descent based optimizer selection. A learning rate that is too high will cause divergent behavior, but a Learning Rate that is too low will fail to converge, again, you're looking for the sweet spot. I would start out tuning learning rates by orders of magnitude: [.001, .01, .1, .2, .3, .5] etc. I wouldn't go above .5, but you can try it and see what the behavior is like. \n",
    "\n",
    "Once you have narrowed it down, make the window even smaller and try it again. If after running the above specification your model reports that .1 is the best optimizer, then you should probably try things like [.05, .08, .1, .12, .15] to try and narrow it down. \n",
    "\n",
    "It can also be good to tune the number of epochs in combination with the learning rate since the number of iterations that you allow the learning rate to reach the minimum can determine if you have let it run long enough to converge to the minimum. "
   ]
  },
  {
   "cell_type": "markdown",
   "metadata": {
    "colab_type": "text",
    "id": "gNTBUWd1aLlA"
   },
   "source": [
    "## Momentum\n",
    "\n",
    "Momentum is a hyperparameter that is more commonly associated with Stochastic Gradient Descent. SGD is a common optimizer because it's what people understand and know, but I doubt it will get you the best results, you can try hyperparameter tuning its attributes and see if you can beat the performance from adam. Momentum is a property that decides the willingness of an optimizer to overshoot the minimum. Imagine a ball rolling down one side of a bowl and then up the opposite side a little bit before settling back to the bottom. The purpose of momentum is to try and escale local minima."
   ]
  },
  {
   "cell_type": "markdown",
   "metadata": {
    "colab_type": "text",
    "id": "xnEG-bCJaLnZ"
   },
   "source": [
    "## Activation Functions\n",
    "\n",
    "We've talked about this a little bit, typically you'l want to use ReLU for hidden layers and either Sigmoid, or Softmax for output layers of binary and multi-class classification implementations respectively, but try other activation functions and see if you can get any better results with sigmoid or tanh or something. There are a lot of activation functions that we haven't really talked about. Maybe you'll get good results with them. Maybe you won't. :) <https://keras.io/activations/>"
   ]
  },
  {
   "cell_type": "markdown",
   "metadata": {
    "colab_type": "text",
    "id": "oul9sPq-dU-h"
   },
   "source": [
    "## Network Weight Initialization\n",
    "\n",
    "You saw how big of an effect the way that we initialize our network's weights can have on our results. There are **a lot** of what are called initialization modes. I don't understand all of them, but they can have a big affect on your model's initial accuracy. Your model will get further with less epochs if you initialize it with weights that are well suited to the problem you're trying to solve.\n",
    "\n",
    "`init_mode = ['uniform', 'lecun_uniform', 'normal', 'zero', 'glorot_normal', 'glorot_uniform', 'he_normal', 'he_uniform']`"
   ]
  },
  {
   "cell_type": "markdown",
   "metadata": {
    "colab_type": "text",
    "id": "bqtEuxeQaLqE"
   },
   "source": [
    "## Dropout Regularization and the Weight Constraint\n",
    "\n",
    "the Dropout Regularization value is a percentage of neurons that you want to be randomly deactivated during training. The weight constraint is a second regularization parameter that works in tandem with dropout regularization. You should tune these two values at the same time. \n",
    "\n",
    "Using dropout on visible vs hidden layers might have a different effect. Using dropout on hidden layers might not have any effect while using dropout on hidden layers might have a substantial effect. You don't necessarily need to turn use dropout unless you see that your model has overfitting and generalizability problems."
   ]
  },
  {
   "cell_type": "markdown",
   "metadata": {
    "colab_type": "text",
    "id": "P2c5Cv6oaLtO"
   },
   "source": [
    "## Neurons in Hidden Layer \n",
    "\n",
    "Remember that when we only had a single perceptron our model was only able to fit to linearly separable data, but as we have added layers and nodes to those layers our network has become a powerhouse of fitting nonlinearity in data. The larger the network and the more nodes generally the stronger the network's capacity to fit nonlinear patterns in data. The more nodes and layers the longer it will take to train a network, and higher the probability of overfitting. The larger your network gets the more you'll need dropout regularization or other regularization techniques to keep it in check. \n",
    "\n",
    "Typically depth (more layers) is more important than width (more nodes) for neural networks. This is part of why Deep Learning is so highly touted. Certain deep learning architectures have truly been huge breakthroughs for certain machine learning tasks. \n",
    "\n",
    "You might borrow ideas from other network architectures. For example if I was doing image recognition and I wasn't taking cues from state of the art architectures like resnet, alexnet, googlenet, etc. Then I'm probably going to have to do a lot more experimentation on my own before I find something that works.\n",
    "\n",
    "There are some heuristics, but I am highly skeptical of them. I think you're better off experimenting on your own and forming your own intuition for these kinds of problems. \n",
    "\n",
    "- https://machinelearningmastery.com/how-to-configure-the-number-of-layers-and-nodes-in-a-neural-network/"
   ]
  },
  {
   "cell_type": "markdown",
   "metadata": {},
   "source": [
    "## Challenge\n",
    "You will be expected to tune several hyperparameters in today's module project. "
   ]
  },
  {
   "cell_type": "markdown",
   "metadata": {},
   "source": [
    "# Experiment Tracking Framework (Learn)\n",
    "<a id=\"p2\"></a>"
   ]
  },
  {
   "cell_type": "markdown",
   "metadata": {},
   "source": [
    "## Overview\n",
    "\n",
    "You will notice quickly that managing the results of all the experiments you are running becomes challenging. Which set of parameters did the best? Are my results today different than my results yesterday? Although we use Ipython Notebooks to work, the format is not well suited to logging experimental results. Enter experiment tracking frameworks like [Comet.ml](https://comet.ml) and [Weights and Biases](https://wandb.ai/).\n",
    "\n",
    "Those tools will help you track your experiments, store the results, and the code associated with those experiments. Experimental results can also be readily visualized to see changes in performance across any metric you care about. Data is sent to the tool as each epoch is completed, so you can also see if your model is converging. Let's check out Weights & Biases today. "
   ]
  },
  {
   "cell_type": "markdown",
   "metadata": {},
   "source": [
    "## Follow Along\n",
    "\n",
    "Make sure you login into `wandb` in the terminal before running the next cell. "
   ]
  },
  {
   "cell_type": "code",
   "execution_count": 13,
   "metadata": {},
   "outputs": [
    {
     "data": {
      "text/html": [
       "\n",
       "                Logging results to <a href=\"https://wandb.com\" target=\"_blank\">Weights & Biases</a> <a href=\"https://docs.wandb.com/integrations/jupyter.html\" target=\"_blank\">(Documentation)</a>.<br/>\n",
       "                Project page: <a href=\"https://app.wandb.ai/ds8/ds9-boston\" target=\"_blank\">https://app.wandb.ai/ds8/ds9-boston</a><br/>\n",
       "                Run page: <a href=\"https://app.wandb.ai/ds8/ds9-boston/runs/vh84601g\" target=\"_blank\">https://app.wandb.ai/ds8/ds9-boston/runs/vh84601g</a><br/>\n",
       "            "
      ],
      "text/plain": [
       "<IPython.core.display.HTML object>"
      ]
     },
     "metadata": {},
     "output_type": "display_data"
    },
    {
     "name": "stderr",
     "output_type": "stream",
     "text": [
      "E0123 12:50:48.037577  2304 jupyter.py:96] Failed to query for notebook name, you can set it manually with the WANDB_NOTEBOOK_NAME environment variable\n"
     ]
    },
    {
     "data": {
      "text/plain": [
       "W&B Run: https://app.wandb.ai/ds8/ds9-boston/runs/vh84601g"
      ]
     },
     "execution_count": 13,
     "metadata": {},
     "output_type": "execute_result"
    }
   ],
   "source": [
    "import wandb\n",
    "from wandb.keras import WandbCallback\n",
    "wandb.init(project=\"ds9-boston\", entity=\"ds8\")"
   ]
  },
  {
   "cell_type": "code",
   "execution_count": null,
   "metadata": {
    "colab": {
     "base_uri": "https://localhost:8080/",
     "height": 1750
    },
    "colab_type": "code",
    "id": "GMXVfmzXp1Oo",
    "outputId": "b05e251e-508f-46e6-865b-f869ae2a5dc4"
   },
   "outputs": [],
   "source": [
    "# wandb.init(project=\"boston\", entity=\"lambda-ds7\") #Initializes and Experiment\n",
    "\n",
    "# # Important Hyperparameters\n",
    "# X =  x_train\n",
    "# y =  y_train\n",
    "\n",
    "# inputs = X.shape[1]\n",
    "# wandb.config.epochs = 50\n",
    "# wandb.config.batch_size = 10\n",
    "\n",
    "# # Create Model\n",
    "# model = Sequential()\n",
    "# model.add(Dense(64, activation='relu', input_shape=(inputs,)))\n",
    "# model.add(Dense(64, activation='relu'))\n",
    "# model.add(Dense(64, activation='relu'))\n",
    "# model.add(Dense(1))\n",
    "# # Compile Model\n",
    "# model.compile(optimizer='adam', loss='mse', metrics=['mse', 'mae'])\n",
    "\n",
    "# # Fit Model\n",
    "# model.fit(X, y, \n",
    "#           validation_split=0.33, \n",
    "#           epochs=wandb.config.epochs, \n",
    "#           batch_size=wandb.config.batch_size, \n",
    "#           callbacks=[WandbCallback()]\n",
    "#          )"
   ]
  },
  {
   "cell_type": "code",
   "execution_count": null,
   "metadata": {},
   "outputs": [],
   "source": [
    "# Important Hyperparameters\n",
    "inputs = x_train.shape[1]\n",
    "wandb.config.epochs = 50\n",
    "wandb.config.batch_size = 10\n",
    "# Create Model\n",
    "model = Sequential()\n",
    "model.add(Dense(64, activation='relu', input_shape=(inputs,)))\n",
    "model.add(Dense(64, activation='relu'))\n",
    "model.add(Dense(1))\n",
    "# Compile Model\n",
    "model.compile(optimizer='adam', loss='mse', metrics=['mse'])\n",
    "# Fit Model\n",
    "model.fit(x_train, y_train, \n",
    "          validation_split=0.33, \n",
    "          epochs=wandb.config.epochs, \n",
    "          batch_size=wandb.config.epochs, \n",
    "          callbacks=[WandbCallback()]\n",
    "         )"
   ]
  },
  {
   "cell_type": "markdown",
   "metadata": {},
   "source": [
    "## Challenge\n",
    "\n",
    "You will be expected to use Weights & Biases to try to tune your model during your module assignment today. "
   ]
  },
  {
   "cell_type": "markdown",
   "metadata": {},
   "source": [
    "# Hyperparameters with RandomSearchCV (Learn)"
   ]
  },
  {
   "cell_type": "markdown",
   "metadata": {},
   "source": [
    "## Overview\n",
    "\n",
    "Basically `GridSearchCV` takes forever. You'll want to adopt a slightly more sophiscated strategy."
   ]
  },
  {
   "cell_type": "markdown",
   "metadata": {},
   "source": [
    "## Follow Along"
   ]
  },
  {
   "cell_type": "code",
   "execution_count": 9,
   "metadata": {},
   "outputs": [],
   "source": [
    "sweep_config = {\n",
    "    'method': 'random',\n",
    "    'parameters': {\n",
    "        'learning_rate': {'distribution': 'normal'},\n",
    "        'epochs': {'distribution': 'uniform',\n",
    "                    'min': 100,\n",
    "                    'max': 1000},\n",
    "        'batch_size': {'distribution': 'uniform',\n",
    "            'min': 10,\n",
    "            'max': 400}\n",
    "    }\n",
    "}"
   ]
  },
  {
   "cell_type": "code",
   "execution_count": 10,
   "metadata": {},
   "outputs": [
    {
     "name": "stdout",
     "output_type": "stream",
     "text": [
      "Create sweep with ID: 7hjfjy1p\n",
      "Sweep URL: https://app.wandb.ai/lambda-ds7/boston/sweeps/7hjfjy1p\n"
     ]
    }
   ],
   "source": [
    "sweep_id = wandb.sweep(sweep_config)"
   ]
  },
  {
   "cell_type": "code",
   "execution_count": 14,
   "metadata": {},
   "outputs": [],
   "source": [
    "import wandb\n",
    "from wandb.keras import WandbCallback\n",
    "#Initializes and Experiment\n",
    "\n",
    "from tensorflow.keras.optimizers import Adam\n",
    "from tensorflow.keras.layers import Dropout\n",
    "from tensorflow.keras import regularizers\n",
    "\n",
    "# Important Hyperparameters\n",
    "X =  x_train\n",
    "y =  y_train\n",
    "\n",
    "inputs = X.shape[1]\n",
    "\n",
    "def train():\n",
    "    \n",
    "    wandb.init(project=\"boston\", entity=\"lambda-ds7\") \n",
    "    \n",
    "    config = wandb.config\n",
    "\n",
    "    # Create Model\n",
    "    model = Sequential()\n",
    "    model.add(Dense(64, activation='relu', input_shape=(inputs,)))\n",
    "    model.add(Dense(64, activation='relu'))\n",
    "    model.add(Dense(64, activation='relu'))\n",
    "    model.add(Dense(1))\n",
    "\n",
    "    # Optimizer \n",
    "    adam = Adam(learning_rate=config.learning_rate)\n",
    "\n",
    "    # Compile Model\n",
    "    model.compile(optimizer=sgd, loss='mse', metrics=['mse', 'mae'])\n",
    "\n",
    "    # Fit Model\n",
    "    model.fit(X, y, \n",
    "              validation_split=0.33, \n",
    "              epochs=config.epochs, \n",
    "              batch_size=config.batch_size, \n",
    "              callbacks=[WandbCallback()]\n",
    "             )"
   ]
  },
  {
   "cell_type": "code",
   "execution_count": 12,
   "metadata": {},
   "outputs": [
    {
     "name": "stderr",
     "output_type": "stream",
     "text": [
      "I0123 12:26:08.315708  2304 wandb_agent.py:180] Running runs: []\n",
      "I0123 12:26:08.554844  2304 wandb_agent.py:242] Agent received command: run\n",
      "I0123 12:26:08.556816  2304 wandb_agent.py:272] Agent starting run with config:\n",
      "\tbatch_size: 130.13268455850613\n",
      "\tepochs: 464.94285318147007\n",
      "\tlearning_rate: 0.7067920257863666\n",
      "E0123 12:26:08.601807  2304 jupyter.py:96] Failed to query for notebook name, you can set it manually with the WANDB_NOTEBOOK_NAME environment variable\n"
     ]
    },
    {
     "name": "stdout",
     "output_type": "stream",
     "text": [
      "wandb: Agent Starting Run: dx7nhni0 with config:\n",
      "\tbatch_size: 130.13268455850613\n",
      "\tepochs: 464.94285318147007\n",
      "\tlearning_rate: 0.7067920257863666\n"
     ]
    },
    {
     "name": "stderr",
     "output_type": "stream",
     "text": [
      "I0123 12:26:14.733671  2304 wandb_agent.py:180] Running runs: ['dx7nhni0']\n",
      "I0123 12:26:19.969360  2304 wandb_agent.py:180] Running runs: ['dx7nhni0']\n",
      "I0123 12:26:25.178481  2304 wandb_agent.py:180] Running runs: ['dx7nhni0']\n",
      "I0123 12:26:30.675903  2304 wandb_agent.py:180] Running runs: ['dx7nhni0']\n",
      "I0123 12:26:35.881439  2304 wandb_agent.py:180] Running runs: ['dx7nhni0']\n",
      "I0123 12:26:41.086449  2304 wandb_agent.py:180] Running runs: ['dx7nhni0']\n",
      "I0123 12:26:46.282953  2304 wandb_agent.py:180] Running runs: ['dx7nhni0']\n",
      "I0123 12:26:51.494308  2304 wandb_agent.py:180] Running runs: ['dx7nhni0']\n",
      "I0123 12:26:56.696661  2304 wandb_agent.py:180] Running runs: ['dx7nhni0']\n",
      "I0123 12:27:01.893034  2304 wandb_agent.py:180] Running runs: ['dx7nhni0']\n",
      "I0123 12:27:07.074388  2304 wandb_agent.py:180] Running runs: ['dx7nhni0']\n",
      "I0123 12:27:12.310023  2304 wandb_agent.py:180] Running runs: ['dx7nhni0']\n",
      "I0123 12:27:17.591408  2304 wandb_agent.py:180] Running runs: ['dx7nhni0']\n",
      "I0123 12:27:22.782016  2304 wandb_agent.py:180] Running runs: ['dx7nhni0']\n",
      "I0123 12:27:27.995837  2304 wandb_agent.py:180] Running runs: ['dx7nhni0']\n",
      "I0123 12:27:33.246301  2304 wandb_agent.py:180] Running runs: ['dx7nhni0']\n",
      "I0123 12:27:38.462051  2304 wandb_agent.py:180] Running runs: ['dx7nhni0']\n",
      "I0123 12:27:43.634288  2304 wandb_agent.py:180] Running runs: ['dx7nhni0']\n",
      "I0123 12:27:49.109687  2304 wandb_agent.py:180] Running runs: ['dx7nhni0']\n",
      "I0123 12:27:54.296498  2304 wandb_agent.py:180] Running runs: ['dx7nhni0']\n",
      "I0123 12:27:59.536252  2304 wandb_agent.py:180] Running runs: ['dx7nhni0']\n",
      "I0123 12:28:04.756293  2304 wandb_agent.py:180] Running runs: ['dx7nhni0']\n",
      "I0123 12:28:09.959632  2304 wandb_agent.py:180] Running runs: ['dx7nhni0']\n",
      "I0123 12:28:15.173569  2304 wandb_agent.py:180] Running runs: ['dx7nhni0']\n",
      "I0123 12:28:20.391414  2304 wandb_agent.py:180] Running runs: ['dx7nhni0']\n",
      "I0123 12:28:25.816449  2304 wandb_agent.py:180] Running runs: ['dx7nhni0']\n",
      "I0123 12:28:31.050342  2304 wandb_agent.py:180] Running runs: ['dx7nhni0']\n",
      "I0123 12:28:36.250260  2304 wandb_agent.py:180] Running runs: ['dx7nhni0']\n",
      "I0123 12:28:41.477091  2304 wandb_agent.py:180] Running runs: ['dx7nhni0']\n",
      "I0123 12:28:46.701283  2304 wandb_agent.py:180] Running runs: ['dx7nhni0']\n",
      "I0123 12:28:51.905188  2304 wandb_agent.py:180] Running runs: ['dx7nhni0']\n",
      "I0123 12:28:57.123536  2304 wandb_agent.py:180] Running runs: ['dx7nhni0']\n",
      "I0123 12:29:02.371098  2304 wandb_agent.py:180] Running runs: ['dx7nhni0']\n",
      "I0123 12:29:07.756028  2304 wandb_agent.py:180] Running runs: ['dx7nhni0']\n",
      "I0123 12:29:12.955802  2304 wandb_agent.py:180] Running runs: ['dx7nhni0']\n",
      "I0123 12:29:18.162660  2304 wandb_agent.py:180] Running runs: ['dx7nhni0']\n",
      "I0123 12:29:23.484402  2304 wandb_agent.py:180] Running runs: ['dx7nhni0']\n",
      "I0123 12:29:28.686735  2304 wandb_agent.py:180] Running runs: ['dx7nhni0']\n",
      "I0123 12:29:33.878365  2304 wandb_agent.py:180] Running runs: ['dx7nhni0']\n",
      "I0123 12:29:39.080354  2304 wandb_agent.py:180] Running runs: ['dx7nhni0']\n",
      "I0123 12:29:44.302381  2304 wandb_agent.py:180] Running runs: ['dx7nhni0']\n",
      "I0123 12:29:50.025410  2304 wandb_agent.py:180] Running runs: ['dx7nhni0']\n",
      "I0123 12:29:55.212227  2304 wandb_agent.py:180] Running runs: ['dx7nhni0']\n",
      "I0123 12:30:00.677481  2304 wandb_agent.py:180] Running runs: ['dx7nhni0']\n",
      "I0123 12:30:05.872496  2304 wandb_agent.py:180] Running runs: ['dx7nhni0']\n",
      "I0123 12:30:11.205062  2304 wandb_agent.py:180] Running runs: ['dx7nhni0']\n",
      "I0123 12:30:16.407217  2304 wandb_agent.py:180] Running runs: ['dx7nhni0']\n",
      "I0123 12:30:21.593076  2304 wandb_agent.py:180] Running runs: ['dx7nhni0']\n",
      "I0123 12:30:26.790087  2304 wandb_agent.py:180] Running runs: ['dx7nhni0']\n",
      "I0123 12:30:32.052361  2304 wandb_agent.py:180] Running runs: ['dx7nhni0']\n",
      "I0123 12:30:37.602015  2304 wandb_agent.py:180] Running runs: ['dx7nhni0']\n",
      "I0123 12:30:42.814087  2304 wandb_agent.py:180] Running runs: ['dx7nhni0']\n",
      "I0123 12:30:48.017431  2304 wandb_agent.py:180] Running runs: ['dx7nhni0']\n",
      "I0123 12:30:53.233423  2304 wandb_agent.py:180] Running runs: ['dx7nhni0']\n",
      "I0123 12:30:58.468584  2304 wandb_agent.py:180] Running runs: ['dx7nhni0']\n",
      "I0123 12:31:03.828395  2304 wandb_agent.py:180] Running runs: ['dx7nhni0']\n",
      "I0123 12:31:09.017530  2304 wandb_agent.py:180] Running runs: ['dx7nhni0']\n",
      "I0123 12:31:14.226963  2304 wandb_agent.py:180] Running runs: ['dx7nhni0']\n",
      "I0123 12:31:19.456087  2304 wandb_agent.py:180] Running runs: ['dx7nhni0']\n",
      "I0123 12:31:24.644179  2304 wandb_agent.py:180] Running runs: ['dx7nhni0']\n",
      "I0123 12:31:30.167170  2304 wandb_agent.py:180] Running runs: ['dx7nhni0']\n",
      "I0123 12:31:35.378219  2304 wandb_agent.py:180] Running runs: ['dx7nhni0']\n",
      "I0123 12:31:40.567578  2304 wandb_agent.py:180] Running runs: ['dx7nhni0']\n",
      "I0123 12:31:45.780031  2304 wandb_agent.py:180] Running runs: ['dx7nhni0']\n",
      "I0123 12:31:50.992007  2304 wandb_agent.py:180] Running runs: ['dx7nhni0']\n",
      "I0123 12:31:56.188232  2304 wandb_agent.py:180] Running runs: ['dx7nhni0']\n",
      "I0123 12:32:01.399443  2304 wandb_agent.py:180] Running runs: ['dx7nhni0']\n",
      "I0123 12:32:06.610398  2304 wandb_agent.py:180] Running runs: ['dx7nhni0']\n",
      "I0123 12:32:11.828212  2304 wandb_agent.py:180] Running runs: ['dx7nhni0']\n",
      "I0123 12:32:17.055401  2304 wandb_agent.py:180] Running runs: ['dx7nhni0']\n",
      "I0123 12:32:22.267141  2304 wandb_agent.py:180] Running runs: ['dx7nhni0']\n",
      "I0123 12:32:27.510171  2304 wandb_agent.py:180] Running runs: ['dx7nhni0']\n",
      "I0123 12:32:32.723339  2304 wandb_agent.py:180] Running runs: ['dx7nhni0']\n",
      "I0123 12:32:37.929487  2304 wandb_agent.py:180] Running runs: ['dx7nhni0']\n",
      "I0123 12:32:43.117365  2304 wandb_agent.py:180] Running runs: ['dx7nhni0']\n",
      "I0123 12:32:48.330281  2304 wandb_agent.py:180] Running runs: ['dx7nhni0']\n",
      "I0123 12:32:53.546885  2304 wandb_agent.py:180] Running runs: ['dx7nhni0']\n",
      "I0123 12:32:58.777285  2304 wandb_agent.py:180] Running runs: ['dx7nhni0']\n",
      "I0123 12:33:03.967541  2304 wandb_agent.py:180] Running runs: ['dx7nhni0']\n",
      "I0123 12:33:09.173509  2304 wandb_agent.py:180] Running runs: ['dx7nhni0']\n",
      "I0123 12:33:14.373350  2304 wandb_agent.py:180] Running runs: ['dx7nhni0']\n",
      "I0123 12:33:19.579455  2304 wandb_agent.py:180] Running runs: ['dx7nhni0']\n",
      "I0123 12:33:24.776435  2304 wandb_agent.py:180] Running runs: ['dx7nhni0']\n",
      "I0123 12:33:30.126762  2304 wandb_agent.py:180] Running runs: ['dx7nhni0']\n",
      "I0123 12:33:35.334794  2304 wandb_agent.py:180] Running runs: ['dx7nhni0']\n",
      "I0123 12:33:40.531269  2304 wandb_agent.py:180] Running runs: ['dx7nhni0']\n",
      "I0123 12:33:45.824302  2304 wandb_agent.py:180] Running runs: ['dx7nhni0']\n",
      "I0123 12:33:51.031328  2304 wandb_agent.py:180] Running runs: ['dx7nhni0']\n",
      "I0123 12:33:56.492349  2304 wandb_agent.py:180] Running runs: ['dx7nhni0']\n",
      "I0123 12:34:01.707853  2304 wandb_agent.py:180] Running runs: ['dx7nhni0']\n",
      "I0123 12:34:06.895992  2304 wandb_agent.py:180] Running runs: ['dx7nhni0']\n",
      "I0123 12:34:12.184712  2304 wandb_agent.py:180] Running runs: ['dx7nhni0']\n",
      "I0123 12:34:17.400841  2304 wandb_agent.py:180] Running runs: ['dx7nhni0']\n",
      "I0123 12:34:22.593366  2304 wandb_agent.py:180] Running runs: ['dx7nhni0']\n",
      "I0123 12:34:27.787259  2304 wandb_agent.py:180] Running runs: ['dx7nhni0']\n",
      "I0123 12:34:32.978394  2304 wandb_agent.py:180] Running runs: ['dx7nhni0']\n",
      "I0123 12:34:38.539961  2304 wandb_agent.py:180] Running runs: ['dx7nhni0']\n",
      "I0123 12:34:43.738028  2304 wandb_agent.py:180] Running runs: ['dx7nhni0']\n",
      "I0123 12:34:48.913985  2304 wandb_agent.py:180] Running runs: ['dx7nhni0']\n",
      "I0123 12:34:54.122538  2304 wandb_agent.py:180] Running runs: ['dx7nhni0']\n",
      "I0123 12:34:59.348994  2304 wandb_agent.py:180] Running runs: ['dx7nhni0']\n",
      "I0123 12:35:04.559060  2304 wandb_agent.py:180] Running runs: ['dx7nhni0']\n",
      "I0123 12:35:09.754809  2304 wandb_agent.py:180] Running runs: ['dx7nhni0']\n",
      "I0123 12:35:14.968667  2304 wandb_agent.py:180] Running runs: ['dx7nhni0']\n",
      "I0123 12:35:20.381649  2304 wandb_agent.py:180] Running runs: ['dx7nhni0']\n",
      "I0123 12:35:25.573090  2304 wandb_agent.py:180] Running runs: ['dx7nhni0']\n",
      "I0123 12:35:30.760396  2304 wandb_agent.py:180] Running runs: ['dx7nhni0']\n",
      "I0123 12:35:36.112567  2304 wandb_agent.py:180] Running runs: ['dx7nhni0']\n",
      "I0123 12:35:41.323572  2304 wandb_agent.py:180] Running runs: ['dx7nhni0']\n",
      "I0123 12:35:46.680233  2304 wandb_agent.py:180] Running runs: ['dx7nhni0']\n",
      "I0123 12:35:51.871723  2304 wandb_agent.py:180] Running runs: ['dx7nhni0']\n",
      "I0123 12:35:57.067146  2304 wandb_agent.py:180] Running runs: ['dx7nhni0']\n",
      "I0123 12:36:02.297408  2304 wandb_agent.py:180] Running runs: ['dx7nhni0']\n",
      "I0123 12:36:07.528924  2304 wandb_agent.py:180] Running runs: ['dx7nhni0']\n",
      "I0123 12:36:12.763298  2304 wandb_agent.py:180] Running runs: ['dx7nhni0']\n",
      "I0123 12:36:17.954610  2304 wandb_agent.py:180] Running runs: ['dx7nhni0']\n",
      "I0123 12:36:23.148407  2304 wandb_agent.py:180] Running runs: ['dx7nhni0']\n",
      "I0123 12:36:28.342433  2304 wandb_agent.py:180] Running runs: ['dx7nhni0']\n",
      "I0123 12:36:33.555071  2304 wandb_agent.py:180] Running runs: ['dx7nhni0']\n",
      "I0123 12:36:38.750357  2304 wandb_agent.py:180] Running runs: ['dx7nhni0']\n",
      "I0123 12:36:44.186404  2304 wandb_agent.py:180] Running runs: ['dx7nhni0']\n",
      "I0123 12:36:49.376330  2304 wandb_agent.py:180] Running runs: ['dx7nhni0']\n",
      "I0123 12:36:54.574689  2304 wandb_agent.py:180] Running runs: ['dx7nhni0']\n",
      "I0123 12:36:59.777335  2304 wandb_agent.py:180] Running runs: ['dx7nhni0']\n",
      "I0123 12:37:04.972528  2304 wandb_agent.py:180] Running runs: ['dx7nhni0']\n",
      "I0123 12:37:10.171235  2304 wandb_agent.py:180] Running runs: ['dx7nhni0']\n",
      "I0123 12:37:15.635512  2304 wandb_agent.py:180] Running runs: ['dx7nhni0']\n",
      "I0123 12:37:20.842647  2304 wandb_agent.py:180] Running runs: ['dx7nhni0']\n",
      "I0123 12:37:26.197134  2304 wandb_agent.py:180] Running runs: ['dx7nhni0']\n",
      "I0123 12:37:31.400105  2304 wandb_agent.py:180] Running runs: ['dx7nhni0']\n",
      "I0123 12:37:36.590302  2304 wandb_agent.py:180] Running runs: ['dx7nhni0']\n",
      "I0123 12:37:41.801393  2304 wandb_agent.py:180] Running runs: ['dx7nhni0']\n",
      "I0123 12:37:47.015390  2304 wandb_agent.py:180] Running runs: ['dx7nhni0']\n",
      "I0123 12:37:52.209208  2304 wandb_agent.py:180] Running runs: ['dx7nhni0']\n",
      "I0123 12:37:57.409530  2304 wandb_agent.py:180] Running runs: ['dx7nhni0']\n",
      "I0123 12:38:02.575662  2304 wandb_agent.py:180] Running runs: ['dx7nhni0']\n",
      "I0123 12:38:07.762313  2304 wandb_agent.py:180] Running runs: ['dx7nhni0']\n",
      "I0123 12:38:13.297830  2304 wandb_agent.py:180] Running runs: ['dx7nhni0']\n",
      "I0123 12:38:18.522068  2304 wandb_agent.py:180] Running runs: ['dx7nhni0']\n",
      "I0123 12:38:23.725421  2304 wandb_agent.py:180] Running runs: ['dx7nhni0']\n",
      "I0123 12:38:28.898011  2304 wandb_agent.py:180] Running runs: ['dx7nhni0']\n",
      "I0123 12:38:34.105566  2304 wandb_agent.py:180] Running runs: ['dx7nhni0']\n",
      "I0123 12:38:39.319157  2304 wandb_agent.py:180] Running runs: ['dx7nhni0']\n",
      "I0123 12:38:44.527031  2304 wandb_agent.py:180] Running runs: ['dx7nhni0']\n",
      "I0123 12:38:49.715462  2304 wandb_agent.py:180] Running runs: ['dx7nhni0']\n",
      "I0123 12:38:54.925355  2304 wandb_agent.py:180] Running runs: ['dx7nhni0']\n",
      "I0123 12:39:00.137529  2304 wandb_agent.py:180] Running runs: ['dx7nhni0']\n",
      "I0123 12:39:05.322412  2304 wandb_agent.py:180] Running runs: ['dx7nhni0']\n",
      "I0123 12:39:10.535625  2304 wandb_agent.py:180] Running runs: ['dx7nhni0']\n",
      "I0123 12:39:15.742469  2304 wandb_agent.py:180] Running runs: ['dx7nhni0']\n",
      "I0123 12:39:20.965091  2304 wandb_agent.py:180] Running runs: ['dx7nhni0']\n",
      "I0123 12:39:26.167879  2304 wandb_agent.py:180] Running runs: ['dx7nhni0']\n",
      "I0123 12:39:31.365309  2304 wandb_agent.py:180] Running runs: ['dx7nhni0']\n",
      "I0123 12:39:36.552835  2304 wandb_agent.py:180] Running runs: ['dx7nhni0']\n",
      "I0123 12:39:41.738229  2304 wandb_agent.py:180] Running runs: ['dx7nhni0']\n",
      "I0123 12:39:46.930038  2304 wandb_agent.py:180] Running runs: ['dx7nhni0']\n",
      "I0123 12:39:52.135402  2304 wandb_agent.py:180] Running runs: ['dx7nhni0']\n",
      "I0123 12:39:57.334584  2304 wandb_agent.py:180] Running runs: ['dx7nhni0']\n",
      "I0123 12:40:02.546442  2304 wandb_agent.py:180] Running runs: ['dx7nhni0']\n",
      "I0123 12:40:07.737616  2304 wandb_agent.py:180] Running runs: ['dx7nhni0']\n",
      "I0123 12:40:12.990141  2304 wandb_agent.py:180] Running runs: ['dx7nhni0']\n",
      "I0123 12:40:18.184808  2304 wandb_agent.py:180] Running runs: ['dx7nhni0']\n",
      "I0123 12:40:23.386208  2304 wandb_agent.py:180] Running runs: ['dx7nhni0']\n",
      "I0123 12:40:28.575447  2304 wandb_agent.py:180] Running runs: ['dx7nhni0']\n",
      "I0123 12:40:33.779415  2304 wandb_agent.py:180] Running runs: ['dx7nhni0']\n",
      "I0123 12:40:39.257987  2304 wandb_agent.py:180] Running runs: ['dx7nhni0']\n",
      "I0123 12:40:44.470533  2304 wandb_agent.py:180] Running runs: ['dx7nhni0']\n",
      "I0123 12:40:49.658177  2304 wandb_agent.py:180] Running runs: ['dx7nhni0']\n",
      "I0123 12:40:54.897353  2304 wandb_agent.py:180] Running runs: ['dx7nhni0']\n",
      "I0123 12:41:00.096499  2304 wandb_agent.py:180] Running runs: ['dx7nhni0']\n",
      "I0123 12:41:05.281920  2304 wandb_agent.py:180] Running runs: ['dx7nhni0']\n",
      "I0123 12:41:10.468264  2304 wandb_agent.py:180] Running runs: ['dx7nhni0']\n",
      "I0123 12:41:15.651542  2304 wandb_agent.py:180] Running runs: ['dx7nhni0']\n",
      "I0123 12:41:20.834397  2304 wandb_agent.py:180] Running runs: ['dx7nhni0']\n",
      "I0123 12:41:26.032059  2304 wandb_agent.py:180] Running runs: ['dx7nhni0']\n",
      "I0123 12:41:31.236768  2304 wandb_agent.py:180] Running runs: ['dx7nhni0']\n",
      "I0123 12:41:36.447306  2304 wandb_agent.py:180] Running runs: ['dx7nhni0']\n",
      "I0123 12:41:41.628598  2304 wandb_agent.py:180] Running runs: ['dx7nhni0']\n",
      "I0123 12:41:46.829191  2304 wandb_agent.py:180] Running runs: ['dx7nhni0']\n",
      "I0123 12:41:52.030683  2304 wandb_agent.py:180] Running runs: ['dx7nhni0']\n",
      "I0123 12:41:57.299679  2304 wandb_agent.py:180] Running runs: ['dx7nhni0']\n",
      "I0123 12:42:02.498534  2304 wandb_agent.py:180] Running runs: ['dx7nhni0']\n",
      "I0123 12:42:07.682950  2304 wandb_agent.py:180] Running runs: ['dx7nhni0']\n",
      "I0123 12:42:12.902773  2304 wandb_agent.py:180] Running runs: ['dx7nhni0']\n",
      "I0123 12:42:18.140711  2304 wandb_agent.py:180] Running runs: ['dx7nhni0']\n",
      "I0123 12:42:23.353044  2304 wandb_agent.py:180] Running runs: ['dx7nhni0']\n",
      "I0123 12:42:28.560775  2304 wandb_agent.py:180] Running runs: ['dx7nhni0']\n",
      "I0123 12:42:33.756305  2304 wandb_agent.py:180] Running runs: ['dx7nhni0']\n",
      "I0123 12:42:38.954818  2304 wandb_agent.py:180] Running runs: ['dx7nhni0']\n",
      "I0123 12:42:44.172343  2304 wandb_agent.py:180] Running runs: ['dx7nhni0']\n",
      "I0123 12:42:49.389860  2304 wandb_agent.py:180] Running runs: ['dx7nhni0']\n",
      "I0123 12:42:54.582803  2304 wandb_agent.py:180] Running runs: ['dx7nhni0']\n",
      "I0123 12:42:59.790653  2304 wandb_agent.py:180] Running runs: ['dx7nhni0']\n",
      "I0123 12:43:04.973693  2304 wandb_agent.py:180] Running runs: ['dx7nhni0']\n",
      "I0123 12:43:10.151044  2304 wandb_agent.py:180] Running runs: ['dx7nhni0']\n",
      "I0123 12:43:15.660874  2304 wandb_agent.py:180] Running runs: ['dx7nhni0']\n",
      "I0123 12:43:20.879339  2304 wandb_agent.py:180] Running runs: ['dx7nhni0']\n",
      "I0123 12:43:26.309483  2304 wandb_agent.py:180] Running runs: ['dx7nhni0']\n",
      "I0123 12:43:31.508638  2304 wandb_agent.py:180] Running runs: ['dx7nhni0']\n",
      "I0123 12:43:37.134063  2304 wandb_agent.py:180] Running runs: ['dx7nhni0']\n",
      "I0123 12:43:42.334475  2304 wandb_agent.py:180] Running runs: ['dx7nhni0']\n",
      "I0123 12:43:47.532892  2304 wandb_agent.py:180] Running runs: ['dx7nhni0']\n",
      "I0123 12:43:52.731430  2304 wandb_agent.py:180] Running runs: ['dx7nhni0']\n",
      "I0123 12:43:57.930275  2304 wandb_agent.py:180] Running runs: ['dx7nhni0']\n",
      "I0123 12:44:03.123309  2304 wandb_agent.py:180] Running runs: ['dx7nhni0']\n",
      "I0123 12:44:08.311740  2304 wandb_agent.py:180] Running runs: ['dx7nhni0']\n",
      "I0123 12:44:13.532583  2304 wandb_agent.py:180] Running runs: ['dx7nhni0']\n",
      "I0123 12:44:18.738608  2304 wandb_agent.py:180] Running runs: ['dx7nhni0']\n",
      "I0123 12:44:23.943022  2304 wandb_agent.py:180] Running runs: ['dx7nhni0']\n",
      "I0123 12:44:29.151165  2304 wandb_agent.py:180] Running runs: ['dx7nhni0']\n",
      "I0123 12:44:34.361784  2304 wandb_agent.py:180] Running runs: ['dx7nhni0']\n",
      "I0123 12:44:39.570479  2304 wandb_agent.py:180] Running runs: ['dx7nhni0']\n",
      "I0123 12:44:44.786432  2304 wandb_agent.py:180] Running runs: ['dx7nhni0']\n",
      "I0123 12:44:49.993285  2304 wandb_agent.py:180] Running runs: ['dx7nhni0']\n",
      "I0123 12:44:55.217665  2304 wandb_agent.py:180] Running runs: ['dx7nhni0']\n",
      "I0123 12:45:00.444914  2304 wandb_agent.py:180] Running runs: ['dx7nhni0']\n",
      "I0123 12:45:05.624238  2304 wandb_agent.py:180] Running runs: ['dx7nhni0']\n",
      "I0123 12:45:10.831397  2304 wandb_agent.py:180] Running runs: ['dx7nhni0']\n",
      "I0123 12:45:16.029627  2304 wandb_agent.py:180] Running runs: ['dx7nhni0']\n",
      "I0123 12:45:21.243697  2304 wandb_agent.py:180] Running runs: ['dx7nhni0']\n",
      "I0123 12:45:26.450521  2304 wandb_agent.py:180] Running runs: ['dx7nhni0']\n",
      "I0123 12:45:31.733017  2304 wandb_agent.py:180] Running runs: ['dx7nhni0']\n",
      "I0123 12:45:36.919389  2304 wandb_agent.py:180] Running runs: ['dx7nhni0']\n",
      "I0123 12:45:42.191716  2304 wandb_agent.py:180] Running runs: ['dx7nhni0']\n",
      "I0123 12:45:47.533041  2304 wandb_agent.py:180] Running runs: ['dx7nhni0']\n",
      "I0123 12:45:52.697355  2304 wandb_agent.py:180] Running runs: ['dx7nhni0']\n",
      "I0123 12:45:57.900758  2304 wandb_agent.py:180] Running runs: ['dx7nhni0']\n",
      "I0123 12:46:03.107755  2304 wandb_agent.py:180] Running runs: ['dx7nhni0']\n",
      "I0123 12:46:08.324669  2304 wandb_agent.py:180] Running runs: ['dx7nhni0']\n",
      "I0123 12:46:13.525669  2304 wandb_agent.py:180] Running runs: ['dx7nhni0']\n",
      "I0123 12:46:18.714726  2304 wandb_agent.py:180] Running runs: ['dx7nhni0']\n",
      "I0123 12:46:23.891522  2304 wandb_agent.py:180] Running runs: ['dx7nhni0']\n",
      "I0123 12:46:29.070835  2304 wandb_agent.py:180] Running runs: ['dx7nhni0']\n",
      "I0123 12:46:34.307511  2304 wandb_agent.py:180] Running runs: ['dx7nhni0']\n",
      "I0123 12:46:39.511959  2304 wandb_agent.py:180] Running runs: ['dx7nhni0']\n",
      "I0123 12:46:44.700219  2304 wandb_agent.py:180] Running runs: ['dx7nhni0']\n",
      "I0123 12:46:49.899619  2304 wandb_agent.py:180] Running runs: ['dx7nhni0']\n",
      "I0123 12:46:55.123795  2304 wandb_agent.py:180] Running runs: ['dx7nhni0']\n",
      "I0123 12:47:00.321491  2304 wandb_agent.py:180] Running runs: ['dx7nhni0']\n",
      "I0123 12:47:05.566516  2304 wandb_agent.py:180] Running runs: ['dx7nhni0']\n",
      "I0123 12:47:10.760461  2304 wandb_agent.py:180] Running runs: ['dx7nhni0']\n",
      "I0123 12:47:15.997209  2304 wandb_agent.py:180] Running runs: ['dx7nhni0']\n",
      "I0123 12:47:21.230911  2304 wandb_agent.py:180] Running runs: ['dx7nhni0']\n",
      "I0123 12:47:26.438430  2304 wandb_agent.py:180] Running runs: ['dx7nhni0']\n",
      "I0123 12:47:32.285951  2304 wandb_agent.py:180] Running runs: ['dx7nhni0']\n",
      "I0123 12:47:37.750581  2304 wandb_agent.py:180] Running runs: ['dx7nhni0']\n",
      "I0123 12:47:42.944933  2304 wandb_agent.py:180] Running runs: ['dx7nhni0']\n",
      "I0123 12:47:48.143273  2304 wandb_agent.py:180] Running runs: ['dx7nhni0']\n",
      "I0123 12:47:53.383205  2304 wandb_agent.py:180] Running runs: ['dx7nhni0']\n",
      "I0123 12:47:58.587857  2304 wandb_agent.py:180] Running runs: ['dx7nhni0']\n",
      "I0123 12:48:03.827094  2304 wandb_agent.py:180] Running runs: ['dx7nhni0']\n",
      "I0123 12:48:09.027646  2304 wandb_agent.py:180] Running runs: ['dx7nhni0']\n",
      "I0123 12:48:14.308276  2304 wandb_agent.py:180] Running runs: ['dx7nhni0']\n",
      "I0123 12:48:19.629863  2304 wandb_agent.py:180] Running runs: ['dx7nhni0']\n",
      "I0123 12:48:24.841711  2304 wandb_agent.py:180] Running runs: ['dx7nhni0']\n",
      "I0123 12:48:30.039333  2304 wandb_agent.py:180] Running runs: ['dx7nhni0']\n",
      "I0123 12:48:35.233201  2304 wandb_agent.py:180] Running runs: ['dx7nhni0']\n",
      "I0123 12:48:40.422529  2304 wandb_agent.py:180] Running runs: ['dx7nhni0']\n",
      "I0123 12:48:45.605909  2304 wandb_agent.py:180] Running runs: ['dx7nhni0']\n",
      "I0123 12:48:50.814679  2304 wandb_agent.py:180] Running runs: ['dx7nhni0']\n",
      "I0123 12:48:56.016991  2304 wandb_agent.py:180] Running runs: ['dx7nhni0']\n",
      "I0123 12:49:01.182790  2304 wandb_agent.py:180] Running runs: ['dx7nhni0']\n",
      "I0123 12:49:06.386865  2304 wandb_agent.py:180] Running runs: ['dx7nhni0']\n",
      "I0123 12:49:11.572557  2304 wandb_agent.py:180] Running runs: ['dx7nhni0']\n",
      "I0123 12:49:16.755707  2304 wandb_agent.py:180] Running runs: ['dx7nhni0']\n",
      "I0123 12:49:22.066850  2304 wandb_agent.py:180] Running runs: ['dx7nhni0']\n",
      "I0123 12:49:27.263997  2304 wandb_agent.py:180] Running runs: ['dx7nhni0']\n",
      "I0123 12:49:32.452629  2304 wandb_agent.py:180] Running runs: ['dx7nhni0']\n",
      "I0123 12:49:37.714307  2304 wandb_agent.py:180] Running runs: ['dx7nhni0']\n",
      "I0123 12:49:42.917788  2304 wandb_agent.py:180] Running runs: ['dx7nhni0']\n",
      "I0123 12:49:48.130716  2304 wandb_agent.py:180] Running runs: ['dx7nhni0']\n",
      "I0123 12:49:53.334359  2304 wandb_agent.py:180] Running runs: ['dx7nhni0']\n",
      "I0123 12:49:58.540339  2304 wandb_agent.py:180] Running runs: ['dx7nhni0']\n",
      "I0123 12:50:03.708531  2304 wandb_agent.py:180] Running runs: ['dx7nhni0']\n",
      "I0123 12:50:08.925912  2304 wandb_agent.py:180] Running runs: ['dx7nhni0']\n",
      "I0123 12:50:14.123932  2304 wandb_agent.py:180] Running runs: ['dx7nhni0']\n",
      "I0123 12:50:19.324641  2304 wandb_agent.py:180] Running runs: ['dx7nhni0']\n",
      "I0123 12:50:24.520276  2304 wandb_agent.py:180] Running runs: ['dx7nhni0']\n",
      "I0123 12:50:29.683668  2304 wandb_agent.py:180] Running runs: ['dx7nhni0']\n",
      "I0123 12:50:34.855939  2304 wandb_agent.py:180] Running runs: ['dx7nhni0']\n",
      "I0123 12:50:40.096894  2304 wandb_agent.py:180] Running runs: ['dx7nhni0']\n",
      "wandb: Ctrl-c pressed. Waiting for runs to end. Press ctrl-c again to terminate them.\n"
     ]
    }
   ],
   "source": [
    "wandb.agent(sweep_id, function=train)"
   ]
  },
  {
   "cell_type": "markdown",
   "metadata": {},
   "source": [
    "## Challenge\n",
    "\n",
    "Try to apply RandomSearchCV to your module project today. "
   ]
  },
  {
   "cell_type": "markdown",
   "metadata": {},
   "source": [
    "# Review\n",
    "* <a href=\"#p1\">Part 1</a>: Describe the major hyperparemeters to tune\n",
    "    - Activation Functions\n",
    "    - Optimizer\n",
    "    - Number of Layers\n",
    "    - Number of Neurons\n",
    "    - Batch Size\n",
    "    - Dropout Regulaization\n",
    "    - Learning Rate\n",
    "    - Number of Epochs\n",
    "    - and many more\n",
    "* <a href=\"#p2\">Part 2</a>: Implement an experiment tracking framework\n",
    "    - Weights & Biases\n",
    "    - Comet.ml\n",
    "    - By Hand / GridSearch\n",
    "* <a href=\"#p3\">Part 3</a>: Search the hyperparameter space using RandomSearch\n",
    "    - Sklearn still useful (haha)\n",
    "    - Integration with Wieghts & Biases\n",
    "* <a href=\"#p4\">Part 4</a>: Discuss emerging hyperparameter tuning strategies\n",
    "    - Bayesian Optimization\n",
    "    - Hyperopt\n",
    "    - Genetic Evolution"
   ]
  },
  {
   "cell_type": "markdown",
   "metadata": {},
   "source": [
    "# Sources"
   ]
  },
  {
   "cell_type": "markdown",
   "metadata": {},
   "source": [
    "## Additional Reading\n",
    "- https://machinelearningmastery.com/grid-search-hyperparameters-deep-learning-models-python-keras/\n",
    "- https://blog.floydhub.com/guide-to-hyperparameters-search-for-deep-learning-models/\n",
    "- https://machinelearningmastery.com/dropout-regularization-deep-learning-models-keras/\n",
    "- https://machinelearningmastery.com/introduction-to-weight-constraints-to-reduce-generalization-error-in-deep-learning/\n",
    "- https://machinelearningmastery.com/how-to-configure-the-number-of-layers-and-nodes-in-a-neural-network/"
   ]
  }
 ],
 "metadata": {
  "kernelspec": {
   "display_name": "U4-S2-NN (Python3)",
   "language": "python",
   "name": "u4-s2-nn"
  },
  "language_info": {
   "codemirror_mode": {
    "name": "ipython",
    "version": 3
   },
   "file_extension": ".py",
   "mimetype": "text/x-python",
   "name": "python",
   "nbconvert_exporter": "python",
   "pygments_lexer": "ipython3",
   "version": "3.7.0"
  }
 },
 "nbformat": 4,
 "nbformat_minor": 4
}
