{
 "cells": [
  {
   "cell_type": "markdown",
   "metadata": {
    "colab_type": "text",
    "id": "HJzTIkYAsLxw"
   },
   "source": [
    "Lambda School Data Science\n",
    "\n",
    "*Unit 4, Sprint 2, Module 3*\n",
    "\n",
    "---"
   ]
  },
  {
   "cell_type": "markdown",
   "metadata": {
    "colab_type": "text",
    "id": "HJzTIkYAsLxw"
   },
   "source": [
    "# Neural Network Frameworks (Prepare)"
   ]
  },
  {
   "cell_type": "markdown",
   "metadata": {
    "colab_type": "text",
    "id": "HJzTIkYAsLxw"
   },
   "source": [
    "## Learning Objectives\n",
    "* <a href=\"#p1\">Part 1</a>: Introduce the Keras Sequential Model API\n",
    "* <a href=\"#p2\">Part 2</a>: Learn How to Select Model Architecture \n",
    "* <a href=\"#p3\">Part 3</a>: Discuss the trade-off between various activation functions\n",
    "\n",
    "## Lets Use Libraries!\n",
    "\n",
    "The objective of the last two days has been to familiarize you with the fundamentals of neural networks: terminology, structure of networks, forward propagation, error/cost functions, backpropagation, epochs, and gradient descent. We have tried to reinforce these topics by requiring to you code some of the simplest neural networks by hand including Perceptrons (single node neural networks) and Multi-Layer Perceptrons also known as Feed-Forward Neural Networks. Continuing to do things by hand would not be the best use of our limited time. You're ready to graduate from doing things by hand and start using some powerful libraries to build cutting-edge predictive models. "
   ]
  },
  {
   "cell_type": "markdown",
   "metadata": {},
   "source": [
    "# Keras Sequential API (Learn)"
   ]
  },
  {
   "cell_type": "markdown",
   "metadata": {
    "toc-hr-collapsed": true
   },
   "source": [
    "## Overview\n",
    "\n",
    "> \"Keras is a high-level neural networks API, written in Python and capable of running on top of TensorFlow, CNTK, or Theano. It was developed with a focus on enabling fast experimentation. Being able to go from idea to result with the least possible delay is key to doing good research. Use Keras if you need a deep learning library that:\n",
    "\n",
    "> Allows for easy and fast prototyping (through user friendliness, modularity, and extensibility).\n",
    "Supports both convolutional networks and recurrent networks, as well as combinations of the two.\n",
    "Runs seamlessly on CPU and GPU.\" "
   ]
  },
  {
   "cell_type": "markdown",
   "metadata": {
    "colab_type": "text",
    "id": "AIJoRBxHy27n"
   },
   "source": [
    "### Keras Perceptron Sample"
   ]
  },
  {
   "cell_type": "code",
   "execution_count": 1,
   "metadata": {},
   "outputs": [],
   "source": [
    "import pandas as pd\n",
    "\n",
    "data = { 'x1': [0,1,0,1],\n",
    "         'x2': [0,0,1,1],\n",
    "         'y':  [1,1,1,0]\n",
    "       }\n",
    "\n",
    "df = pd.DataFrame.from_dict(data).astype('int')\n",
    "X = df[['x1', 'x2']].values\n",
    "y = df['y'].values"
   ]
  },
  {
   "cell_type": "code",
   "execution_count": 2,
   "metadata": {
    "colab": {
     "base_uri": "https://localhost:8080/",
     "height": 5216
    },
    "colab_type": "code",
    "id": "TQxyONqKvFxB",
    "outputId": "12966e66-2297-4f82-85b3-c275a9c38563"
   },
   "outputs": [
    {
     "name": "stderr",
     "output_type": "stream",
     "text": [
      "C:\\Users\\John\\Anaconda3\\envs\\U4-S2-NN\\lib\\site-packages\\tensorflow\\python\\framework\\dtypes.py:516: FutureWarning: Passing (type, 1) or '1type' as a synonym of type is deprecated; in a future version of numpy, it will be understood as (type, (1,)) / '(1,)type'.\n",
      "  _np_qint8 = np.dtype([(\"qint8\", np.int8, 1)])\n",
      "C:\\Users\\John\\Anaconda3\\envs\\U4-S2-NN\\lib\\site-packages\\tensorflow\\python\\framework\\dtypes.py:517: FutureWarning: Passing (type, 1) or '1type' as a synonym of type is deprecated; in a future version of numpy, it will be understood as (type, (1,)) / '(1,)type'.\n",
      "  _np_quint8 = np.dtype([(\"quint8\", np.uint8, 1)])\n",
      "C:\\Users\\John\\Anaconda3\\envs\\U4-S2-NN\\lib\\site-packages\\tensorflow\\python\\framework\\dtypes.py:518: FutureWarning: Passing (type, 1) or '1type' as a synonym of type is deprecated; in a future version of numpy, it will be understood as (type, (1,)) / '(1,)type'.\n",
      "  _np_qint16 = np.dtype([(\"qint16\", np.int16, 1)])\n",
      "C:\\Users\\John\\Anaconda3\\envs\\U4-S2-NN\\lib\\site-packages\\tensorflow\\python\\framework\\dtypes.py:519: FutureWarning: Passing (type, 1) or '1type' as a synonym of type is deprecated; in a future version of numpy, it will be understood as (type, (1,)) / '(1,)type'.\n",
      "  _np_quint16 = np.dtype([(\"quint16\", np.uint16, 1)])\n",
      "C:\\Users\\John\\Anaconda3\\envs\\U4-S2-NN\\lib\\site-packages\\tensorflow\\python\\framework\\dtypes.py:520: FutureWarning: Passing (type, 1) or '1type' as a synonym of type is deprecated; in a future version of numpy, it will be understood as (type, (1,)) / '(1,)type'.\n",
      "  _np_qint32 = np.dtype([(\"qint32\", np.int32, 1)])\n",
      "C:\\Users\\John\\Anaconda3\\envs\\U4-S2-NN\\lib\\site-packages\\tensorflow\\python\\framework\\dtypes.py:525: FutureWarning: Passing (type, 1) or '1type' as a synonym of type is deprecated; in a future version of numpy, it will be understood as (type, (1,)) / '(1,)type'.\n",
      "  np_resource = np.dtype([(\"resource\", np.ubyte, 1)])\n",
      "C:\\Users\\John\\Anaconda3\\envs\\U4-S2-NN\\lib\\site-packages\\tensorboard\\compat\\tensorflow_stub\\dtypes.py:541: FutureWarning: Passing (type, 1) or '1type' as a synonym of type is deprecated; in a future version of numpy, it will be understood as (type, (1,)) / '(1,)type'.\n",
      "  _np_qint8 = np.dtype([(\"qint8\", np.int8, 1)])\n",
      "C:\\Users\\John\\Anaconda3\\envs\\U4-S2-NN\\lib\\site-packages\\tensorboard\\compat\\tensorflow_stub\\dtypes.py:542: FutureWarning: Passing (type, 1) or '1type' as a synonym of type is deprecated; in a future version of numpy, it will be understood as (type, (1,)) / '(1,)type'.\n",
      "  _np_quint8 = np.dtype([(\"quint8\", np.uint8, 1)])\n",
      "C:\\Users\\John\\Anaconda3\\envs\\U4-S2-NN\\lib\\site-packages\\tensorboard\\compat\\tensorflow_stub\\dtypes.py:543: FutureWarning: Passing (type, 1) or '1type' as a synonym of type is deprecated; in a future version of numpy, it will be understood as (type, (1,)) / '(1,)type'.\n",
      "  _np_qint16 = np.dtype([(\"qint16\", np.int16, 1)])\n",
      "C:\\Users\\John\\Anaconda3\\envs\\U4-S2-NN\\lib\\site-packages\\tensorboard\\compat\\tensorflow_stub\\dtypes.py:544: FutureWarning: Passing (type, 1) or '1type' as a synonym of type is deprecated; in a future version of numpy, it will be understood as (type, (1,)) / '(1,)type'.\n",
      "  _np_quint16 = np.dtype([(\"quint16\", np.uint16, 1)])\n",
      "C:\\Users\\John\\Anaconda3\\envs\\U4-S2-NN\\lib\\site-packages\\tensorboard\\compat\\tensorflow_stub\\dtypes.py:545: FutureWarning: Passing (type, 1) or '1type' as a synonym of type is deprecated; in a future version of numpy, it will be understood as (type, (1,)) / '(1,)type'.\n",
      "  _np_qint32 = np.dtype([(\"qint32\", np.int32, 1)])\n",
      "C:\\Users\\John\\Anaconda3\\envs\\U4-S2-NN\\lib\\site-packages\\tensorboard\\compat\\tensorflow_stub\\dtypes.py:550: FutureWarning: Passing (type, 1) or '1type' as a synonym of type is deprecated; in a future version of numpy, it will be understood as (type, (1,)) / '(1,)type'.\n",
      "  np_resource = np.dtype([(\"resource\", np.ubyte, 1)])\n",
      "WARNING: Logging before flag parsing goes to stderr.\n",
      "W0122 11:25:44.355751 15576 deprecation.py:506] From C:\\Users\\John\\Anaconda3\\envs\\U4-S2-NN\\lib\\site-packages\\tensorflow\\python\\ops\\init_ops.py:1251: calling VarianceScaling.__init__ (from tensorflow.python.ops.init_ops) with dtype is deprecated and will be removed in a future version.\n",
      "Instructions for updating:\n",
      "Call initializer instance with the dtype argument instead of passing it to the constructor\n",
      "W0122 11:25:44.395730 15576 deprecation.py:323] From C:\\Users\\John\\Anaconda3\\envs\\U4-S2-NN\\lib\\site-packages\\tensorflow\\python\\ops\\nn_impl.py:180: add_dispatch_support.<locals>.wrapper (from tensorflow.python.ops.array_ops) is deprecated and will be removed in a future version.\n",
      "Instructions for updating:\n",
      "Use tf.where in 2.0, which has the same broadcast rule as np.where\n"
     ]
    },
    {
     "name": "stdout",
     "output_type": "stream",
     "text": [
      "Epoch 1/5\n",
      "4/4 [==============================] - 0s 17ms/sample - loss: 0.7593 - acc: 0.5000\n",
      "Epoch 2/5\n",
      "4/4 [==============================] - 0s 247us/sample - loss: 0.7589 - acc: 0.7500\n",
      "Epoch 3/5\n",
      "4/4 [==============================] - 0s 499us/sample - loss: 0.7586 - acc: 0.7500\n",
      "Epoch 4/5\n",
      "4/4 [==============================] - 0s 250us/sample - loss: 0.7582 - acc: 0.7500\n",
      "Epoch 5/5\n",
      "4/4 [==============================] - 0s 250us/sample - loss: 0.7578 - acc: 0.7500\n"
     ]
    },
    {
     "data": {
      "text/plain": [
       "<tensorflow.python.keras.callbacks.History at 0x1b0a0a9b588>"
      ]
     },
     "execution_count": 2,
     "metadata": {},
     "output_type": "execute_result"
    }
   ],
   "source": [
    "from tensorflow.keras.models import Sequential\n",
    "from tensorflow.keras.layers import Dense\n",
    "\n",
    "# This is our perceptron from Monday's by-hand: \n",
    "model = Sequential()\n",
    "model.add(Dense(1,input_dim=2, activation='sigmoid'))\n",
    "model.compile(loss='binary_crossentropy', optimizer='adam', metrics=['accuracy'])\n",
    "model.fit(X,y, epochs=5)"
   ]
  },
  {
   "cell_type": "code",
   "execution_count": 4,
   "metadata": {
    "colab": {
     "base_uri": "https://localhost:8080/",
     "height": 69
    },
    "colab_type": "code",
    "id": "Z1wfKUxszPKa",
    "outputId": "0cdacd1d-6e5a-4bbe-fabb-568cd94724be"
   },
   "outputs": [
    {
     "name": "stdout",
     "output_type": "stream",
     "text": [
      "4/4 [==============================] - 0s 0s/sample - loss: 0.7574 - acc: 0.7500\n",
      "acc: 75.0\n"
     ]
    }
   ],
   "source": [
    "# evaluate the model\n",
    "scores = model.evaluate(X, y)\n",
    "print(f\"{model.metrics_names[1]}: {scores[1]*100}\")"
   ]
  },
  {
   "cell_type": "markdown",
   "metadata": {
    "toc-hr-collapsed": true
   },
   "source": [
    "## Follow Along\n",
    "\n",
    "In the `Sequential` api model, you specify a model architecture by 'sequentially specifying layers. This type of specification works well for feed forward neural networks in which the data flows in one direction (forward propagation) and the error flows in the opposite direction (backwards propagation). The Keras `Sequential` API follows a standardarized worklow to estimate a 'net: \n",
    "\n",
    "1. Load Data\n",
    "2. Define Model\n",
    "3. Compile Model\n",
    "4. Fit Model\n",
    "5. Evaluate Model\n",
    "\n",
    "You saw these steps in our Keras Perceptron Sample, but let's walk thru each step in detail."
   ]
  },
  {
   "cell_type": "markdown",
   "metadata": {
    "colab_type": "text",
    "id": "Md5D67XwqVAf",
    "toc-hr-collapsed": false
   },
   "source": [
    "### Load Data\n",
    "\n",
    "Our life is going to be easier if our data is already cleaned up and numeric, so lets use this dataset from Jason Brownlee that is already numeric and has no column headers so we'll need to slice off the last column of data to act as our y values."
   ]
  },
  {
   "cell_type": "code",
   "execution_count": 5,
   "metadata": {
    "colab": {
     "base_uri": "https://localhost:8080/",
     "height": 109,
     "resources": {
      "http://localhost:8080/nbextensions/google.colab/files.js": {
       "data": "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",
       "headers": [
        [
         "content-type",
         "application/javascript"
        ]
       ],
       "ok": true,
       "status": 200,
       "status_text": ""
      }
     }
    },
    "colab_type": "code",
    "id": "bn09phMBpY1J",
    "outputId": "1c45fb6a-e3cb-4ec1-fb85-de52b3c60bae"
   },
   "outputs": [],
   "source": [
    "import pandas as pd\n",
    "\n",
    "url =\"https://raw.githubusercontent.com/jbrownlee/Datasets/master/pima-indians-diabetes.data.csv\"\n",
    "\n",
    "dataset = pd.read_csv(url, header=None)"
   ]
  },
  {
   "cell_type": "code",
   "execution_count": 6,
   "metadata": {},
   "outputs": [
    {
     "data": {
      "text/html": [
       "<div>\n",
       "<style scoped>\n",
       "    .dataframe tbody tr th:only-of-type {\n",
       "        vertical-align: middle;\n",
       "    }\n",
       "\n",
       "    .dataframe tbody tr th {\n",
       "        vertical-align: top;\n",
       "    }\n",
       "\n",
       "    .dataframe thead th {\n",
       "        text-align: right;\n",
       "    }\n",
       "</style>\n",
       "<table border=\"1\" class=\"dataframe\">\n",
       "  <thead>\n",
       "    <tr style=\"text-align: right;\">\n",
       "      <th></th>\n",
       "      <th>0</th>\n",
       "      <th>1</th>\n",
       "      <th>2</th>\n",
       "      <th>3</th>\n",
       "      <th>4</th>\n",
       "      <th>5</th>\n",
       "      <th>6</th>\n",
       "      <th>7</th>\n",
       "      <th>8</th>\n",
       "    </tr>\n",
       "  </thead>\n",
       "  <tbody>\n",
       "    <tr>\n",
       "      <th>0</th>\n",
       "      <td>6</td>\n",
       "      <td>148</td>\n",
       "      <td>72</td>\n",
       "      <td>35</td>\n",
       "      <td>0</td>\n",
       "      <td>33.6</td>\n",
       "      <td>0.627</td>\n",
       "      <td>50</td>\n",
       "      <td>1</td>\n",
       "    </tr>\n",
       "    <tr>\n",
       "      <th>1</th>\n",
       "      <td>1</td>\n",
       "      <td>85</td>\n",
       "      <td>66</td>\n",
       "      <td>29</td>\n",
       "      <td>0</td>\n",
       "      <td>26.6</td>\n",
       "      <td>0.351</td>\n",
       "      <td>31</td>\n",
       "      <td>0</td>\n",
       "    </tr>\n",
       "    <tr>\n",
       "      <th>2</th>\n",
       "      <td>8</td>\n",
       "      <td>183</td>\n",
       "      <td>64</td>\n",
       "      <td>0</td>\n",
       "      <td>0</td>\n",
       "      <td>23.3</td>\n",
       "      <td>0.672</td>\n",
       "      <td>32</td>\n",
       "      <td>1</td>\n",
       "    </tr>\n",
       "    <tr>\n",
       "      <th>3</th>\n",
       "      <td>1</td>\n",
       "      <td>89</td>\n",
       "      <td>66</td>\n",
       "      <td>23</td>\n",
       "      <td>94</td>\n",
       "      <td>28.1</td>\n",
       "      <td>0.167</td>\n",
       "      <td>21</td>\n",
       "      <td>0</td>\n",
       "    </tr>\n",
       "    <tr>\n",
       "      <th>4</th>\n",
       "      <td>0</td>\n",
       "      <td>137</td>\n",
       "      <td>40</td>\n",
       "      <td>35</td>\n",
       "      <td>168</td>\n",
       "      <td>43.1</td>\n",
       "      <td>2.288</td>\n",
       "      <td>33</td>\n",
       "      <td>1</td>\n",
       "    </tr>\n",
       "  </tbody>\n",
       "</table>\n",
       "</div>"
      ],
      "text/plain": [
       "   0    1   2   3    4     5      6   7  8\n",
       "0  6  148  72  35    0  33.6  0.627  50  1\n",
       "1  1   85  66  29    0  26.6  0.351  31  0\n",
       "2  8  183  64   0    0  23.3  0.672  32  1\n",
       "3  1   89  66  23   94  28.1  0.167  21  0\n",
       "4  0  137  40  35  168  43.1  2.288  33  1"
      ]
     },
     "execution_count": 6,
     "metadata": {},
     "output_type": "execute_result"
    }
   ],
   "source": [
    "dataset.head()"
   ]
  },
  {
   "cell_type": "code",
   "execution_count": 7,
   "metadata": {
    "colab": {
     "base_uri": "https://localhost:8080/",
     "height": 725
    },
    "colab_type": "code",
    "id": "FKuofD3Pogil",
    "outputId": "16c2f4fa-93c8-491d-b339-9f35f7918621"
   },
   "outputs": [
    {
     "name": "stdout",
     "output_type": "stream",
     "text": [
      "(768, 8)\n",
      "[[  6.    148.     72.    ...  33.6     0.627  50.   ]\n",
      " [  1.     85.     66.    ...  26.6     0.351  31.   ]\n",
      " [  8.    183.     64.    ...  23.3     0.672  32.   ]\n",
      " ...\n",
      " [  5.    121.     72.    ...  26.2     0.245  30.   ]\n",
      " [  1.    126.     60.    ...  30.1     0.349  47.   ]\n",
      " [  1.     93.     70.    ...  30.4     0.315  23.   ]]\n"
     ]
    }
   ],
   "source": [
    "X = dataset.values[:,0:8]\n",
    "print(X.shape)\n",
    "print(X)"
   ]
  },
  {
   "cell_type": "code",
   "execution_count": 8,
   "metadata": {},
   "outputs": [
    {
     "name": "stdout",
     "output_type": "stream",
     "text": [
      "(768,)\n",
      "[1. 0. 1. 0. 1. 0. 1. 0. 1. 1. 0. 1. 0. 1. 1. 1. 1. 1. 0. 1. 0. 0. 1. 1.\n",
      " 1. 1. 1. 0. 0. 0. 0. 1. 0. 0. 0. 0. 0. 1. 1. 1. 0. 0. 0. 1. 0. 1. 0. 0.\n",
      " 1. 0. 0. 0. 0. 1. 0. 0. 1. 0. 0. 0. 0. 1. 0. 0. 1. 0. 1. 0. 0. 0. 1. 0.\n",
      " 1. 0. 0. 0. 0. 0. 1. 0. 0. 0. 0. 0. 1. 0. 0. 0. 1. 0. 0. 0. 0. 1. 0. 0.\n",
      " 0. 0. 0. 1. 1. 0. 0. 0. 0. 0. 0. 0. 0. 1. 1. 1. 0. 0. 1. 1. 1. 0. 0. 0.\n",
      " 1. 0. 0. 0. 1. 1. 0. 0. 1. 1. 1. 1. 1. 0. 0. 0. 0. 0. 0. 0. 0. 0. 0. 1.\n",
      " 0. 0. 0. 0. 0. 0. 0. 0. 1. 0. 1. 1. 0. 0. 0. 1. 0. 0. 0. 0. 1. 1. 0. 0.\n",
      " 0. 0. 1. 1. 0. 0. 0. 1. 0. 1. 0. 1. 0. 0. 0. 0. 0. 1. 1. 1. 1. 1. 0. 0.\n",
      " 1. 1. 0. 1. 0. 1. 1. 1. 0. 0. 0. 0. 0. 0. 1. 1. 0. 1. 0. 0. 0. 1. 1. 1.\n",
      " 1. 0. 1. 1. 1. 1. 0. 0. 0. 0. 0. 1. 0. 0. 1. 1. 0. 0. 0. 1. 1. 1. 1. 0.\n",
      " 0. 0. 1. 1. 0. 1. 0. 0. 0. 0. 0. 0. 0. 0. 1. 1. 0. 0. 0. 1. 0. 1. 0. 0.\n",
      " 1. 0. 1. 0. 0. 1. 1. 0. 0. 0. 0. 0. 1. 0. 0. 0. 1. 0. 0. 1. 1. 0. 0. 1.\n",
      " 0. 0. 0. 1. 1. 1. 0. 0. 1. 0. 1. 0. 1. 1. 0. 1. 0. 0. 1. 0. 1. 1. 0. 0.\n",
      " 1. 0. 1. 0. 0. 1. 0. 1. 0. 1. 1. 1. 0. 0. 1. 0. 1. 0. 0. 0. 1. 0. 0. 0.\n",
      " 0. 1. 1. 1. 0. 0. 0. 0. 0. 0. 0. 0. 0. 1. 0. 0. 0. 0. 0. 1. 1. 1. 0. 1.\n",
      " 1. 0. 0. 1. 0. 0. 1. 0. 0. 1. 1. 0. 0. 0. 0. 1. 0. 0. 1. 0. 0. 0. 0. 0.\n",
      " 0. 0. 1. 1. 1. 0. 0. 1. 0. 0. 1. 0. 0. 1. 0. 1. 1. 0. 1. 0. 1. 0. 1. 0.\n",
      " 1. 1. 0. 0. 0. 0. 1. 1. 0. 1. 0. 1. 0. 0. 0. 0. 1. 1. 0. 1. 0. 1. 0. 0.\n",
      " 0. 0. 0. 1. 0. 0. 0. 0. 1. 0. 0. 1. 1. 1. 0. 0. 1. 0. 0. 1. 0. 0. 0. 1.\n",
      " 0. 0. 1. 0. 0. 0. 0. 0. 0. 0. 0. 0. 1. 0. 0. 0. 0. 0. 0. 0. 1. 0. 0. 0.\n",
      " 1. 0. 0. 0. 1. 1. 0. 0. 0. 0. 0. 0. 0. 1. 0. 0. 0. 0. 1. 0. 0. 0. 1. 0.\n",
      " 0. 0. 1. 0. 0. 0. 1. 0. 0. 0. 0. 1. 1. 0. 0. 0. 0. 0. 0. 1. 0. 0. 0. 0.\n",
      " 0. 0. 0. 0. 0. 0. 0. 1. 0. 0. 0. 1. 1. 1. 1. 0. 0. 1. 1. 0. 0. 0. 0. 0.\n",
      " 0. 0. 0. 0. 0. 0. 0. 0. 1. 1. 0. 0. 0. 0. 0. 0. 0. 1. 0. 0. 0. 0. 0. 0.\n",
      " 0. 1. 0. 1. 1. 0. 0. 0. 1. 0. 1. 0. 1. 0. 1. 0. 1. 0. 0. 1. 0. 0. 1. 0.\n",
      " 0. 0. 0. 1. 1. 0. 1. 0. 0. 0. 0. 1. 1. 0. 1. 0. 0. 0. 1. 1. 0. 0. 0. 0.\n",
      " 0. 0. 0. 0. 0. 0. 1. 0. 0. 0. 0. 1. 0. 0. 1. 0. 0. 0. 1. 0. 0. 0. 1. 1.\n",
      " 1. 0. 0. 0. 0. 0. 0. 1. 0. 0. 0. 1. 0. 1. 1. 1. 1. 0. 1. 1. 0. 0. 0. 0.\n",
      " 0. 0. 0. 1. 1. 0. 1. 0. 0. 1. 0. 1. 0. 0. 0. 0. 0. 1. 0. 1. 0. 1. 0. 1.\n",
      " 1. 0. 0. 0. 0. 1. 1. 0. 0. 0. 1. 0. 1. 1. 0. 0. 1. 0. 0. 1. 1. 0. 0. 1.\n",
      " 0. 0. 1. 0. 0. 0. 0. 0. 0. 0. 1. 1. 1. 0. 0. 0. 0. 0. 0. 1. 1. 0. 0. 1.\n",
      " 0. 0. 1. 0. 1. 1. 1. 0. 0. 1. 1. 1. 0. 1. 0. 1. 0. 1. 0. 0. 0. 0. 1. 0.]\n"
     ]
    }
   ],
   "source": [
    "y = dataset.values[:,-1]\n",
    "print(y.shape)\n",
    "print(y)"
   ]
  },
  {
   "cell_type": "markdown",
   "metadata": {
    "colab_type": "text",
    "id": "o0xMqOyTs5xt"
   },
   "source": [
    "### Define Model"
   ]
  },
  {
   "cell_type": "code",
   "execution_count": 9,
   "metadata": {
    "colab": {},
    "colab_type": "code",
    "id": "Bp9USczrfu6M"
   },
   "outputs": [],
   "source": [
    "from tensorflow.keras.models import Sequential\n",
    "from tensorflow.keras.layers import Dense\n",
    "\n",
    "import numpy as np\n",
    "\n",
    "np.random.seed(812)"
   ]
  },
  {
   "cell_type": "markdown",
   "metadata": {
    "colab_type": "text",
    "id": "wAzHLg27thoN"
   },
   "source": [
    "I'll instantiate my model as a \"sequential\" model. This just means that I'm going to tell Keras what my model's architecture should be one layer at a time."
   ]
  },
  {
   "cell_type": "code",
   "execution_count": 10,
   "metadata": {
    "colab": {},
    "colab_type": "code",
    "id": "DSNsL49Xp6KI"
   },
   "outputs": [],
   "source": [
    "# https://keras.io/getting-started/sequential-model-guide/\n",
    "model = Sequential()"
   ]
  },
  {
   "cell_type": "markdown",
   "metadata": {
    "colab_type": "text",
    "id": "ZCYX6QzJtvpG"
   },
   "source": [
    "Adding a \"Dense\" layer to our model is how we add \"vanilla\" perceptron-based layers to our neural network. These are also called \"fully-connected\" or \"densely-connected\" layers. They're used as a layer type in lots of other Neural Net Architectures but they're not referred to as perceptrons or multi-layer perceptrons very often in those situations even though that's what they are.\n",
    "\n",
    " > [\"Just your regular densely-connected NN layer.\"](https://keras.io/layers/core/)\n",
    " \n",
    " The first argument is how many neurons we want to have in that layer. To create a perceptron model we will just set it to 1. We will tell it that there will be 8 inputs coming into this layer from our dataset and set it to use the sigmoid activation function."
   ]
  },
  {
   "cell_type": "code",
   "execution_count": 11,
   "metadata": {
    "colab": {
     "base_uri": "https://localhost:8080/",
     "height": 89
    },
    "colab_type": "code",
    "id": "GNzOLidxtvFa",
    "outputId": "35b1457d-0189-49f1-aa6d-3ef15b29bd6e"
   },
   "outputs": [],
   "source": [
    "model.add(Dense(1, input_dim=8, activation=\"sigmoid\")) #Relu is valid option. "
   ]
  },
  {
   "cell_type": "markdown",
   "metadata": {
    "colab_type": "text",
    "id": "EnI3jwKMtBL2",
    "toc-hr-collapsed": false
   },
   "source": [
    "### Compile Model\n",
    "Using binary_crossentropy as the loss function here is just telling keras that I'm doing binary classification so that it can use the appropriate loss function accordingly. If we were predicting non-binary categories we might assign something like `categorical_crossentropy`. We're also telling keras that we want it to report model accuracy as our main error metric for each epoch. We will also be able to see the overall accuracy once the model has finished training.\n",
    "\n",
    "#### Adam Optimizer\n",
    "Check out this links for more background on the Adam optimizer and Stohastic Gradient Descent\n",
    "* [Adam Optimization Algorithm](https://machinelearningmastery.com/adam-optimization-algorithm-for-deep-learning/)\n",
    "* [Adam Optimizer - original paper](https://arxiv.org/abs/1412.6980)"
   ]
  },
  {
   "cell_type": "code",
   "execution_count": 13,
   "metadata": {
    "colab": {},
    "colab_type": "code",
    "id": "qp6xwYaqurRO"
   },
   "outputs": [],
   "source": [
    "model.compile(loss='binary_crossentropy', optimizer='adam', metrics=['accuracy'])"
   ]
  },
  {
   "cell_type": "markdown",
   "metadata": {
    "colab_type": "text",
    "id": "5dW8SZ2Ls9SX",
    "toc-hr-collapsed": false
   },
   "source": [
    "### Fit Model\n",
    "\n",
    "Lets train it up! `model.fit()` has a `batch_size` parameter that we can use if we want to do mini-batch epochs, but since this tabular dataset is pretty small we're just going to delete that parameter. Keras' default `batch_size` is `None` so omiting it will tell Keras to do batch epochs."
   ]
  },
  {
   "cell_type": "code",
   "execution_count": 14,
   "metadata": {},
   "outputs": [
    {
     "name": "stdout",
     "output_type": "stream",
     "text": [
      "Epoch 1/150\n",
      "768/768 [==============================] - 0s 94us/sample - loss: 72.6740 - acc: 0.3490\n",
      "Epoch 2/150\n",
      "768/768 [==============================] - 0s 26us/sample - loss: 67.6360 - acc: 0.3490\n",
      "Epoch 3/150\n",
      "768/768 [==============================] - 0s 25us/sample - loss: 62.4790 - acc: 0.3490\n",
      "Epoch 4/150\n",
      "768/768 [==============================] - 0s 22us/sample - loss: 57.4156 - acc: 0.3490\n",
      "Epoch 5/150\n",
      "768/768 [==============================] - 0s 23us/sample - loss: 52.3447 - acc: 0.3490\n",
      "Epoch 6/150\n",
      "768/768 [==============================] - 0s 26us/sample - loss: 47.2199 - acc: 0.3490\n",
      "Epoch 7/150\n",
      "768/768 [==============================] - 0s 25us/sample - loss: 42.1272 - acc: 0.3477\n",
      "Epoch 8/150\n",
      "768/768 [==============================] - 0s 22us/sample - loss: 37.0747 - acc: 0.3464\n",
      "Epoch 9/150\n",
      "768/768 [==============================] - 0s 22us/sample - loss: 32.1162 - acc: 0.3555\n",
      "Epoch 10/150\n",
      "768/768 [==============================] - 0s 23us/sample - loss: 27.2709 - acc: 0.3763\n",
      "Epoch 11/150\n",
      "768/768 [==============================] - 0s 23us/sample - loss: 23.0537 - acc: 0.3867\n",
      "Epoch 12/150\n",
      "768/768 [==============================] - 0s 23us/sample - loss: 19.6958 - acc: 0.3997\n",
      "Epoch 13/150\n",
      "768/768 [==============================] - 0s 22us/sample - loss: 17.3430 - acc: 0.4466\n",
      "Epoch 14/150\n",
      "768/768 [==============================] - 0s 22us/sample - loss: 15.5434 - acc: 0.4661\n",
      "Epoch 15/150\n",
      "768/768 [==============================] - 0s 22us/sample - loss: 14.0694 - acc: 0.4688\n",
      "Epoch 16/150\n",
      "768/768 [==============================] - 0s 25us/sample - loss: 12.7174 - acc: 0.4857\n",
      "Epoch 17/150\n",
      "768/768 [==============================] - 0s 26us/sample - loss: 11.4747 - acc: 0.4948\n",
      "Epoch 18/150\n",
      "768/768 [==============================] - 0s 25us/sample - loss: 10.3486 - acc: 0.5156\n",
      "Epoch 19/150\n",
      "768/768 [==============================] - 0s 23us/sample - loss: 9.3012 - acc: 0.5299\n",
      "Epoch 20/150\n",
      "768/768 [==============================] - 0s 26us/sample - loss: 8.3795 - acc: 0.5521\n",
      "Epoch 21/150\n",
      "768/768 [==============================] - 0s 27us/sample - loss: 7.6100 - acc: 0.5651\n",
      "Epoch 22/150\n",
      "768/768 [==============================] - 0s 27us/sample - loss: 6.9479 - acc: 0.5872\n",
      "Epoch 23/150\n",
      "768/768 [==============================] - 0s 26us/sample - loss: 6.3780 - acc: 0.5951\n",
      "Epoch 24/150\n",
      "768/768 [==============================] - 0s 23us/sample - loss: 5.8350 - acc: 0.6003\n",
      "Epoch 25/150\n",
      "768/768 [==============================] - 0s 25us/sample - loss: 5.3588 - acc: 0.6055\n",
      "Epoch 26/150\n",
      "768/768 [==============================] - 0s 25us/sample - loss: 4.8791 - acc: 0.6094\n",
      "Epoch 27/150\n",
      "768/768 [==============================] - 0s 26us/sample - loss: 4.4128 - acc: 0.5990\n",
      "Epoch 28/150\n",
      "768/768 [==============================] - 0s 22us/sample - loss: 3.9786 - acc: 0.5951\n",
      "Epoch 29/150\n",
      "768/768 [==============================] - 0s 25us/sample - loss: 3.5687 - acc: 0.5911\n",
      "Epoch 30/150\n",
      "768/768 [==============================] - 0s 23us/sample - loss: 3.1847 - acc: 0.5911\n",
      "Epoch 31/150\n",
      "768/768 [==============================] - 0s 23us/sample - loss: 2.8673 - acc: 0.5872\n",
      "Epoch 32/150\n",
      "768/768 [==============================] - 0s 22us/sample - loss: 2.6007 - acc: 0.5846\n",
      "Epoch 33/150\n",
      "768/768 [==============================] - 0s 21us/sample - loss: 2.3966 - acc: 0.5872\n",
      "Epoch 34/150\n",
      "768/768 [==============================] - 0s 25us/sample - loss: 2.2552 - acc: 0.5990\n",
      "Epoch 35/150\n",
      "768/768 [==============================] - 0s 23us/sample - loss: 2.1507 - acc: 0.5938\n",
      "Epoch 36/150\n",
      "768/768 [==============================] - 0s 25us/sample - loss: 2.1036 - acc: 0.5833\n",
      "Epoch 37/150\n",
      "768/768 [==============================] - 0s 23us/sample - loss: 2.0625 - acc: 0.5872\n",
      "Epoch 38/150\n",
      "768/768 [==============================] - 0s 25us/sample - loss: 2.0399 - acc: 0.5964\n",
      "Epoch 39/150\n",
      "768/768 [==============================] - 0s 25us/sample - loss: 2.0215 - acc: 0.5768\n",
      "Epoch 40/150\n",
      "768/768 [==============================] - 0s 25us/sample - loss: 2.0016 - acc: 0.5977\n",
      "Epoch 41/150\n",
      "768/768 [==============================] - 0s 25us/sample - loss: 1.9799 - acc: 0.5898\n",
      "Epoch 42/150\n",
      "768/768 [==============================] - 0s 25us/sample - loss: 1.9573 - acc: 0.5938\n",
      "Epoch 43/150\n",
      "768/768 [==============================] - 0s 23us/sample - loss: 1.9422 - acc: 0.5846\n",
      "Epoch 44/150\n",
      "768/768 [==============================] - 0s 23us/sample - loss: 1.9347 - acc: 0.6003\n",
      "Epoch 45/150\n",
      "768/768 [==============================] - 0s 23us/sample - loss: 1.9018 - acc: 0.5846\n",
      "Epoch 46/150\n",
      "768/768 [==============================] - 0s 22us/sample - loss: 1.8785 - acc: 0.5911\n",
      "Epoch 47/150\n",
      "768/768 [==============================] - 0s 22us/sample - loss: 1.8573 - acc: 0.5938\n",
      "Epoch 48/150\n",
      "768/768 [==============================] - 0s 25us/sample - loss: 1.8442 - acc: 0.5872\n",
      "Epoch 49/150\n",
      "768/768 [==============================] - 0s 23us/sample - loss: 1.8207 - acc: 0.6016\n",
      "Epoch 50/150\n",
      "768/768 [==============================] - 0s 22us/sample - loss: 1.7982 - acc: 0.5964\n",
      "Epoch 51/150\n",
      "768/768 [==============================] - 0s 23us/sample - loss: 1.7779 - acc: 0.5938\n",
      "Epoch 52/150\n",
      "768/768 [==============================] - 0s 23us/sample - loss: 1.7647 - acc: 0.6029\n",
      "Epoch 53/150\n",
      "768/768 [==============================] - 0s 25us/sample - loss: 1.7371 - acc: 0.5911\n",
      "Epoch 54/150\n",
      "768/768 [==============================] - 0s 22us/sample - loss: 1.7216 - acc: 0.5977\n",
      "Epoch 55/150\n",
      "768/768 [==============================] - 0s 22us/sample - loss: 1.7009 - acc: 0.5938\n",
      "Epoch 56/150\n",
      "768/768 [==============================] - 0s 22us/sample - loss: 1.6817 - acc: 0.5990\n",
      "Epoch 57/150\n",
      "768/768 [==============================] - 0s 22us/sample - loss: 1.6633 - acc: 0.5990\n",
      "Epoch 58/150\n",
      "768/768 [==============================] - 0s 21us/sample - loss: 1.6375 - acc: 0.6081\n",
      "Epoch 59/150\n",
      "768/768 [==============================] - 0s 22us/sample - loss: 1.6194 - acc: 0.5951\n",
      "Epoch 60/150\n",
      "768/768 [==============================] - 0s 23us/sample - loss: 1.5936 - acc: 0.6042\n",
      "Epoch 61/150\n",
      "768/768 [==============================] - 0s 23us/sample - loss: 1.5772 - acc: 0.5977\n",
      "Epoch 62/150\n",
      "768/768 [==============================] - 0s 22us/sample - loss: 1.5562 - acc: 0.6094\n",
      "Epoch 63/150\n",
      "768/768 [==============================] - 0s 22us/sample - loss: 1.5412 - acc: 0.5990\n",
      "Epoch 64/150\n",
      "768/768 [==============================] - 0s 23us/sample - loss: 1.5199 - acc: 0.6068\n",
      "Epoch 65/150\n",
      "768/768 [==============================] - 0s 23us/sample - loss: 1.5017 - acc: 0.5898\n",
      "Epoch 66/150\n",
      "768/768 [==============================] - 0s 25us/sample - loss: 1.4757 - acc: 0.6133\n",
      "Epoch 67/150\n",
      "768/768 [==============================] - 0s 23us/sample - loss: 1.4542 - acc: 0.6133\n",
      "Epoch 68/150\n",
      "768/768 [==============================] - 0s 22us/sample - loss: 1.4474 - acc: 0.6003\n",
      "Epoch 69/150\n",
      "768/768 [==============================] - 0s 26us/sample - loss: 1.4150 - acc: 0.6068\n",
      "Epoch 70/150\n",
      "768/768 [==============================] - 0s 25us/sample - loss: 1.4023 - acc: 0.6068\n",
      "Epoch 71/150\n",
      "768/768 [==============================] - 0s 27us/sample - loss: 1.3827 - acc: 0.6185\n",
      "Epoch 72/150\n",
      "768/768 [==============================] - 0s 27us/sample - loss: 1.3621 - acc: 0.6029\n",
      "Epoch 73/150\n",
      "768/768 [==============================] - 0s 27us/sample - loss: 1.3429 - acc: 0.6068\n",
      "Epoch 74/150\n",
      "768/768 [==============================] - 0s 27us/sample - loss: 1.3197 - acc: 0.6120\n",
      "Epoch 75/150\n",
      "768/768 [==============================] - 0s 23us/sample - loss: 1.3134 - acc: 0.6042\n",
      "Epoch 76/150\n",
      "768/768 [==============================] - 0s 23us/sample - loss: 1.2908 - acc: 0.6120\n",
      "Epoch 77/150\n",
      "768/768 [==============================] - 0s 23us/sample - loss: 1.2636 - acc: 0.6107\n",
      "Epoch 78/150\n",
      "768/768 [==============================] - 0s 23us/sample - loss: 1.2482 - acc: 0.6094\n",
      "Epoch 79/150\n",
      "768/768 [==============================] - 0s 23us/sample - loss: 1.2326 - acc: 0.6172\n",
      "Epoch 80/150\n",
      "768/768 [==============================] - 0s 23us/sample - loss: 1.2112 - acc: 0.6081\n",
      "Epoch 81/150\n",
      "768/768 [==============================] - 0s 23us/sample - loss: 1.2012 - acc: 0.6172\n",
      "Epoch 82/150\n",
      "768/768 [==============================] - 0s 23us/sample - loss: 1.1799 - acc: 0.6198\n",
      "Epoch 83/150\n",
      "768/768 [==============================] - 0s 22us/sample - loss: 1.1593 - acc: 0.6159\n",
      "Epoch 84/150\n",
      "768/768 [==============================] - 0s 25us/sample - loss: 1.1369 - acc: 0.6198\n",
      "Epoch 85/150\n",
      "768/768 [==============================] - 0s 23us/sample - loss: 1.1171 - acc: 0.6133\n",
      "Epoch 86/150\n",
      "768/768 [==============================] - 0s 22us/sample - loss: 1.1080 - acc: 0.6133\n",
      "Epoch 87/150\n",
      "768/768 [==============================] - 0s 23us/sample - loss: 1.0839 - acc: 0.6250\n",
      "Epoch 88/150\n",
      "768/768 [==============================] - 0s 23us/sample - loss: 1.0671 - acc: 0.6185\n",
      "Epoch 89/150\n",
      "768/768 [==============================] - 0s 23us/sample - loss: 1.0532 - acc: 0.6172\n",
      "Epoch 90/150\n",
      "768/768 [==============================] - 0s 22us/sample - loss: 1.0317 - acc: 0.6211\n",
      "Epoch 91/150\n",
      "768/768 [==============================] - 0s 25us/sample - loss: 1.0215 - acc: 0.6211\n",
      "Epoch 92/150\n",
      "768/768 [==============================] - 0s 23us/sample - loss: 0.9998 - acc: 0.6172\n",
      "Epoch 93/150\n",
      "768/768 [==============================] - 0s 22us/sample - loss: 0.9894 - acc: 0.6198\n",
      "Epoch 94/150\n",
      "768/768 [==============================] - 0s 22us/sample - loss: 0.9688 - acc: 0.6302\n",
      "Epoch 95/150\n",
      "768/768 [==============================] - 0s 22us/sample - loss: 0.9514 - acc: 0.6289\n",
      "Epoch 96/150\n",
      "768/768 [==============================] - 0s 23us/sample - loss: 0.9365 - acc: 0.6341\n",
      "Epoch 97/150\n",
      "768/768 [==============================] - 0s 22us/sample - loss: 0.9230 - acc: 0.6263\n",
      "Epoch 98/150\n",
      "768/768 [==============================] - 0s 23us/sample - loss: 0.9141 - acc: 0.6250\n",
      "Epoch 99/150\n",
      "768/768 [==============================] - 0s 23us/sample - loss: 0.8983 - acc: 0.6458\n",
      "Epoch 100/150\n",
      "768/768 [==============================] - 0s 22us/sample - loss: 0.8815 - acc: 0.6315\n",
      "Epoch 101/150\n",
      "768/768 [==============================] - 0s 21us/sample - loss: 0.8668 - acc: 0.6393\n",
      "Epoch 102/150\n",
      "768/768 [==============================] - 0s 22us/sample - loss: 0.8517 - acc: 0.6419\n",
      "Epoch 103/150\n",
      "768/768 [==============================] - 0s 22us/sample - loss: 0.8399 - acc: 0.6471\n",
      "Epoch 104/150\n",
      "768/768 [==============================] - 0s 21us/sample - loss: 0.8319 - acc: 0.6406\n",
      "Epoch 105/150\n",
      "768/768 [==============================] - 0s 20us/sample - loss: 0.8143 - acc: 0.6276\n",
      "Epoch 106/150\n",
      "768/768 [==============================] - 0s 22us/sample - loss: 0.8067 - acc: 0.6393\n",
      "Epoch 107/150\n",
      "768/768 [==============================] - 0s 22us/sample - loss: 0.7877 - acc: 0.6536\n",
      "Epoch 108/150\n",
      "768/768 [==============================] - 0s 22us/sample - loss: 0.7757 - acc: 0.6576\n",
      "Epoch 109/150\n",
      "768/768 [==============================] - 0s 25us/sample - loss: 0.7679 - acc: 0.6419\n",
      "Epoch 110/150\n",
      "768/768 [==============================] - 0s 23us/sample - loss: 0.7558 - acc: 0.6484\n",
      "Epoch 111/150\n",
      "768/768 [==============================] - 0s 25us/sample - loss: 0.7449 - acc: 0.6628\n",
      "Epoch 112/150\n",
      "768/768 [==============================] - 0s 31us/sample - loss: 0.7335 - acc: 0.6589\n",
      "Epoch 113/150\n",
      "768/768 [==============================] - 0s 21us/sample - loss: 0.7261 - acc: 0.6615\n",
      "Epoch 114/150\n",
      "768/768 [==============================] - 0s 22us/sample - loss: 0.7214 - acc: 0.6549\n",
      "Epoch 115/150\n",
      "768/768 [==============================] - 0s 25us/sample - loss: 0.7058 - acc: 0.6562\n",
      "Epoch 116/150\n",
      "768/768 [==============================] - 0s 23us/sample - loss: 0.6997 - acc: 0.6667\n",
      "Epoch 117/150\n",
      "768/768 [==============================] - 0s 22us/sample - loss: 0.6877 - acc: 0.6745\n",
      "Epoch 118/150\n",
      "768/768 [==============================] - 0s 22us/sample - loss: 0.6799 - acc: 0.6693\n",
      "Epoch 119/150\n",
      "768/768 [==============================] - 0s 23us/sample - loss: 0.6806 - acc: 0.6732\n",
      "Epoch 120/150\n",
      "768/768 [==============================] - 0s 21us/sample - loss: 0.6708 - acc: 0.6745\n",
      "Epoch 121/150\n",
      "768/768 [==============================] - 0s 27us/sample - loss: 0.6609 - acc: 0.6719\n",
      "Epoch 122/150\n",
      "768/768 [==============================] - 0s 26us/sample - loss: 0.6591 - acc: 0.6745\n",
      "Epoch 123/150\n",
      "768/768 [==============================] - 0s 22us/sample - loss: 0.6600 - acc: 0.6628\n",
      "Epoch 124/150\n",
      "768/768 [==============================] - 0s 21us/sample - loss: 0.6499 - acc: 0.6849\n",
      "Epoch 125/150\n",
      "768/768 [==============================] - 0s 21us/sample - loss: 0.6375 - acc: 0.6784\n",
      "Epoch 126/150\n",
      "768/768 [==============================] - 0s 22us/sample - loss: 0.6545 - acc: 0.6745\n",
      "Epoch 127/150\n",
      "768/768 [==============================] - 0s 21us/sample - loss: 0.6282 - acc: 0.6875\n",
      "Epoch 128/150\n",
      "768/768 [==============================] - 0s 20us/sample - loss: 0.6256 - acc: 0.6927\n",
      "Epoch 129/150\n",
      "768/768 [==============================] - 0s 21us/sample - loss: 0.6198 - acc: 0.6836\n",
      "Epoch 130/150\n",
      "768/768 [==============================] - 0s 21us/sample - loss: 0.6243 - acc: 0.6810\n",
      "Epoch 131/150\n",
      "768/768 [==============================] - 0s 22us/sample - loss: 0.6386 - acc: 0.6641\n",
      "Epoch 132/150\n",
      "768/768 [==============================] - 0s 22us/sample - loss: 0.6282 - acc: 0.6719\n",
      "Epoch 133/150\n",
      "768/768 [==============================] - 0s 22us/sample - loss: 0.6262 - acc: 0.6810\n",
      "Epoch 134/150\n",
      "768/768 [==============================] - 0s 23us/sample - loss: 0.6113 - acc: 0.6888\n",
      "Epoch 135/150\n",
      "768/768 [==============================] - 0s 23us/sample - loss: 0.6137 - acc: 0.6901\n",
      "Epoch 136/150\n",
      "768/768 [==============================] - 0s 23us/sample - loss: 0.6105 - acc: 0.6875\n",
      "Epoch 137/150\n",
      "768/768 [==============================] - 0s 22us/sample - loss: 0.6012 - acc: 0.7018\n",
      "Epoch 138/150\n",
      "768/768 [==============================] - 0s 25us/sample - loss: 0.6147 - acc: 0.6771\n",
      "Epoch 139/150\n",
      "768/768 [==============================] - 0s 23us/sample - loss: 0.6044 - acc: 0.7070\n",
      "Epoch 140/150\n",
      "768/768 [==============================] - 0s 23us/sample - loss: 0.6080 - acc: 0.6823\n",
      "Epoch 141/150\n",
      "768/768 [==============================] - 0s 23us/sample - loss: 0.5969 - acc: 0.7135\n",
      "Epoch 142/150\n",
      "768/768 [==============================] - 0s 23us/sample - loss: 0.5963 - acc: 0.7122\n",
      "Epoch 143/150\n",
      "768/768 [==============================] - 0s 23us/sample - loss: 0.5958 - acc: 0.7188\n",
      "Epoch 144/150\n",
      "768/768 [==============================] - 0s 26us/sample - loss: 0.5922 - acc: 0.7122\n",
      "Epoch 145/150\n",
      "768/768 [==============================] - 0s 21us/sample - loss: 0.5949 - acc: 0.6849\n",
      "Epoch 146/150\n",
      "768/768 [==============================] - 0s 22us/sample - loss: 0.6043 - acc: 0.6979\n",
      "Epoch 147/150\n",
      "768/768 [==============================] - 0s 22us/sample - loss: 0.5947 - acc: 0.7070\n",
      "Epoch 148/150\n",
      "768/768 [==============================] - 0s 23us/sample - loss: 0.5925 - acc: 0.7174\n",
      "Epoch 149/150\n",
      "768/768 [==============================] - 0s 23us/sample - loss: 0.5911 - acc: 0.7122\n",
      "Epoch 150/150\n",
      "768/768 [==============================] - 0s 25us/sample - loss: 0.5929 - acc: 0.7096\n"
     ]
    },
    {
     "data": {
      "text/plain": [
       "<tensorflow.python.keras.callbacks.History at 0x1b0a1dd2550>"
      ]
     },
     "execution_count": 14,
     "metadata": {},
     "output_type": "execute_result"
    }
   ],
   "source": [
    "model.fit(X, y, epochs=150)"
   ]
  },
  {
   "cell_type": "code",
   "execution_count": 15,
   "metadata": {},
   "outputs": [
    {
     "data": {
      "text/plain": [
       "(768,)"
      ]
     },
     "execution_count": 15,
     "metadata": {},
     "output_type": "execute_result"
    }
   ],
   "source": [
    "y.shape"
   ]
  },
  {
   "cell_type": "markdown",
   "metadata": {},
   "source": [
    "### Evaluate Model"
   ]
  },
  {
   "cell_type": "code",
   "execution_count": 16,
   "metadata": {},
   "outputs": [
    {
     "data": {
      "text/plain": [
       "array([1., 0., 1., 0., 1., 0., 1., 0., 1., 1., 0., 1., 0., 1., 1., 1., 1.,\n",
       "       1., 0., 1., 0., 0., 1., 1., 1., 1., 1., 0., 0., 0., 0., 1., 0., 0.,\n",
       "       0., 0., 0., 1., 1., 1., 0., 0., 0., 1., 0., 1., 0., 0., 1., 0.])"
      ]
     },
     "execution_count": 16,
     "metadata": {},
     "output_type": "execute_result"
    }
   ],
   "source": [
    "y[:50]"
   ]
  },
  {
   "cell_type": "code",
   "execution_count": 17,
   "metadata": {},
   "outputs": [
    {
     "data": {
      "text/plain": [
       "0.3489583333333333"
      ]
     },
     "execution_count": 17,
     "metadata": {},
     "output_type": "execute_result"
    }
   ],
   "source": [
    "# Predicting never diabetes\n",
    "sum(y) / len(y) "
   ]
  },
  {
   "cell_type": "code",
   "execution_count": 18,
   "metadata": {},
   "outputs": [
    {
     "name": "stdout",
     "output_type": "stream",
     "text": [
      "768/768 [==============================] - 0s 39us/sample - loss: 0.5888 - acc: 0.7148\n",
      "acc: 71.484375\n"
     ]
    }
   ],
   "source": [
    "scores = model.evaluate(X,y)\n",
    "print(f\"{model.metrics_names[1]}: {scores[1]*100}\")"
   ]
  },
  {
   "cell_type": "markdown",
   "metadata": {
    "colab_type": "text",
    "id": "zHYB7k9q3O8T"
   },
   "source": [
    "### Unstable Results\n",
    "\n",
    "You'll notice that if we rerun the results might differ from the origin run. This can be explain by a bunch of factors. Check out some of them in this article: \n",
    "\n",
    "<https://machinelearningmastery.com/randomness-in-machine-learning/>"
   ]
  },
  {
   "cell_type": "markdown",
   "metadata": {},
   "source": [
    "## Challenge\n",
    "\n",
    "You will be expected to leverage the Keras `Sequential`api to estimate a feed forward neural networks on a dataset."
   ]
  },
  {
   "cell_type": "markdown",
   "metadata": {
    "colab_type": "text",
    "id": "ueDVpctAzvy8"
   },
   "source": [
    "# Choosing Architecture (Learn)"
   ]
  },
  {
   "cell_type": "markdown",
   "metadata": {},
   "source": [
    "## Overview\n",
    "\n",
    "Choosing an architecture for a neural network is almost more an art than a science. Let's do a few experiments:"
   ]
  },
  {
   "cell_type": "markdown",
   "metadata": {},
   "source": [
    "## Follow Along"
   ]
  },
  {
   "cell_type": "code",
   "execution_count": 19,
   "metadata": {
    "colab": {},
    "colab_type": "code",
    "id": "6W2Sc7-LzQo_"
   },
   "outputs": [
    {
     "name": "stdout",
     "output_type": "stream",
     "text": [
      "Model: \"3LayerJunk\"\n",
      "_________________________________________________________________\n",
      "Layer (type)                 Output Shape              Param #   \n",
      "=================================================================\n",
      "Dense1 (Dense)               (None, 4)                 36        \n",
      "_________________________________________________________________\n",
      "dense_2 (Dense)              (None, 3)                 15        \n",
      "_________________________________________________________________\n",
      "dense_3 (Dense)              (None, 1)                 4         \n",
      "=================================================================\n",
      "Total params: 55\n",
      "Trainable params: 55\n",
      "Non-trainable params: 0\n",
      "_________________________________________________________________\n"
     ]
    }
   ],
   "source": [
    "# Tell me your ideas\n",
    "\n",
    "model_improved = Sequential(name=\"3LayerJunk\")\n",
    "\n",
    "model_improved.add(Dense(4, input_dim=8, activation='relu', name=\"Dense1\"))\n",
    "model_improved.add(Dense(3, activation='sigmoid'))\n",
    "model_improved.add(Dense(1, activation='sigmoid'))\n",
    "\n",
    "model_improved.compile(loss='binary_crossentropy', optimizer='adam',\n",
    "              metrics=['accuracy'])\n",
    "\n",
    "# Let's inspect our new architecture\n",
    "model_improved.summary()"
   ]
  },
  {
   "cell_type": "code",
   "execution_count": 20,
   "metadata": {},
   "outputs": [
    {
     "data": {
      "text/plain": [
       "<tensorflow.python.keras.callbacks.History at 0x1b0a21ccf98>"
      ]
     },
     "execution_count": 20,
     "metadata": {},
     "output_type": "execute_result"
    }
   ],
   "source": [
    "model_improved.fit(X, y, epochs=150, verbose=False) # What parameters can I specify here?"
   ]
  },
  {
   "cell_type": "code",
   "execution_count": 21,
   "metadata": {},
   "outputs": [
    {
     "name": "stdout",
     "output_type": "stream",
     "text": [
      "768/768 [==============================] - 0s 48us/sample - loss: 0.6354 - acc: 0.6536\n",
      "acc: 65.36458134651184\n"
     ]
    }
   ],
   "source": [
    "scores = model_improved.evaluate(X,y)\n",
    "print(f\"{model_improved.metrics_names[1]}: {scores[1]*100}\")"
   ]
  },
  {
   "cell_type": "markdown",
   "metadata": {},
   "source": [
    "### Experiment with 1 Additional Layer & Change Activation F(x)s"
   ]
  },
  {
   "cell_type": "code",
   "execution_count": 22,
   "metadata": {},
   "outputs": [
    {
     "name": "stdout",
     "output_type": "stream",
     "text": [
      "Model: \"4LayerJunk\"\n",
      "_________________________________________________________________\n",
      "Layer (type)                 Output Shape              Param #   \n",
      "=================================================================\n",
      "Dense1 (Dense)               (None, 4)                 36        \n",
      "_________________________________________________________________\n",
      "dense_4 (Dense)              (None, 3)                 15        \n",
      "_________________________________________________________________\n",
      "dense_5 (Dense)              (None, 3)                 12        \n",
      "_________________________________________________________________\n",
      "dense_6 (Dense)              (None, 1)                 4         \n",
      "=================================================================\n",
      "Total params: 67\n",
      "Trainable params: 67\n",
      "Non-trainable params: 0\n",
      "_________________________________________________________________\n"
     ]
    }
   ],
   "source": [
    "# Tell me your ideas\n",
    "\n",
    "model_improved = Sequential(name=\"4LayerJunk\")\n",
    "\n",
    "model_improved.add(Dense(4, input_dim=8, activation='relu', name=\"Dense1\"))\n",
    "model_improved.add(Dense(3, activation='relu'))\n",
    "# model_improved.add(Dropout(.2))\n",
    "model_improved.add(Dense(3, activation='relu'))\n",
    "model_improved.add(Dense(1, activation='sigmoid'))\n",
    "\n",
    "model_improved.compile(loss='binary_crossentropy', optimizer='adam',\n",
    "              metrics=['accuracy'])\n",
    "\n",
    "# Let's inspect our new architecture\n",
    "model_improved.summary()"
   ]
  },
  {
   "cell_type": "code",
   "execution_count": 23,
   "metadata": {},
   "outputs": [
    {
     "data": {
      "text/plain": [
       "<tensorflow.python.keras.callbacks.History at 0x1b0a256ca90>"
      ]
     },
     "execution_count": 23,
     "metadata": {},
     "output_type": "execute_result"
    }
   ],
   "source": [
    "model_improved.fit(X,y, epochs=250, verbose=False)"
   ]
  },
  {
   "cell_type": "code",
   "execution_count": 24,
   "metadata": {},
   "outputs": [
    {
     "name": "stdout",
     "output_type": "stream",
     "text": [
      "768/768 [==============================] - 0s 61us/sample - loss: 0.6120 - acc: 0.6589\n"
     ]
    },
    {
     "data": {
      "text/plain": [
       "[0.612027782946825, 0.6588542]"
      ]
     },
     "execution_count": 24,
     "metadata": {},
     "output_type": "execute_result"
    }
   ],
   "source": [
    "model_improved.evaluate(X,y)\n",
    "#print(f\"{model_improved.metrics_names[1]}: {scores[1]*100}\")"
   ]
  },
  {
   "cell_type": "markdown",
   "metadata": {},
   "source": [
    "### New Experiment with Identical Neuron Numbers"
   ]
  },
  {
   "cell_type": "code",
   "execution_count": 25,
   "metadata": {},
   "outputs": [
    {
     "name": "stdout",
     "output_type": "stream",
     "text": [
      "Model: \"EvenNuerons4LayerJunk\"\n",
      "_________________________________________________________________\n",
      "Layer (type)                 Output Shape              Param #   \n",
      "=================================================================\n",
      "Dense1 (Dense)               (None, 8)                 72        \n",
      "_________________________________________________________________\n",
      "dense_7 (Dense)              (None, 8)                 72        \n",
      "_________________________________________________________________\n",
      "dense_8 (Dense)              (None, 8)                 72        \n",
      "_________________________________________________________________\n",
      "dense_9 (Dense)              (None, 1)                 9         \n",
      "=================================================================\n",
      "Total params: 225\n",
      "Trainable params: 225\n",
      "Non-trainable params: 0\n",
      "_________________________________________________________________\n"
     ]
    }
   ],
   "source": [
    "# Tell me your ideas\n",
    "\n",
    "model_improved = Sequential(name=\"EvenNuerons4LayerJunk\")\n",
    "\n",
    "model_improved.add(Dense(8, input_dim=8, activation='relu', name=\"Dense1\"))\n",
    "model_improved.add(Dense(8, activation='relu'))\n",
    "model_improved.add(Dense(8, activation='relu'))\n",
    "model_improved.add(Dense(1, activation='sigmoid'))\n",
    "\n",
    "model_improved.compile(loss='binary_crossentropy', optimizer='adam',\n",
    "              metrics=['accuracy'])\n",
    "\n",
    "# Let's inspect our new architecture\n",
    "model_improved.summary()"
   ]
  },
  {
   "cell_type": "code",
   "execution_count": 26,
   "metadata": {},
   "outputs": [
    {
     "name": "stdout",
     "output_type": "stream",
     "text": [
      "Train on 691 samples, validate on 77 samples\n",
      "Epoch 1/250\n",
      "691/691 [==============================] - 0s 297us/sample - loss: 8.3262 - acc: 0.6570 - val_loss: 7.2637 - val_acc: 0.5974\n",
      "Epoch 2/250\n",
      "691/691 [==============================] - 0s 36us/sample - loss: 4.4421 - acc: 0.6570 - val_loss: 2.9686 - val_acc: 0.5974\n",
      "Epoch 3/250\n",
      "691/691 [==============================] - 0s 36us/sample - loss: 1.5942 - acc: 0.5977 - val_loss: 0.9669 - val_acc: 0.3896\n",
      "Epoch 4/250\n",
      "691/691 [==============================] - 0s 35us/sample - loss: 1.0127 - acc: 0.4544 - val_loss: 0.8198 - val_acc: 0.5974\n",
      "Epoch 5/250\n",
      "691/691 [==============================] - 0s 36us/sample - loss: 0.8452 - acc: 0.6165 - val_loss: 0.7304 - val_acc: 0.5584\n",
      "Epoch 6/250\n",
      "691/691 [==============================] - 0s 36us/sample - loss: 0.7683 - acc: 0.6093 - val_loss: 0.7109 - val_acc: 0.5714\n",
      "Epoch 7/250\n",
      "691/691 [==============================] - 0s 38us/sample - loss: 0.7140 - acc: 0.6324 - val_loss: 0.7050 - val_acc: 0.5844\n",
      "Epoch 8/250\n",
      "691/691 [==============================] - 0s 32us/sample - loss: 0.6909 - acc: 0.6570 - val_loss: 0.6997 - val_acc: 0.5714\n",
      "Epoch 9/250\n",
      "691/691 [==============================] - 0s 35us/sample - loss: 0.6763 - acc: 0.6469 - val_loss: 0.7006 - val_acc: 0.5584\n",
      "Epoch 10/250\n",
      "691/691 [==============================] - 0s 39us/sample - loss: 0.6685 - acc: 0.6527 - val_loss: 0.7296 - val_acc: 0.5974\n",
      "Epoch 11/250\n",
      "691/691 [==============================] - 0s 32us/sample - loss: 0.6697 - acc: 0.6498 - val_loss: 0.6931 - val_acc: 0.5714\n",
      "Epoch 12/250\n",
      "691/691 [==============================] - 0s 35us/sample - loss: 0.6691 - acc: 0.6585 - val_loss: 0.7074 - val_acc: 0.5974\n",
      "Epoch 13/250\n",
      "691/691 [==============================] - 0s 33us/sample - loss: 0.6613 - acc: 0.6628 - val_loss: 0.7041 - val_acc: 0.5974\n",
      "Epoch 14/250\n",
      "691/691 [==============================] - 0s 38us/sample - loss: 0.6580 - acc: 0.6614 - val_loss: 0.6965 - val_acc: 0.5714\n",
      "Epoch 15/250\n",
      "691/691 [==============================] - 0s 39us/sample - loss: 0.6558 - acc: 0.6758 - val_loss: 0.6865 - val_acc: 0.5714\n",
      "Epoch 16/250\n",
      "691/691 [==============================] - 0s 38us/sample - loss: 0.6801 - acc: 0.6223 - val_loss: 0.6975 - val_acc: 0.5714\n",
      "Epoch 17/250\n",
      "691/691 [==============================] - 0s 36us/sample - loss: 0.6563 - acc: 0.6556 - val_loss: 0.7090 - val_acc: 0.5974\n",
      "Epoch 18/250\n",
      "691/691 [==============================] - 0s 35us/sample - loss: 0.6471 - acc: 0.6802 - val_loss: 0.7052 - val_acc: 0.5584\n",
      "Epoch 19/250\n",
      "691/691 [==============================] - 0s 36us/sample - loss: 0.6455 - acc: 0.6729 - val_loss: 0.7174 - val_acc: 0.5455\n",
      "Epoch 20/250\n",
      "691/691 [==============================] - 0s 36us/sample - loss: 0.6444 - acc: 0.6700 - val_loss: 0.7276 - val_acc: 0.5714\n",
      "Epoch 21/250\n",
      "691/691 [==============================] - 0s 36us/sample - loss: 0.6477 - acc: 0.6614 - val_loss: 0.7753 - val_acc: 0.5844\n",
      "Epoch 22/250\n",
      "691/691 [==============================] - 0s 32us/sample - loss: 0.6544 - acc: 0.6512 - val_loss: 0.7541 - val_acc: 0.5714\n",
      "Epoch 23/250\n",
      "691/691 [==============================] - 0s 36us/sample - loss: 0.6455 - acc: 0.6614 - val_loss: 0.7259 - val_acc: 0.5325\n",
      "Epoch 24/250\n",
      "691/691 [==============================] - 0s 35us/sample - loss: 0.6352 - acc: 0.6729 - val_loss: 0.7236 - val_acc: 0.5325\n",
      "Epoch 25/250\n",
      "691/691 [==============================] - 0s 32us/sample - loss: 0.6327 - acc: 0.6773 - val_loss: 0.6973 - val_acc: 0.5584\n",
      "Epoch 26/250\n",
      "691/691 [==============================] - 0s 32us/sample - loss: 0.6306 - acc: 0.6744 - val_loss: 0.7169 - val_acc: 0.5455\n",
      "Epoch 27/250\n",
      "691/691 [==============================] - 0s 38us/sample - loss: 0.6353 - acc: 0.6599 - val_loss: 0.7309 - val_acc: 0.5325\n",
      "Epoch 28/250\n",
      "691/691 [==============================] - 0s 35us/sample - loss: 0.6267 - acc: 0.6643 - val_loss: 0.6892 - val_acc: 0.5584\n",
      "Epoch 29/250\n",
      "691/691 [==============================] - 0s 32us/sample - loss: 0.6291 - acc: 0.6802 - val_loss: 0.6956 - val_acc: 0.5714\n",
      "Epoch 30/250\n",
      "691/691 [==============================] - 0s 32us/sample - loss: 0.6295 - acc: 0.6773 - val_loss: 0.7123 - val_acc: 0.5455\n",
      "Epoch 31/250\n",
      "691/691 [==============================] - 0s 32us/sample - loss: 0.6304 - acc: 0.6715 - val_loss: 0.7137 - val_acc: 0.5455\n",
      "Epoch 32/250\n",
      "691/691 [==============================] - 0s 38us/sample - loss: 0.6211 - acc: 0.6990 - val_loss: 0.6861 - val_acc: 0.5974\n",
      "Epoch 33/250\n",
      "691/691 [==============================] - 0s 33us/sample - loss: 0.6244 - acc: 0.6686 - val_loss: 0.6803 - val_acc: 0.5844\n",
      "Epoch 34/250\n",
      "691/691 [==============================] - 0s 33us/sample - loss: 0.6208 - acc: 0.6729 - val_loss: 0.7258 - val_acc: 0.5325\n",
      "Epoch 35/250\n",
      "691/691 [==============================] - 0s 35us/sample - loss: 0.6180 - acc: 0.6860 - val_loss: 0.7078 - val_acc: 0.5584\n",
      "Epoch 36/250\n",
      "691/691 [==============================] - 0s 33us/sample - loss: 0.6149 - acc: 0.6787 - val_loss: 0.7569 - val_acc: 0.5455\n",
      "Epoch 37/250\n",
      "691/691 [==============================] - 0s 29us/sample - loss: 0.6182 - acc: 0.6874 - val_loss: 0.6941 - val_acc: 0.5455\n",
      "Epoch 38/250\n",
      "691/691 [==============================] - 0s 33us/sample - loss: 0.6123 - acc: 0.6903 - val_loss: 0.7307 - val_acc: 0.5844\n",
      "Epoch 39/250\n",
      "691/691 [==============================] - 0s 36us/sample - loss: 0.6152 - acc: 0.6932 - val_loss: 0.6975 - val_acc: 0.5325\n",
      "Epoch 40/250\n",
      "691/691 [==============================] - 0s 35us/sample - loss: 0.6136 - acc: 0.6903 - val_loss: 0.6989 - val_acc: 0.5325\n",
      "Epoch 41/250\n",
      "691/691 [==============================] - 0s 35us/sample - loss: 0.6110 - acc: 0.6961 - val_loss: 0.6841 - val_acc: 0.5844\n",
      "Epoch 42/250\n",
      "691/691 [==============================] - 0s 36us/sample - loss: 0.6167 - acc: 0.6889 - val_loss: 0.6787 - val_acc: 0.5714\n",
      "Epoch 43/250\n",
      "691/691 [==============================] - 0s 32us/sample - loss: 0.6043 - acc: 0.6961 - val_loss: 0.6979 - val_acc: 0.5584\n",
      "Epoch 44/250\n",
      "691/691 [==============================] - 0s 33us/sample - loss: 0.6044 - acc: 0.6932 - val_loss: 0.6896 - val_acc: 0.5584\n",
      "Epoch 45/250\n",
      "691/691 [==============================] - 0s 35us/sample - loss: 0.6017 - acc: 0.6874 - val_loss: 0.6918 - val_acc: 0.5584\n",
      "Epoch 46/250\n",
      "691/691 [==============================] - 0s 30us/sample - loss: 0.6082 - acc: 0.6874 - val_loss: 0.7225 - val_acc: 0.5584\n",
      "Epoch 47/250\n",
      "691/691 [==============================] - 0s 33us/sample - loss: 0.6005 - acc: 0.6932 - val_loss: 0.7701 - val_acc: 0.5844\n",
      "Epoch 48/250\n",
      "691/691 [==============================] - 0s 32us/sample - loss: 0.6107 - acc: 0.6729 - val_loss: 0.6958 - val_acc: 0.5455\n",
      "Epoch 49/250\n",
      "691/691 [==============================] - 0s 32us/sample - loss: 0.6062 - acc: 0.6816 - val_loss: 0.6599 - val_acc: 0.5974\n",
      "Epoch 50/250\n",
      "691/691 [==============================] - 0s 32us/sample - loss: 0.6022 - acc: 0.6816 - val_loss: 0.6628 - val_acc: 0.6234\n",
      "Epoch 51/250\n",
      "691/691 [==============================] - 0s 30us/sample - loss: 0.6001 - acc: 0.6802 - val_loss: 0.7081 - val_acc: 0.5584\n",
      "Epoch 52/250\n",
      "691/691 [==============================] - 0s 30us/sample - loss: 0.6047 - acc: 0.7019 - val_loss: 0.6998 - val_acc: 0.5325\n",
      "Epoch 53/250\n",
      "691/691 [==============================] - 0s 33us/sample - loss: 0.5936 - acc: 0.6860 - val_loss: 0.6881 - val_acc: 0.5714\n",
      "Epoch 54/250\n",
      "691/691 [==============================] - 0s 36us/sample - loss: 0.5921 - acc: 0.6975 - val_loss: 0.7513 - val_acc: 0.5584\n",
      "Epoch 55/250\n",
      "691/691 [==============================] - 0s 32us/sample - loss: 0.5985 - acc: 0.6831 - val_loss: 0.7234 - val_acc: 0.5584\n",
      "Epoch 56/250\n",
      "691/691 [==============================] - 0s 35us/sample - loss: 0.5949 - acc: 0.6802 - val_loss: 0.6841 - val_acc: 0.5974\n",
      "Epoch 57/250\n",
      "691/691 [==============================] - 0s 32us/sample - loss: 0.5861 - acc: 0.6932 - val_loss: 0.6675 - val_acc: 0.6104\n",
      "Epoch 58/250\n",
      "691/691 [==============================] - 0s 32us/sample - loss: 0.5890 - acc: 0.7048 - val_loss: 0.6629 - val_acc: 0.5844\n",
      "Epoch 59/250\n",
      "691/691 [==============================] - 0s 36us/sample - loss: 0.5883 - acc: 0.6946 - val_loss: 0.6846 - val_acc: 0.5844\n",
      "Epoch 60/250\n",
      "691/691 [==============================] - 0s 30us/sample - loss: 0.5827 - acc: 0.6946 - val_loss: 0.6650 - val_acc: 0.6104\n",
      "Epoch 61/250\n",
      "691/691 [==============================] - 0s 33us/sample - loss: 0.5814 - acc: 0.6975 - val_loss: 0.7213 - val_acc: 0.5584\n",
      "Epoch 62/250\n",
      "691/691 [==============================] - 0s 30us/sample - loss: 0.5803 - acc: 0.7033 - val_loss: 0.6651 - val_acc: 0.6104\n",
      "Epoch 63/250\n",
      "691/691 [==============================] - 0s 32us/sample - loss: 0.5980 - acc: 0.6773 - val_loss: 0.6597 - val_acc: 0.6234\n",
      "Epoch 64/250\n",
      "691/691 [==============================] - 0s 33us/sample - loss: 0.5886 - acc: 0.6918 - val_loss: 0.6661 - val_acc: 0.6234\n",
      "Epoch 65/250\n",
      "691/691 [==============================] - 0s 33us/sample - loss: 0.5808 - acc: 0.7048 - val_loss: 0.6808 - val_acc: 0.5714\n",
      "Epoch 66/250\n",
      "691/691 [==============================] - 0s 35us/sample - loss: 0.5793 - acc: 0.7048 - val_loss: 0.6621 - val_acc: 0.6364\n",
      "Epoch 67/250\n",
      "691/691 [==============================] - 0s 35us/sample - loss: 0.5768 - acc: 0.6975 - val_loss: 0.7072 - val_acc: 0.5584\n",
      "Epoch 68/250\n",
      "691/691 [==============================] - 0s 36us/sample - loss: 0.5757 - acc: 0.7077 - val_loss: 0.6845 - val_acc: 0.5974\n",
      "Epoch 69/250\n",
      "691/691 [==============================] - 0s 35us/sample - loss: 0.5734 - acc: 0.7077 - val_loss: 0.6640 - val_acc: 0.6234\n",
      "Epoch 70/250\n",
      "691/691 [==============================] - 0s 33us/sample - loss: 0.5743 - acc: 0.7033 - val_loss: 0.6596 - val_acc: 0.6364\n",
      "Epoch 71/250\n",
      "691/691 [==============================] - 0s 36us/sample - loss: 0.5806 - acc: 0.6773 - val_loss: 0.6987 - val_acc: 0.5844\n",
      "Epoch 72/250\n",
      "691/691 [==============================] - 0s 35us/sample - loss: 0.5778 - acc: 0.7004 - val_loss: 0.6915 - val_acc: 0.5844\n",
      "Epoch 73/250\n",
      "691/691 [==============================] - 0s 32us/sample - loss: 0.5662 - acc: 0.7062 - val_loss: 0.6584 - val_acc: 0.6234\n",
      "Epoch 74/250\n",
      "691/691 [==============================] - 0s 38us/sample - loss: 0.5759 - acc: 0.6961 - val_loss: 0.6604 - val_acc: 0.6234\n",
      "Epoch 75/250\n",
      "691/691 [==============================] - 0s 38us/sample - loss: 0.5746 - acc: 0.7019 - val_loss: 0.6706 - val_acc: 0.6364\n",
      "Epoch 76/250\n",
      "691/691 [==============================] - 0s 39us/sample - loss: 0.5674 - acc: 0.7048 - val_loss: 0.6860 - val_acc: 0.6234\n",
      "Epoch 77/250\n",
      "691/691 [==============================] - 0s 35us/sample - loss: 0.5683 - acc: 0.7077 - val_loss: 0.6778 - val_acc: 0.5974\n",
      "Epoch 78/250\n",
      "691/691 [==============================] - 0s 35us/sample - loss: 0.5660 - acc: 0.7106 - val_loss: 0.6846 - val_acc: 0.6104\n",
      "Epoch 79/250\n",
      "691/691 [==============================] - 0s 30us/sample - loss: 0.5629 - acc: 0.7120 - val_loss: 0.6842 - val_acc: 0.6104\n",
      "Epoch 80/250\n",
      "691/691 [==============================] - 0s 32us/sample - loss: 0.5654 - acc: 0.7091 - val_loss: 0.6617 - val_acc: 0.6234\n",
      "Epoch 81/250\n",
      "691/691 [==============================] - 0s 30us/sample - loss: 0.5744 - acc: 0.7048 - val_loss: 0.6839 - val_acc: 0.6104\n",
      "Epoch 82/250\n",
      "691/691 [==============================] - 0s 35us/sample - loss: 0.5614 - acc: 0.7164 - val_loss: 0.6599 - val_acc: 0.6234\n",
      "Epoch 83/250\n",
      "691/691 [==============================] - 0s 33us/sample - loss: 0.5662 - acc: 0.7149 - val_loss: 0.6845 - val_acc: 0.6104\n",
      "Epoch 84/250\n",
      "691/691 [==============================] - 0s 33us/sample - loss: 0.5626 - acc: 0.7077 - val_loss: 0.6889 - val_acc: 0.5974\n",
      "Epoch 85/250\n",
      "691/691 [==============================] - 0s 33us/sample - loss: 0.5623 - acc: 0.7106 - val_loss: 0.7038 - val_acc: 0.5974\n",
      "Epoch 86/250\n",
      "691/691 [==============================] - 0s 32us/sample - loss: 0.5669 - acc: 0.6918 - val_loss: 0.7692 - val_acc: 0.5714\n",
      "Epoch 87/250\n",
      "691/691 [==============================] - 0s 32us/sample - loss: 0.5835 - acc: 0.7120 - val_loss: 0.7302 - val_acc: 0.5844\n",
      "Epoch 88/250\n",
      "691/691 [==============================] - 0s 35us/sample - loss: 0.5577 - acc: 0.7077 - val_loss: 0.6662 - val_acc: 0.6494\n",
      "Epoch 89/250\n",
      "691/691 [==============================] - 0s 32us/sample - loss: 0.5644 - acc: 0.7120 - val_loss: 0.6694 - val_acc: 0.6623\n",
      "Epoch 90/250\n",
      "691/691 [==============================] - 0s 36us/sample - loss: 0.5617 - acc: 0.7091 - val_loss: 0.6546 - val_acc: 0.6623\n",
      "Epoch 91/250\n",
      "691/691 [==============================] - 0s 32us/sample - loss: 0.5603 - acc: 0.7077 - val_loss: 0.6630 - val_acc: 0.6364\n",
      "Epoch 92/250\n",
      "691/691 [==============================] - 0s 35us/sample - loss: 0.5609 - acc: 0.7062 - val_loss: 0.6857 - val_acc: 0.6104\n",
      "Epoch 93/250\n",
      "691/691 [==============================] - 0s 32us/sample - loss: 0.5551 - acc: 0.7062 - val_loss: 0.6699 - val_acc: 0.6753\n",
      "Epoch 94/250\n",
      "691/691 [==============================] - 0s 33us/sample - loss: 0.5511 - acc: 0.7164 - val_loss: 0.7284 - val_acc: 0.5844\n",
      "Epoch 95/250\n",
      "691/691 [==============================] - 0s 32us/sample - loss: 0.5549 - acc: 0.7178 - val_loss: 0.6603 - val_acc: 0.6494\n",
      "Epoch 96/250\n",
      "691/691 [==============================] - 0s 33us/sample - loss: 0.5512 - acc: 0.7192 - val_loss: 0.6782 - val_acc: 0.6364\n",
      "Epoch 97/250\n",
      "691/691 [==============================] - 0s 36us/sample - loss: 0.5599 - acc: 0.7077 - val_loss: 0.6550 - val_acc: 0.6494\n",
      "Epoch 98/250\n",
      "691/691 [==============================] - 0s 30us/sample - loss: 0.5584 - acc: 0.7178 - val_loss: 0.6735 - val_acc: 0.6234\n",
      "Epoch 99/250\n",
      "691/691 [==============================] - 0s 30us/sample - loss: 0.5547 - acc: 0.7178 - val_loss: 0.6588 - val_acc: 0.6494\n",
      "Epoch 100/250\n",
      "691/691 [==============================] - 0s 35us/sample - loss: 0.5549 - acc: 0.7164 - val_loss: 0.7063 - val_acc: 0.5974\n",
      "Epoch 101/250\n",
      "691/691 [==============================] - 0s 33us/sample - loss: 0.5540 - acc: 0.7091 - val_loss: 0.6969 - val_acc: 0.5974\n",
      "Epoch 102/250\n",
      "691/691 [==============================] - 0s 32us/sample - loss: 0.5505 - acc: 0.7178 - val_loss: 0.6767 - val_acc: 0.6104\n",
      "Epoch 103/250\n",
      "691/691 [==============================] - 0s 33us/sample - loss: 0.5472 - acc: 0.7265 - val_loss: 0.7005 - val_acc: 0.6234\n",
      "Epoch 104/250\n",
      "691/691 [==============================] - 0s 33us/sample - loss: 0.5493 - acc: 0.7164 - val_loss: 0.6809 - val_acc: 0.6234\n",
      "Epoch 105/250\n",
      "691/691 [==============================] - 0s 32us/sample - loss: 0.5468 - acc: 0.7265 - val_loss: 0.6616 - val_acc: 0.6623\n",
      "Epoch 106/250\n",
      "691/691 [==============================] - 0s 32us/sample - loss: 0.5546 - acc: 0.7149 - val_loss: 0.6883 - val_acc: 0.6104\n",
      "Epoch 107/250\n",
      "691/691 [==============================] - 0s 32us/sample - loss: 0.5557 - acc: 0.7135 - val_loss: 0.7076 - val_acc: 0.6104\n",
      "Epoch 108/250\n",
      "691/691 [==============================] - 0s 32us/sample - loss: 0.5436 - acc: 0.7192 - val_loss: 0.6914 - val_acc: 0.6364\n",
      "Epoch 109/250\n",
      "691/691 [==============================] - 0s 33us/sample - loss: 0.5498 - acc: 0.7164 - val_loss: 0.6513 - val_acc: 0.6364\n",
      "Epoch 110/250\n",
      "691/691 [==============================] - 0s 35us/sample - loss: 0.5429 - acc: 0.7250 - val_loss: 0.6648 - val_acc: 0.6234\n",
      "Epoch 111/250\n",
      "691/691 [==============================] - 0s 33us/sample - loss: 0.5555 - acc: 0.7279 - val_loss: 0.6949 - val_acc: 0.6234\n",
      "Epoch 112/250\n",
      "691/691 [==============================] - 0s 35us/sample - loss: 0.5420 - acc: 0.7236 - val_loss: 0.6670 - val_acc: 0.6494\n",
      "Epoch 113/250\n",
      "691/691 [==============================] - 0s 30us/sample - loss: 0.5506 - acc: 0.7164 - val_loss: 0.6419 - val_acc: 0.6623\n",
      "Epoch 114/250\n",
      "691/691 [==============================] - 0s 39us/sample - loss: 0.5467 - acc: 0.7221 - val_loss: 0.6446 - val_acc: 0.6494\n",
      "Epoch 115/250\n",
      "691/691 [==============================] - 0s 38us/sample - loss: 0.5441 - acc: 0.7236 - val_loss: 0.6615 - val_acc: 0.6623\n",
      "Epoch 116/250\n",
      "691/691 [==============================] - 0s 35us/sample - loss: 0.5388 - acc: 0.7294 - val_loss: 0.6654 - val_acc: 0.6623\n",
      "Epoch 117/250\n",
      "691/691 [==============================] - 0s 41us/sample - loss: 0.5417 - acc: 0.7279 - val_loss: 0.7109 - val_acc: 0.5974\n",
      "Epoch 118/250\n",
      "691/691 [==============================] - 0s 30us/sample - loss: 0.5417 - acc: 0.7294 - val_loss: 0.6681 - val_acc: 0.6494\n",
      "Epoch 119/250\n",
      "691/691 [==============================] - 0s 33us/sample - loss: 0.5406 - acc: 0.7221 - val_loss: 0.6546 - val_acc: 0.6753\n",
      "Epoch 120/250\n",
      "691/691 [==============================] - 0s 30us/sample - loss: 0.5357 - acc: 0.7337 - val_loss: 0.6469 - val_acc: 0.6494\n",
      "Epoch 121/250\n",
      "691/691 [==============================] - 0s 30us/sample - loss: 0.5452 - acc: 0.7221 - val_loss: 0.6358 - val_acc: 0.6623\n",
      "Epoch 122/250\n",
      "691/691 [==============================] - 0s 32us/sample - loss: 0.5406 - acc: 0.7221 - val_loss: 0.6470 - val_acc: 0.6494\n",
      "Epoch 123/250\n",
      "691/691 [==============================] - 0s 36us/sample - loss: 0.5405 - acc: 0.7438 - val_loss: 0.7110 - val_acc: 0.5974\n",
      "Epoch 124/250\n",
      "691/691 [==============================] - 0s 32us/sample - loss: 0.5439 - acc: 0.7192 - val_loss: 0.7403 - val_acc: 0.5974\n",
      "Epoch 125/250\n",
      "691/691 [==============================] - 0s 32us/sample - loss: 0.5375 - acc: 0.7207 - val_loss: 0.6897 - val_acc: 0.6364\n",
      "Epoch 126/250\n",
      "691/691 [==============================] - 0s 30us/sample - loss: 0.5381 - acc: 0.7250 - val_loss: 0.6736 - val_acc: 0.6494\n",
      "Epoch 127/250\n",
      "691/691 [==============================] - 0s 32us/sample - loss: 0.5363 - acc: 0.7192 - val_loss: 0.6634 - val_acc: 0.6494\n",
      "Epoch 128/250\n",
      "691/691 [==============================] - 0s 32us/sample - loss: 0.5511 - acc: 0.7077 - val_loss: 0.6873 - val_acc: 0.6364\n",
      "Epoch 129/250\n",
      "691/691 [==============================] - 0s 32us/sample - loss: 0.5363 - acc: 0.7294 - val_loss: 0.6709 - val_acc: 0.6494\n",
      "Epoch 130/250\n",
      "691/691 [==============================] - 0s 35us/sample - loss: 0.5328 - acc: 0.7337 - val_loss: 0.6581 - val_acc: 0.6753\n",
      "Epoch 131/250\n",
      "691/691 [==============================] - 0s 32us/sample - loss: 0.5302 - acc: 0.7294 - val_loss: 0.6623 - val_acc: 0.6494\n",
      "Epoch 132/250\n",
      "691/691 [==============================] - 0s 33us/sample - loss: 0.5308 - acc: 0.7323 - val_loss: 0.6566 - val_acc: 0.6753\n",
      "Epoch 133/250\n",
      "691/691 [==============================] - 0s 33us/sample - loss: 0.5294 - acc: 0.7381 - val_loss: 0.6687 - val_acc: 0.6494\n",
      "Epoch 134/250\n",
      "691/691 [==============================] - 0s 35us/sample - loss: 0.5296 - acc: 0.7294 - val_loss: 0.6815 - val_acc: 0.6494\n",
      "Epoch 135/250\n",
      "691/691 [==============================] - 0s 32us/sample - loss: 0.5285 - acc: 0.7294 - val_loss: 0.6473 - val_acc: 0.6883\n",
      "Epoch 136/250\n",
      "691/691 [==============================] - 0s 32us/sample - loss: 0.5352 - acc: 0.7279 - val_loss: 0.7403 - val_acc: 0.5974\n",
      "Epoch 137/250\n",
      "691/691 [==============================] - 0s 32us/sample - loss: 0.5442 - acc: 0.7221 - val_loss: 0.6803 - val_acc: 0.6494\n",
      "Epoch 138/250\n",
      "691/691 [==============================] - 0s 32us/sample - loss: 0.5283 - acc: 0.7294 - val_loss: 0.6635 - val_acc: 0.6494\n",
      "Epoch 139/250\n",
      "691/691 [==============================] - 0s 36us/sample - loss: 0.5287 - acc: 0.7294 - val_loss: 0.6283 - val_acc: 0.6883\n",
      "Epoch 140/250\n",
      "691/691 [==============================] - 0s 36us/sample - loss: 0.5335 - acc: 0.7308 - val_loss: 0.6276 - val_acc: 0.6623\n",
      "Epoch 141/250\n",
      "691/691 [==============================] - 0s 36us/sample - loss: 0.5248 - acc: 0.7366 - val_loss: 0.6393 - val_acc: 0.7013\n",
      "Epoch 142/250\n",
      "691/691 [==============================] - 0s 33us/sample - loss: 0.5229 - acc: 0.7381 - val_loss: 0.6406 - val_acc: 0.7013\n",
      "Epoch 143/250\n",
      "691/691 [==============================] - 0s 32us/sample - loss: 0.5246 - acc: 0.7410 - val_loss: 0.6426 - val_acc: 0.7013\n",
      "Epoch 144/250\n",
      "691/691 [==============================] - 0s 35us/sample - loss: 0.5213 - acc: 0.7395 - val_loss: 0.6286 - val_acc: 0.7013\n",
      "Epoch 145/250\n",
      "691/691 [==============================] - 0s 35us/sample - loss: 0.5210 - acc: 0.7366 - val_loss: 0.6474 - val_acc: 0.6883\n",
      "Epoch 146/250\n",
      "691/691 [==============================] - 0s 35us/sample - loss: 0.5182 - acc: 0.7381 - val_loss: 0.6674 - val_acc: 0.6753\n",
      "Epoch 147/250\n",
      "691/691 [==============================] - 0s 29us/sample - loss: 0.5237 - acc: 0.7323 - val_loss: 0.6701 - val_acc: 0.6623\n",
      "Epoch 148/250\n",
      "691/691 [==============================] - 0s 33us/sample - loss: 0.5233 - acc: 0.7352 - val_loss: 0.6497 - val_acc: 0.6883\n",
      "Epoch 149/250\n",
      "691/691 [==============================] - 0s 32us/sample - loss: 0.5169 - acc: 0.7482 - val_loss: 0.6269 - val_acc: 0.6883\n",
      "Epoch 150/250\n",
      "691/691 [==============================] - 0s 32us/sample - loss: 0.5226 - acc: 0.7438 - val_loss: 0.6413 - val_acc: 0.7013\n",
      "Epoch 151/250\n",
      "691/691 [==============================] - 0s 36us/sample - loss: 0.5195 - acc: 0.7467 - val_loss: 0.6388 - val_acc: 0.7013\n",
      "Epoch 152/250\n",
      "691/691 [==============================] - 0s 33us/sample - loss: 0.5228 - acc: 0.7511 - val_loss: 0.6338 - val_acc: 0.7143\n",
      "Epoch 153/250\n",
      "691/691 [==============================] - 0s 35us/sample - loss: 0.5208 - acc: 0.7424 - val_loss: 0.6250 - val_acc: 0.6883\n",
      "Epoch 154/250\n",
      "691/691 [==============================] - 0s 36us/sample - loss: 0.5189 - acc: 0.7323 - val_loss: 0.6296 - val_acc: 0.7013\n",
      "Epoch 155/250\n",
      "691/691 [==============================] - 0s 43us/sample - loss: 0.5183 - acc: 0.7424 - val_loss: 0.6423 - val_acc: 0.7013\n",
      "Epoch 156/250\n",
      "691/691 [==============================] - 0s 32us/sample - loss: 0.5249 - acc: 0.7207 - val_loss: 0.6194 - val_acc: 0.6883\n",
      "Epoch 157/250\n",
      "691/691 [==============================] - 0s 32us/sample - loss: 0.5290 - acc: 0.7337 - val_loss: 0.6228 - val_acc: 0.7273\n",
      "Epoch 158/250\n",
      "691/691 [==============================] - 0s 32us/sample - loss: 0.5212 - acc: 0.7438 - val_loss: 0.6219 - val_acc: 0.7143\n",
      "Epoch 159/250\n",
      "691/691 [==============================] - 0s 33us/sample - loss: 0.5156 - acc: 0.7467 - val_loss: 0.6410 - val_acc: 0.7013\n",
      "Epoch 160/250\n",
      "691/691 [==============================] - 0s 35us/sample - loss: 0.5171 - acc: 0.7482 - val_loss: 0.6392 - val_acc: 0.7013\n",
      "Epoch 161/250\n",
      "691/691 [==============================] - 0s 33us/sample - loss: 0.5164 - acc: 0.7381 - val_loss: 0.6187 - val_acc: 0.7013\n",
      "Epoch 162/250\n",
      "691/691 [==============================] - 0s 35us/sample - loss: 0.5192 - acc: 0.7482 - val_loss: 0.6265 - val_acc: 0.7013\n",
      "Epoch 163/250\n",
      "691/691 [==============================] - 0s 32us/sample - loss: 0.5150 - acc: 0.7511 - val_loss: 0.6398 - val_acc: 0.7143\n",
      "Epoch 164/250\n",
      "691/691 [==============================] - 0s 33us/sample - loss: 0.5128 - acc: 0.7467 - val_loss: 0.6197 - val_acc: 0.7273\n",
      "Epoch 165/250\n",
      "691/691 [==============================] - 0s 35us/sample - loss: 0.5224 - acc: 0.7236 - val_loss: 0.6335 - val_acc: 0.7143\n",
      "Epoch 166/250\n",
      "691/691 [==============================] - 0s 30us/sample - loss: 0.5139 - acc: 0.7511 - val_loss: 0.6249 - val_acc: 0.7273\n",
      "Epoch 167/250\n",
      "691/691 [==============================] - 0s 32us/sample - loss: 0.5122 - acc: 0.7569 - val_loss: 0.6457 - val_acc: 0.7013\n",
      "Epoch 168/250\n",
      "691/691 [==============================] - 0s 35us/sample - loss: 0.5127 - acc: 0.7482 - val_loss: 0.6334 - val_acc: 0.7013\n",
      "Epoch 169/250\n",
      "691/691 [==============================] - 0s 33us/sample - loss: 0.5126 - acc: 0.7540 - val_loss: 0.6370 - val_acc: 0.7013\n",
      "Epoch 170/250\n",
      "691/691 [==============================] - 0s 30us/sample - loss: 0.5134 - acc: 0.7525 - val_loss: 0.6236 - val_acc: 0.7013\n",
      "Epoch 171/250\n",
      "691/691 [==============================] - 0s 33us/sample - loss: 0.5142 - acc: 0.7467 - val_loss: 0.6548 - val_acc: 0.6883\n",
      "Epoch 172/250\n",
      "691/691 [==============================] - 0s 30us/sample - loss: 0.5198 - acc: 0.7453 - val_loss: 0.7630 - val_acc: 0.6104\n",
      "Epoch 173/250\n",
      "691/691 [==============================] - 0s 29us/sample - loss: 0.5344 - acc: 0.7395 - val_loss: 0.7089 - val_acc: 0.6494\n",
      "Epoch 174/250\n",
      "691/691 [==============================] - 0s 33us/sample - loss: 0.5238 - acc: 0.7410 - val_loss: 0.6506 - val_acc: 0.6883\n",
      "Epoch 175/250\n",
      "691/691 [==============================] - 0s 33us/sample - loss: 0.5139 - acc: 0.7554 - val_loss: 0.6627 - val_acc: 0.6883\n",
      "Epoch 176/250\n",
      "691/691 [==============================] - 0s 32us/sample - loss: 0.5160 - acc: 0.7381 - val_loss: 0.6521 - val_acc: 0.7013\n",
      "Epoch 177/250\n",
      "691/691 [==============================] - 0s 35us/sample - loss: 0.5114 - acc: 0.7410 - val_loss: 0.6213 - val_acc: 0.7273\n",
      "Epoch 178/250\n",
      "691/691 [==============================] - 0s 30us/sample - loss: 0.5122 - acc: 0.7482 - val_loss: 0.6381 - val_acc: 0.7273\n",
      "Epoch 179/250\n",
      "691/691 [==============================] - 0s 35us/sample - loss: 0.5138 - acc: 0.7496 - val_loss: 0.6416 - val_acc: 0.7143\n",
      "Epoch 180/250\n",
      "691/691 [==============================] - 0s 49us/sample - loss: 0.5107 - acc: 0.7525 - val_loss: 0.6178 - val_acc: 0.7273\n",
      "Epoch 181/250\n",
      "691/691 [==============================] - 0s 30us/sample - loss: 0.5166 - acc: 0.7525 - val_loss: 0.6786 - val_acc: 0.6753\n",
      "Epoch 182/250\n",
      "691/691 [==============================] - 0s 30us/sample - loss: 0.5096 - acc: 0.7641 - val_loss: 0.6206 - val_acc: 0.7143\n",
      "Epoch 183/250\n",
      "691/691 [==============================] - 0s 30us/sample - loss: 0.5069 - acc: 0.7540 - val_loss: 0.6246 - val_acc: 0.7273\n",
      "Epoch 184/250\n",
      "691/691 [==============================] - 0s 36us/sample - loss: 0.5093 - acc: 0.7410 - val_loss: 0.6501 - val_acc: 0.7013\n",
      "Epoch 185/250\n",
      "691/691 [==============================] - 0s 33us/sample - loss: 0.5073 - acc: 0.7453 - val_loss: 0.6405 - val_acc: 0.7143\n",
      "Epoch 186/250\n",
      "691/691 [==============================] - 0s 29us/sample - loss: 0.5078 - acc: 0.7554 - val_loss: 0.6263 - val_acc: 0.7143\n",
      "Epoch 187/250\n",
      "691/691 [==============================] - 0s 30us/sample - loss: 0.5110 - acc: 0.7467 - val_loss: 0.6292 - val_acc: 0.7273\n",
      "Epoch 188/250\n",
      "691/691 [==============================] - 0s 32us/sample - loss: 0.5107 - acc: 0.7496 - val_loss: 0.6441 - val_acc: 0.7013\n",
      "Epoch 189/250\n",
      "691/691 [==============================] - 0s 33us/sample - loss: 0.5074 - acc: 0.7496 - val_loss: 0.6392 - val_acc: 0.7143\n",
      "Epoch 190/250\n",
      "691/691 [==============================] - 0s 35us/sample - loss: 0.5055 - acc: 0.7554 - val_loss: 0.6261 - val_acc: 0.7273\n",
      "Epoch 191/250\n",
      "691/691 [==============================] - 0s 30us/sample - loss: 0.5078 - acc: 0.7525 - val_loss: 0.6155 - val_acc: 0.7273\n",
      "Epoch 192/250\n",
      "691/691 [==============================] - 0s 33us/sample - loss: 0.5079 - acc: 0.7438 - val_loss: 0.6566 - val_acc: 0.6883\n",
      "Epoch 193/250\n",
      "691/691 [==============================] - 0s 35us/sample - loss: 0.5133 - acc: 0.7482 - val_loss: 0.6538 - val_acc: 0.6883\n",
      "Epoch 194/250\n",
      "691/691 [==============================] - 0s 41us/sample - loss: 0.5101 - acc: 0.7482 - val_loss: 0.6210 - val_acc: 0.7273\n",
      "Epoch 195/250\n",
      "691/691 [==============================] - 0s 38us/sample - loss: 0.5102 - acc: 0.7453 - val_loss: 0.6684 - val_acc: 0.6883\n",
      "Epoch 196/250\n",
      "691/691 [==============================] - 0s 35us/sample - loss: 0.5107 - acc: 0.7395 - val_loss: 0.6321 - val_acc: 0.7403\n",
      "Epoch 197/250\n",
      "691/691 [==============================] - 0s 33us/sample - loss: 0.5068 - acc: 0.7511 - val_loss: 0.6456 - val_acc: 0.7013\n",
      "Epoch 198/250\n",
      "691/691 [==============================] - 0s 31us/sample - loss: 0.5041 - acc: 0.7525 - val_loss: 0.6171 - val_acc: 0.7403\n",
      "Epoch 199/250\n",
      "691/691 [==============================] - 0s 32us/sample - loss: 0.5061 - acc: 0.7540 - val_loss: 0.6157 - val_acc: 0.7403\n",
      "Epoch 200/250\n",
      "691/691 [==============================] - 0s 32us/sample - loss: 0.5042 - acc: 0.7554 - val_loss: 0.6329 - val_acc: 0.7403\n",
      "Epoch 201/250\n",
      "691/691 [==============================] - 0s 35us/sample - loss: 0.5027 - acc: 0.7540 - val_loss: 0.6276 - val_acc: 0.7273\n",
      "Epoch 202/250\n",
      "691/691 [==============================] - 0s 32us/sample - loss: 0.5028 - acc: 0.7482 - val_loss: 0.6314 - val_acc: 0.7273\n",
      "Epoch 203/250\n",
      "691/691 [==============================] - 0s 33us/sample - loss: 0.5092 - acc: 0.7381 - val_loss: 0.6421 - val_acc: 0.7013\n",
      "Epoch 204/250\n",
      "691/691 [==============================] - 0s 35us/sample - loss: 0.5042 - acc: 0.7598 - val_loss: 0.6099 - val_acc: 0.7013\n",
      "Epoch 205/250\n",
      "691/691 [==============================] - 0s 33us/sample - loss: 0.5158 - acc: 0.7699 - val_loss: 0.6065 - val_acc: 0.7403\n",
      "Epoch 206/250\n",
      "691/691 [==============================] - 0s 33us/sample - loss: 0.5129 - acc: 0.7540 - val_loss: 0.6111 - val_acc: 0.7143\n",
      "Epoch 207/250\n",
      "691/691 [==============================] - 0s 35us/sample - loss: 0.5052 - acc: 0.7482 - val_loss: 0.6399 - val_acc: 0.7143\n",
      "Epoch 208/250\n",
      "691/691 [==============================] - 0s 32us/sample - loss: 0.5079 - acc: 0.7511 - val_loss: 0.6224 - val_acc: 0.7273\n",
      "Epoch 209/250\n",
      "691/691 [==============================] - 0s 32us/sample - loss: 0.5161 - acc: 0.7366 - val_loss: 0.6046 - val_acc: 0.7532\n",
      "Epoch 210/250\n",
      "691/691 [==============================] - 0s 32us/sample - loss: 0.5058 - acc: 0.7511 - val_loss: 0.6344 - val_acc: 0.7403\n",
      "Epoch 211/250\n",
      "691/691 [==============================] - 0s 32us/sample - loss: 0.5055 - acc: 0.7525 - val_loss: 0.6611 - val_acc: 0.6883\n",
      "Epoch 212/250\n",
      "691/691 [==============================] - 0s 35us/sample - loss: 0.5019 - acc: 0.7554 - val_loss: 0.6563 - val_acc: 0.6883\n",
      "Epoch 213/250\n",
      "691/691 [==============================] - 0s 35us/sample - loss: 0.5050 - acc: 0.7612 - val_loss: 0.6108 - val_acc: 0.7403\n",
      "Epoch 214/250\n",
      "691/691 [==============================] - 0s 35us/sample - loss: 0.5150 - acc: 0.7453 - val_loss: 0.7435 - val_acc: 0.6104\n",
      "Epoch 215/250\n",
      "691/691 [==============================] - 0s 36us/sample - loss: 0.5337 - acc: 0.7366 - val_loss: 0.6569 - val_acc: 0.6883\n",
      "Epoch 216/250\n",
      "691/691 [==============================] - 0s 33us/sample - loss: 0.5003 - acc: 0.7496 - val_loss: 0.6013 - val_acc: 0.7273\n",
      "Epoch 217/250\n",
      "691/691 [==============================] - 0s 33us/sample - loss: 0.5013 - acc: 0.7467 - val_loss: 0.6141 - val_acc: 0.7532\n",
      "Epoch 218/250\n",
      "691/691 [==============================] - 0s 30us/sample - loss: 0.5000 - acc: 0.7540 - val_loss: 0.6765 - val_acc: 0.6753\n",
      "Epoch 219/250\n",
      "691/691 [==============================] - 0s 35us/sample - loss: 0.5025 - acc: 0.7496 - val_loss: 0.6070 - val_acc: 0.7403\n",
      "Epoch 220/250\n",
      "691/691 [==============================] - 0s 35us/sample - loss: 0.5043 - acc: 0.7511 - val_loss: 0.5881 - val_acc: 0.7403\n",
      "Epoch 221/250\n",
      "691/691 [==============================] - 0s 30us/sample - loss: 0.5034 - acc: 0.7453 - val_loss: 0.6026 - val_acc: 0.7532\n",
      "Epoch 222/250\n",
      "691/691 [==============================] - 0s 35us/sample - loss: 0.5028 - acc: 0.7627 - val_loss: 0.5945 - val_acc: 0.7403\n",
      "Epoch 223/250\n",
      "691/691 [==============================] - 0s 33us/sample - loss: 0.4988 - acc: 0.7554 - val_loss: 0.6058 - val_acc: 0.7273\n",
      "Epoch 224/250\n",
      "691/691 [==============================] - 0s 33us/sample - loss: 0.4969 - acc: 0.7540 - val_loss: 0.6064 - val_acc: 0.7532\n",
      "Epoch 225/250\n",
      "691/691 [==============================] - 0s 30us/sample - loss: 0.4978 - acc: 0.7453 - val_loss: 0.6002 - val_acc: 0.7403\n",
      "Epoch 226/250\n",
      "691/691 [==============================] - 0s 35us/sample - loss: 0.4999 - acc: 0.7525 - val_loss: 0.6103 - val_acc: 0.7273\n",
      "Epoch 227/250\n",
      "691/691 [==============================] - 0s 29us/sample - loss: 0.4969 - acc: 0.7525 - val_loss: 0.6211 - val_acc: 0.7403\n",
      "Epoch 228/250\n",
      "691/691 [==============================] - 0s 33us/sample - loss: 0.5006 - acc: 0.7554 - val_loss: 0.6160 - val_acc: 0.7273\n",
      "Epoch 229/250\n",
      "691/691 [==============================] - 0s 33us/sample - loss: 0.4967 - acc: 0.7496 - val_loss: 0.6031 - val_acc: 0.7403\n",
      "Epoch 230/250\n",
      "691/691 [==============================] - 0s 33us/sample - loss: 0.5046 - acc: 0.7525 - val_loss: 0.6216 - val_acc: 0.7403\n",
      "Epoch 231/250\n",
      "691/691 [==============================] - 0s 32us/sample - loss: 0.5003 - acc: 0.7598 - val_loss: 0.6357 - val_acc: 0.7013\n",
      "Epoch 232/250\n",
      "691/691 [==============================] - 0s 33us/sample - loss: 0.4964 - acc: 0.7598 - val_loss: 0.5882 - val_acc: 0.7662\n",
      "Epoch 233/250\n",
      "691/691 [==============================] - 0s 39us/sample - loss: 0.4960 - acc: 0.7540 - val_loss: 0.5986 - val_acc: 0.7403\n",
      "Epoch 234/250\n",
      "691/691 [==============================] - 0s 41us/sample - loss: 0.4943 - acc: 0.7598 - val_loss: 0.5871 - val_acc: 0.7532\n",
      "Epoch 235/250\n",
      "691/691 [==============================] - 0s 36us/sample - loss: 0.4955 - acc: 0.7540 - val_loss: 0.5917 - val_acc: 0.7403\n",
      "Epoch 236/250\n",
      "691/691 [==============================] - 0s 33us/sample - loss: 0.5046 - acc: 0.7569 - val_loss: 0.6136 - val_acc: 0.7403\n",
      "Epoch 237/250\n",
      "691/691 [==============================] - 0s 36us/sample - loss: 0.4993 - acc: 0.7569 - val_loss: 0.6377 - val_acc: 0.6883\n",
      "Epoch 238/250\n",
      "691/691 [==============================] - 0s 32us/sample - loss: 0.4994 - acc: 0.7525 - val_loss: 0.6557 - val_acc: 0.6753\n",
      "Epoch 239/250\n",
      "691/691 [==============================] - 0s 33us/sample - loss: 0.4987 - acc: 0.7496 - val_loss: 0.6310 - val_acc: 0.7143\n",
      "Epoch 240/250\n",
      "691/691 [==============================] - 0s 32us/sample - loss: 0.4957 - acc: 0.7569 - val_loss: 0.5930 - val_acc: 0.7532\n",
      "Epoch 241/250\n",
      "691/691 [==============================] - 0s 33us/sample - loss: 0.4940 - acc: 0.7511 - val_loss: 0.6114 - val_acc: 0.7532\n",
      "Epoch 242/250\n",
      "691/691 [==============================] - 0s 29us/sample - loss: 0.4962 - acc: 0.7569 - val_loss: 0.5882 - val_acc: 0.7662\n",
      "Epoch 243/250\n",
      "691/691 [==============================] - 0s 30us/sample - loss: 0.4926 - acc: 0.7525 - val_loss: 0.6032 - val_acc: 0.7273\n",
      "Epoch 244/250\n",
      "691/691 [==============================] - 0s 35us/sample - loss: 0.4912 - acc: 0.7482 - val_loss: 0.5861 - val_acc: 0.7662\n",
      "Epoch 245/250\n",
      "691/691 [==============================] - 0s 32us/sample - loss: 0.4947 - acc: 0.7540 - val_loss: 0.5853 - val_acc: 0.7662\n",
      "Epoch 246/250\n",
      "691/691 [==============================] - 0s 32us/sample - loss: 0.4947 - acc: 0.7496 - val_loss: 0.5840 - val_acc: 0.7532\n",
      "Epoch 247/250\n",
      "691/691 [==============================] - 0s 32us/sample - loss: 0.5003 - acc: 0.7540 - val_loss: 0.6021 - val_acc: 0.7403\n",
      "Epoch 248/250\n",
      "691/691 [==============================] - 0s 35us/sample - loss: 0.4982 - acc: 0.7554 - val_loss: 0.5834 - val_acc: 0.7532\n",
      "Epoch 249/250\n",
      "691/691 [==============================] - 0s 32us/sample - loss: 0.4944 - acc: 0.7554 - val_loss: 0.5835 - val_acc: 0.7532\n",
      "Epoch 250/250\n",
      "691/691 [==============================] - 0s 30us/sample - loss: 0.4932 - acc: 0.7699 - val_loss: 0.5871 - val_acc: 0.7662\n"
     ]
    },
    {
     "data": {
      "text/plain": [
       "<tensorflow.python.keras.callbacks.History at 0x1b0a39ed080>"
      ]
     },
     "execution_count": 26,
     "metadata": {},
     "output_type": "execute_result"
    }
   ],
   "source": [
    "model_improved.fit(X,y, epochs=250, validation_split=.10)"
   ]
  },
  {
   "cell_type": "code",
   "execution_count": 27,
   "metadata": {},
   "outputs": [
    {
     "name": "stdout",
     "output_type": "stream",
     "text": [
      "768/768 [==============================] - 0s 16us/sample - loss: 0.5026 - acc: 0.7539\n"
     ]
    },
    {
     "data": {
      "text/plain": [
       "[0.5026386852065722, 0.75390625]"
      ]
     },
     "execution_count": 27,
     "metadata": {},
     "output_type": "execute_result"
    }
   ],
   "source": [
    "model_improved.evaluate(X,y)\n",
    "#print(f\"{model_improved.metrics_names[1]}: {scores[1]*100}\")"
   ]
  },
  {
   "cell_type": "markdown",
   "metadata": {},
   "source": [
    "## Challenge\n",
    "\n",
    "You will have to choose your own architectures in today's module project. "
   ]
  },
  {
   "cell_type": "markdown",
   "metadata": {
    "colab_type": "text",
    "id": "tcjMuxtn6wIQ",
    "toc-hr-collapsed": false
   },
   "source": [
    "# Activation Functions (Learn)"
   ]
  },
  {
   "cell_type": "markdown",
   "metadata": {
    "colab_type": "text",
    "id": "tcjMuxtn6wIQ",
    "toc-hr-collapsed": false
   },
   "source": [
    "## Overview\n",
    "What is an activation function and how does it work?\n",
    "\n",
    "- Takes in a weighted sum of inputs + a bias from the previous layer and outputs an \"activation\" value.\n",
    "- Based its inputs the neuron decides how 'activated' it should be. This can be thought of as the neuron deciding how strongly to fire. You can also think of it as if the neuron is deciding how much of the signal that it has received to pass onto the next layer. \n",
    "- Our choice of activation function does not only affect signal that is passed forward but also affects the backpropagation algorithm. It affects how we update weights in reverse order since activated weight/input sums become the inputs of the next layer. "
   ]
  },
  {
   "cell_type": "markdown",
   "metadata": {
    "toc-hr-collapsed": true
   },
   "source": [
    "## Follow Along"
   ]
  },
  {
   "cell_type": "markdown",
   "metadata": {
    "colab_type": "text",
    "id": "n_b0u8Ch60bA"
   },
   "source": [
    "### Step Function\n",
    "\n",
    "![Heaviside Step Function](https://upload.wikimedia.org/wikipedia/commons/thumb/d/d9/Dirac_distribution_CDF.svg/325px-Dirac_distribution_CDF.svg.png)\n",
    "\n",
    "All or nothing, a little extreme, which is fine, but makes updating weights through backpropagation impossible. Why? remember that during backpropagation we use derivatives in order to determine how much to update or not update weights. What is the derivative of the step function?"
   ]
  },
  {
   "cell_type": "markdown",
   "metadata": {
    "colab_type": "text",
    "id": "vKR0YhIVEnXZ"
   },
   "source": [
    "### Linear Function\n",
    "\n",
    "![Linear Function](http://www.roconnell.net/Parent%20function/linear.gif)\n",
    "\n",
    "The linear function takes the opposite tact from the step function and passes the signal onto the next layer by a constant factor. There are problems with this but the biggest problems again lie in backpropagation. The derivative of any linear function is a horizontal line which would indicate that we should update all weights by a constant amount every time -which on balance wouldn't change the behavior of our network. Linear functions are typically only used for very simple tasks where interpretability is important, but if interpretability is your highest priority, you probably shouldn't be using neural networks in the first place."
   ]
  },
  {
   "cell_type": "markdown",
   "metadata": {
    "colab_type": "text",
    "id": "JFurIVL6EkQ8"
   },
   "source": [
    "### Sigmoid Function\n",
    "\n",
    "![Sigmoid Function](https://upload.wikimedia.org/wikipedia/commons/thumb/8/88/Logistic-curve.svg/480px-Logistic-curve.svg.png)\n",
    "\n",
    "The sigmoid function works great as an activation function! it's continuously differentiable, its derivative doesn't have a constant slope, and having the higher slope in the middle pushes y value predictions towards extremes which is particularly useful for binary classification problems. I mean, this is why we use it as the squishifier in logistic regression as well. It constrains output, but over repeated epochs pushes predictions towards a strong binary prediction. \n",
    "\n",
    "What's the biggest problem with the sigmoid function? The fact that its slope gets pretty flat so quickly after its departure from zero. This means that updating weights based on its gradient really diminishes the size of our weight updates as our model gets more confident about its classifications. This is why even after so many iterations with our test score example we couldn't reach the levels of fit that our gradient descent based model could reach in just a few epochs."
   ]
  },
  {
   "cell_type": "markdown",
   "metadata": {
    "colab_type": "text",
    "id": "hm6p1HWbEhYi"
   },
   "source": [
    "### Tanh Function\n",
    "\n",
    "![Tanh Function](http://mathworld.wolfram.com/images/interactive/TanhReal.gif)\n",
    "\n",
    "What if the sigmoid function didn't get so flat quite as soon when moving away from zero and was a little bit steeper in the middle? That's basically the Tanh function. The Tanh function can actually be created by scaling the sigmoid function by 2 in the y dimension and subtracting 1 from all values. It has basically the same properties as the sigmoid, still struggles from diminishingly flat gradients as we move away from 0, but its derivative is higher around 0 causing weights to move to the extremes a little faster. "
   ]
  },
  {
   "cell_type": "markdown",
   "metadata": {
    "colab_type": "text",
    "id": "sFOn_L6gEcz1"
   },
   "source": [
    "### ReLU Function\n",
    "\n",
    "![ReLU Function](https://cdn-images-1.medium.com/max/937/1*oePAhrm74RNnNEolprmTaQ.png)\n",
    "\n",
    "ReLU stands for Rectified Linear Units it is by far the most commonly used activation function in modern neural networks. It doesn't activate neurons that are being passed a negative signal and passes on positive signals. Think about why this might be useful. Remember how a lot of our initial weights got set to negative numbers by chance? This would have dealt with those negative weights a lot faster than the sigmoid function updating. What does the derivative of this function look like? It looks like the step function! This means that not all neurons are activated. With sigmoid basically all of our neurons are passing some amount of signal even if it's small making it hard for the network to differentiate important and less important connections. ReLU turns off a portion of our less important neurons which decreases computational load, but also helps the network learn what the most important connections are faster. \n",
    "\n",
    "What's the problem with relu? Well the left half of its derivative function shows that for neurons that are initialized with weights that cause them to have no activation, our gradient will not update those neuron's weights, this can lead to dead neurons that never fire and whose weights never get updated. We would probably want to update the weights of neurons that didn't fire even if it's just by a little bit in case we got unlucky with our initial weights and want to give those neurons a chance of turning back on in the future."
   ]
  },
  {
   "cell_type": "markdown",
   "metadata": {
    "colab_type": "text",
    "id": "XWdvWOBIETwk"
   },
   "source": [
    "### Leaky ReLU\n",
    "\n",
    "![Leaky ReLU](https://cdn-images-1.medium.com/max/1600/1*ypsvQH7kvtI2BhzR2eT_Sw.png)\n",
    "\n",
    "Leaky ReLU accomplishes exactly that! it avoids having a gradient of 0 on the left side of its derivative function. This means that even \"dead\" neurons have a chance of being revived over enough iterations. In some specifications the slope of the leaky left-hand side can also be experimented with as a hyperparameter of the model!"
   ]
  },
  {
   "cell_type": "markdown",
   "metadata": {
    "colab_type": "text",
    "id": "FcAxkNFREMFb"
   },
   "source": [
    "### Softmax Function\n",
    "\n",
    "![Softmax Function](https://cdn-images-1.medium.com/max/800/1*670CdxchunD-yAuUWdI7Bw.png)\n",
    "\n",
    "Like the sigmoid function but more useful for multi-class classification problems. The softmax function can take any set of inputs and translate them into probabilities that sum up to 1. This means that we can throw any list of outputs at it and it will translate them into probabilities, this is extremely useful for multi-class classification problems. Like MNIST for example..."
   ]
  },
  {
   "cell_type": "markdown",
   "metadata": {
    "colab_type": "text",
    "id": "23-XRRXKHs34"
   },
   "source": [
    "### Major takeaways\n",
    "\n",
    "- ReLU is generally better at obtaining the optimal model fit.\n",
    "- Sigmoid and its derivatives are usually better at classification problems.\n",
    "- Softmax for multi-class classification problems. \n",
    "\n",
    "You'll typically see ReLU used for all initial layers and then the final layer being sigmoid or softmax for classification problems. But you can experiment and tune these selections as hyperparameters as well!"
   ]
  },
  {
   "cell_type": "markdown",
   "metadata": {
    "colab_type": "text",
    "id": "TWuoXZCCKCI7"
   },
   "source": [
    "### MNIST with Keras \n",
    "\n",
    "#### This will be a good chance to bring up dropout regularization. :)"
   ]
  },
  {
   "cell_type": "code",
   "execution_count": 31,
   "metadata": {
    "colab": {},
    "colab_type": "code",
    "id": "jmJ_5azs04pU"
   },
   "outputs": [],
   "source": [
    "### Let's do it!\n",
    "\n",
    "from tensorflow import keras\n",
    "from tensorflow.keras.datasets import mnist\n",
    "from tensorflow.keras.models import Sequential\n",
    "from tensorflow.keras.layers import Dense, Dropout\n",
    "\n",
    "# Stretch - use dropout \n",
    "import numpy as np"
   ]
  },
  {
   "cell_type": "code",
   "execution_count": 32,
   "metadata": {},
   "outputs": [],
   "source": [
    "# Hyper Parameters\n",
    "batch_size = 64\n",
    "num_classes = 10\n",
    "epochs = 20"
   ]
  },
  {
   "cell_type": "code",
   "execution_count": 33,
   "metadata": {},
   "outputs": [
    {
     "name": "stdout",
     "output_type": "stream",
     "text": [
      "Downloading data from https://storage.googleapis.com/tensorflow/tf-keras-datasets/mnist.npz\n",
      "11493376/11490434 [==============================] - 1s 0us/step\n"
     ]
    }
   ],
   "source": [
    "# Load the Data\n",
    "(X_train, y_train), (X_test, y_test) = mnist.load_data()"
   ]
  },
  {
   "cell_type": "code",
   "execution_count": 34,
   "metadata": {},
   "outputs": [
    {
     "data": {
      "text/plain": [
       "(28, 28)"
      ]
     },
     "execution_count": 34,
     "metadata": {},
     "output_type": "execute_result"
    }
   ],
   "source": [
    "X_train[0].shape"
   ]
  },
  {
   "cell_type": "code",
   "execution_count": 35,
   "metadata": {},
   "outputs": [
    {
     "data": {
      "text/plain": [
       "(60000, 28, 28)"
      ]
     },
     "execution_count": 35,
     "metadata": {},
     "output_type": "execute_result"
    }
   ],
   "source": [
    "X_train.shape"
   ]
  },
  {
   "cell_type": "code",
   "execution_count": 36,
   "metadata": {},
   "outputs": [
    {
     "data": {
      "text/plain": [
       "array([[  0,   0,   0,   0,   0,   0,   0,   0,   0,   0,   0,   0,   0,\n",
       "          0,   0,   0,   0,   0,   0,   0,   0,   0,   0,   0,   0,   0,\n",
       "          0,   0],\n",
       "       [  0,   0,   0,   0,   0,   0,   0,   0,   0,   0,   0,   0,   0,\n",
       "          0,   0,   0,   0,   0,   0,   0,   0,   0,   0,   0,   0,   0,\n",
       "          0,   0],\n",
       "       [  0,   0,   0,   0,   0,   0,   0,   0,   0,   0,   0,   0,   0,\n",
       "          0,   0,   0,   0,   0,   0,   0,   0,   0,   0,   0,   0,   0,\n",
       "          0,   0],\n",
       "       [  0,   0,   0,   0,   0,   0,   0,   0,   0,   0,   0,   0,   0,\n",
       "          0,   0,   0,   0,   0,   0,   0,   0,   0,   0,   0,   0,   0,\n",
       "          0,   0],\n",
       "       [  0,   0,   0,   0,   0,   0,   0,   0,   0,   0,   0,   0,   0,\n",
       "          0,   0,   0,   0,   0,   0,   0,   0,   0,   0,   0,   0,   0,\n",
       "          0,   0],\n",
       "       [  0,   0,   0,   0,   0,   0,   0,   0,   0,   0,   0,   0,   3,\n",
       "         18,  18,  18, 126, 136, 175,  26, 166, 255, 247, 127,   0,   0,\n",
       "          0,   0],\n",
       "       [  0,   0,   0,   0,   0,   0,   0,   0,  30,  36,  94, 154, 170,\n",
       "        253, 253, 253, 253, 253, 225, 172, 253, 242, 195,  64,   0,   0,\n",
       "          0,   0],\n",
       "       [  0,   0,   0,   0,   0,   0,   0,  49, 238, 253, 253, 253, 253,\n",
       "        253, 253, 253, 253, 251,  93,  82,  82,  56,  39,   0,   0,   0,\n",
       "          0,   0],\n",
       "       [  0,   0,   0,   0,   0,   0,   0,  18, 219, 253, 253, 253, 253,\n",
       "        253, 198, 182, 247, 241,   0,   0,   0,   0,   0,   0,   0,   0,\n",
       "          0,   0],\n",
       "       [  0,   0,   0,   0,   0,   0,   0,   0,  80, 156, 107, 253, 253,\n",
       "        205,  11,   0,  43, 154,   0,   0,   0,   0,   0,   0,   0,   0,\n",
       "          0,   0],\n",
       "       [  0,   0,   0,   0,   0,   0,   0,   0,   0,  14,   1, 154, 253,\n",
       "         90,   0,   0,   0,   0,   0,   0,   0,   0,   0,   0,   0,   0,\n",
       "          0,   0],\n",
       "       [  0,   0,   0,   0,   0,   0,   0,   0,   0,   0,   0, 139, 253,\n",
       "        190,   2,   0,   0,   0,   0,   0,   0,   0,   0,   0,   0,   0,\n",
       "          0,   0],\n",
       "       [  0,   0,   0,   0,   0,   0,   0,   0,   0,   0,   0,  11, 190,\n",
       "        253,  70,   0,   0,   0,   0,   0,   0,   0,   0,   0,   0,   0,\n",
       "          0,   0],\n",
       "       [  0,   0,   0,   0,   0,   0,   0,   0,   0,   0,   0,   0,  35,\n",
       "        241, 225, 160, 108,   1,   0,   0,   0,   0,   0,   0,   0,   0,\n",
       "          0,   0],\n",
       "       [  0,   0,   0,   0,   0,   0,   0,   0,   0,   0,   0,   0,   0,\n",
       "         81, 240, 253, 253, 119,  25,   0,   0,   0,   0,   0,   0,   0,\n",
       "          0,   0],\n",
       "       [  0,   0,   0,   0,   0,   0,   0,   0,   0,   0,   0,   0,   0,\n",
       "          0,  45, 186, 253, 253, 150,  27,   0,   0,   0,   0,   0,   0,\n",
       "          0,   0],\n",
       "       [  0,   0,   0,   0,   0,   0,   0,   0,   0,   0,   0,   0,   0,\n",
       "          0,   0,  16,  93, 252, 253, 187,   0,   0,   0,   0,   0,   0,\n",
       "          0,   0],\n",
       "       [  0,   0,   0,   0,   0,   0,   0,   0,   0,   0,   0,   0,   0,\n",
       "          0,   0,   0,   0, 249, 253, 249,  64,   0,   0,   0,   0,   0,\n",
       "          0,   0],\n",
       "       [  0,   0,   0,   0,   0,   0,   0,   0,   0,   0,   0,   0,   0,\n",
       "          0,  46, 130, 183, 253, 253, 207,   2,   0,   0,   0,   0,   0,\n",
       "          0,   0],\n",
       "       [  0,   0,   0,   0,   0,   0,   0,   0,   0,   0,   0,   0,  39,\n",
       "        148, 229, 253, 253, 253, 250, 182,   0,   0,   0,   0,   0,   0,\n",
       "          0,   0],\n",
       "       [  0,   0,   0,   0,   0,   0,   0,   0,   0,   0,  24, 114, 221,\n",
       "        253, 253, 253, 253, 201,  78,   0,   0,   0,   0,   0,   0,   0,\n",
       "          0,   0],\n",
       "       [  0,   0,   0,   0,   0,   0,   0,   0,  23,  66, 213, 253, 253,\n",
       "        253, 253, 198,  81,   2,   0,   0,   0,   0,   0,   0,   0,   0,\n",
       "          0,   0],\n",
       "       [  0,   0,   0,   0,   0,   0,  18, 171, 219, 253, 253, 253, 253,\n",
       "        195,  80,   9,   0,   0,   0,   0,   0,   0,   0,   0,   0,   0,\n",
       "          0,   0],\n",
       "       [  0,   0,   0,   0,  55, 172, 226, 253, 253, 253, 253, 244, 133,\n",
       "         11,   0,   0,   0,   0,   0,   0,   0,   0,   0,   0,   0,   0,\n",
       "          0,   0],\n",
       "       [  0,   0,   0,   0, 136, 253, 253, 253, 212, 135, 132,  16,   0,\n",
       "          0,   0,   0,   0,   0,   0,   0,   0,   0,   0,   0,   0,   0,\n",
       "          0,   0],\n",
       "       [  0,   0,   0,   0,   0,   0,   0,   0,   0,   0,   0,   0,   0,\n",
       "          0,   0,   0,   0,   0,   0,   0,   0,   0,   0,   0,   0,   0,\n",
       "          0,   0],\n",
       "       [  0,   0,   0,   0,   0,   0,   0,   0,   0,   0,   0,   0,   0,\n",
       "          0,   0,   0,   0,   0,   0,   0,   0,   0,   0,   0,   0,   0,\n",
       "          0,   0],\n",
       "       [  0,   0,   0,   0,   0,   0,   0,   0,   0,   0,   0,   0,   0,\n",
       "          0,   0,   0,   0,   0,   0,   0,   0,   0,   0,   0,   0,   0,\n",
       "          0,   0]], dtype=uint8)"
      ]
     },
     "execution_count": 36,
     "metadata": {},
     "output_type": "execute_result"
    }
   ],
   "source": [
    "X_train[0]"
   ]
  },
  {
   "cell_type": "code",
   "execution_count": 37,
   "metadata": {},
   "outputs": [],
   "source": [
    "# Reshape the data\n",
    "X_train = X_train.reshape(60000, 784)\n",
    "X_test = X_test.reshape(10000, 784)"
   ]
  },
  {
   "cell_type": "code",
   "execution_count": 38,
   "metadata": {},
   "outputs": [],
   "source": [
    "# X Variable Types\n",
    "X_train = X_train.astype('float32')\n",
    "X_test = X_test.astype('float32')"
   ]
  },
  {
   "cell_type": "code",
   "execution_count": 39,
   "metadata": {},
   "outputs": [
    {
     "data": {
      "text/plain": [
       "4"
      ]
     },
     "execution_count": 39,
     "metadata": {},
     "output_type": "execute_result"
    }
   ],
   "source": [
    "y_train[2] "
   ]
  },
  {
   "cell_type": "code",
   "execution_count": 40,
   "metadata": {},
   "outputs": [
    {
     "data": {
      "text/plain": [
       "4"
      ]
     },
     "execution_count": 40,
     "metadata": {},
     "output_type": "execute_result"
    }
   ],
   "source": [
    "y_train[2]"
   ]
  },
  {
   "cell_type": "code",
   "execution_count": 41,
   "metadata": {},
   "outputs": [],
   "source": [
    "# Correct Encoding on Y\n",
    "# What softmax expects = [0,0,0,0,0,1,0,0,0,0]\n",
    "\n",
    "y_train = keras.utils.to_categorical(y_train, num_classes)\n",
    "y_test = keras.utils.to_categorical(y_test, num_classes)"
   ]
  },
  {
   "cell_type": "code",
   "execution_count": 42,
   "metadata": {},
   "outputs": [
    {
     "data": {
      "text/plain": [
       "array([0., 0., 0., 0., 1., 0., 0., 0., 0., 0.], dtype=float32)"
      ]
     },
     "execution_count": 42,
     "metadata": {},
     "output_type": "execute_result"
    }
   ],
   "source": [
    "y_train[2]"
   ]
  },
  {
   "cell_type": "code",
   "execution_count": 43,
   "metadata": {},
   "outputs": [
    {
     "name": "stdout",
     "output_type": "stream",
     "text": [
      "Model: \"sequential_3\"\n",
      "_________________________________________________________________\n",
      "Layer (type)                 Output Shape              Param #   \n",
      "=================================================================\n",
      "dense_13 (Dense)             (None, 16)                12560     \n",
      "_________________________________________________________________\n",
      "dense_14 (Dense)             (None, 16)                272       \n",
      "_________________________________________________________________\n",
      "dense_15 (Dense)             (None, 16)                272       \n",
      "_________________________________________________________________\n",
      "dense_16 (Dense)             (None, 16)                272       \n",
      "_________________________________________________________________\n",
      "dense_17 (Dense)             (None, 10)                170       \n",
      "=================================================================\n",
      "Total params: 13,546\n",
      "Trainable params: 13,546\n",
      "Non-trainable params: 0\n",
      "_________________________________________________________________\n"
     ]
    }
   ],
   "source": [
    "mnist_model = Sequential()\n",
    "\n",
    "# Input => Hidden\n",
    "mnist_model.add(Dense(16, input_dim=784, activation='relu'))\n",
    "# Hidden\n",
    "mnist_model.add(Dense(16, activation='relu'))\n",
    "# Hidden\n",
    "mnist_model.add(Dense(16, activation='relu'))\n",
    "# Hidden\n",
    "mnist_model.add(Dense(16, activation='relu'))\n",
    "# Output\n",
    "mnist_model.add(Dense(10,activation='softmax'))\n",
    "\n",
    "#Compile\n",
    "mnist_model.compile(loss='categorical_crossentropy',\n",
    "                    optimizer='adam',\n",
    "                    metrics=['accuracy'])\n",
    "\n",
    "mnist_model.summary()"
   ]
  },
  {
   "cell_type": "code",
   "execution_count": 44,
   "metadata": {},
   "outputs": [],
   "source": [
    "def neural_network(X):\n",
    "    \n",
    "    dense1 = Dense(8, activation='relu', input=X)\n",
    "    dense2 = Dense(8, activation='relu')(X)\n",
    "    \n",
    "    \n",
    "    return dense2 #or return model"
   ]
  },
  {
   "cell_type": "code",
   "execution_count": 45,
   "metadata": {},
   "outputs": [
    {
     "data": {
      "text/plain": [
       "12544"
      ]
     },
     "execution_count": 45,
     "metadata": {},
     "output_type": "execute_result"
    }
   ],
   "source": [
    "16 *  784"
   ]
  },
  {
   "cell_type": "code",
   "execution_count": 46,
   "metadata": {},
   "outputs": [
    {
     "data": {
      "text/plain": [
       "(10000, 10)"
      ]
     },
     "execution_count": 46,
     "metadata": {},
     "output_type": "execute_result"
    }
   ],
   "source": [
    "y_test.shape"
   ]
  },
  {
   "cell_type": "code",
   "execution_count": 47,
   "metadata": {},
   "outputs": [
    {
     "name": "stdout",
     "output_type": "stream",
     "text": [
      "10000/10000 [==============================] - 0s 17us/sample - loss: 0.2688 - acc: 0.9381\n"
     ]
    }
   ],
   "source": [
    "history = mnist_model.fit(X_train, y_train, batch_size=32, epochs=100, verbose=False)\n",
    "scores = mnist_model.evaluate(X_test, y_test)\n",
    "#print(f'{mnist_model.metrics_names[1]}: {scores[1]*100}')"
   ]
  },
  {
   "cell_type": "markdown",
   "metadata": {
    "colab_type": "text",
    "id": "CKmx8153w9Ci"
   },
   "source": [
    "### Dropout Regularization\n",
    "\n",
    "![Regularization](https://upload.wikimedia.org/wikipedia/commons/thumb/0/02/Regularization.svg/354px-Regularization.svg.png)"
   ]
  },
  {
   "cell_type": "code",
   "execution_count": 48,
   "metadata": {},
   "outputs": [
    {
     "name": "stdout",
     "output_type": "stream",
     "text": [
      "Model: \"sequential_4\"\n",
      "_________________________________________________________________\n",
      "Layer (type)                 Output Shape              Param #   \n",
      "=================================================================\n",
      "dense_18 (Dense)             (None, 32)                25120     \n",
      "_________________________________________________________________\n",
      "dropout_2 (Dropout)          (None, 32)                0         \n",
      "_________________________________________________________________\n",
      "dense_19 (Dense)             (None, 16)                528       \n",
      "_________________________________________________________________\n",
      "dropout_3 (Dropout)          (None, 16)                0         \n",
      "_________________________________________________________________\n",
      "dense_20 (Dense)             (None, 10)                170       \n",
      "=================================================================\n",
      "Total params: 25,818\n",
      "Trainable params: 25,818\n",
      "Non-trainable params: 0\n",
      "_________________________________________________________________\n"
     ]
    }
   ],
   "source": [
    "### Let's do it!\n",
    "from tensorflow import keras \n",
    "from tensorflow.keras.datasets import mnist\n",
    "from tensorflow.keras.models import Sequential\n",
    "from tensorflow.keras.layers import Dense, Dropout\n",
    "\n",
    "import numpy as np\n",
    "\n",
    "mnist_model = Sequential()\n",
    "\n",
    "# Hidden\n",
    "mnist_model.add(Dense(32, input_dim=784, activation='relu'))\n",
    "mnist_model.add(Dropout(0.2))\n",
    "mnist_model.add(Dense(16, activation='relu'))\n",
    "mnist_model.add(Dropout(0.2))\n",
    "# Output Layer\n",
    "mnist_model.add(Dense(10, activation='softmax'))\n",
    "\n",
    "mnist_model.compile(loss='categorical_crossentropy',\n",
    "                    optimizer='adam', \n",
    "                    metrics=['accuracy'])\n",
    "mnist_model.summary()"
   ]
  },
  {
   "cell_type": "code",
   "execution_count": 49,
   "metadata": {},
   "outputs": [
    {
     "name": "stdout",
     "output_type": "stream",
     "text": [
      "10000/10000 [==============================] - 0s 17us/sample - loss: 0.7534 - acc: 0.7310\n",
      "acc: 73.1000006198883\n"
     ]
    }
   ],
   "source": [
    "history = mnist_model.fit(X_train, y_train, batch_size=32, epochs=epochs, validation_split=.1, verbose=0)\n",
    "scores = mnist_model.evaluate(X_test, y_test)\n",
    "print(f'{mnist_model.metrics_names[1]}: {scores[1]*100}')"
   ]
  },
  {
   "cell_type": "markdown",
   "metadata": {},
   "source": [
    "## Challenge\n",
    "\n",
    "You will apply your choice of activation function inside two Keras Seqeuntial models today. "
   ]
  }
 ],
 "metadata": {
  "colab": {
   "collapsed_sections": [],
   "name": "LS_DS_433_Keras_Lecture.ipynb",
   "provenance": [],
   "version": "0.3.2"
  },
  "kernelspec": {
   "display_name": "U4-S2-NN (Python3)",
   "language": "python",
   "name": "u4-s2-nn"
  },
  "language_info": {
   "codemirror_mode": {
    "name": "ipython",
    "version": 3
   },
   "file_extension": ".py",
   "mimetype": "text/x-python",
   "name": "python",
   "nbconvert_exporter": "python",
   "pygments_lexer": "ipython3",
   "version": "3.7.0"
  },
  "toc-autonumbering": false,
  "toc-showmarkdowntxt": false
 },
 "nbformat": 4,
 "nbformat_minor": 4
}
